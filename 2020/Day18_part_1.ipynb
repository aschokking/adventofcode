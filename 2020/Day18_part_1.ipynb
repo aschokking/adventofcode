{
 "cells": [
  {
   "cell_type": "code",
   "execution_count": 14,
   "metadata": {},
   "outputs": [],
   "source": [
    "from aocd import get_data, submit"
   ]
  },
  {
   "cell_type": "code",
   "execution_count": 15,
   "metadata": {},
   "outputs": [],
   "source": [
    "data = get_data(day=18)"
   ]
  },
  {
   "cell_type": "code",
   "execution_count": 2,
   "metadata": {},
   "outputs": [],
   "source": [
    "sample_lines = \"\"\"2 * 3 + (4 * 5) becomes 26.\n",
    "5 + (8 * 3 + 9 + 3 * 4 * 3) becomes 437.\n",
    "5 * 9 * (7 * 3 * 3 + 9 * 3 + (8 + 6 * 4)) becomes 12240.\n",
    "((2 + 4 * 9) * (6 + 9 * 8 + 6) + 6) + 2 + 4 * 2 becomes 13632.\"\"\".splitlines()\n",
    "test_cases = [\n",
    "    line.split(' becomes ')\n",
    "    for line in sample_lines\n",
    "]"
   ]
  },
  {
   "cell_type": "code",
   "execution_count": 13,
   "metadata": {},
   "outputs": [
    {
     "name": "stdout",
     "output_type": "stream",
     "text": [
      "26 should be 26\n",
      "437 should be 437\n",
      "12240 should be 12240\n",
      "13632 should be 13632\n"
     ]
    }
   ],
   "source": [
    "for expr, result_str in test_cases:\n",
    "    expected=int(result_str[:-1])\n",
    "    result = calc(expr.replace(\" \", \"\"))\n",
    "    print(f\"{result} should be {expected}\")"
   ]
  },
  {
   "cell_type": "code",
   "execution_count": 7,
   "metadata": {},
   "outputs": [],
   "source": [
    "def closing_index(expr):\n",
    "    brace_count = 0\n",
    "    for i, char in enumerate(expr):\n",
    "        if char == \"(\":\n",
    "            brace_count += 1\n",
    "        if char == \")\":\n",
    "            brace_count -= 1\n",
    "            if brace_count == 0:\n",
    "                return i\n",
    "            \n",
    "    raise Exception(f\"Could find closing brace in {expr}\")"
   ]
  },
  {
   "cell_type": "code",
   "execution_count": 12,
   "metadata": {},
   "outputs": [],
   "source": [
    "def calc(expr):\n",
    "    i = 0\n",
    "    current = None\n",
    "    #import pdb; pdb.set_trace()\n",
    "    while i < len(expr):\n",
    "        char = expr[i]\n",
    "        #print(f\"{i} of {expr}\")\n",
    "        # initialize to first value\n",
    "        if char == \"(\":\n",
    "            # find end character\n",
    "            end = i + closing_index(expr[i:])\n",
    "            sub = expr[i + 1: end]\n",
    "            current = calc(sub)\n",
    "            i = end + 1\n",
    "            continue\n",
    "        elif current == None:\n",
    "            current = int(char)\n",
    "            i += 1\n",
    "            continue      \n",
    "        elif char == \"+\":\n",
    "            if expr[i+1] == \"(\":\n",
    "                end = i + closing_index(expr[i:])\n",
    "                sub = expr[i + 2: end]\n",
    "                current += calc(sub)\n",
    "                i = end + 1\n",
    "            else:\n",
    "                current += int(expr[i+1])\n",
    "                i += 2\n",
    "        elif char == \"*\":\n",
    "            if expr[i+1] == \"(\":\n",
    "                end = i + closing_index(expr[i:])\n",
    "                sub = expr[i + 2: end]\n",
    "                current *= calc(sub)\n",
    "                i = end + 1\n",
    "            else:\n",
    "                current *= int(expr[i+1])\n",
    "                i += 2\n",
    "        else:\n",
    "            raise Exception(\"unhandled case\")\n",
    "    #print(current)\n",
    "    \n",
    "    return current\n",
    "\n",
    "    "
   ]
  },
  {
   "cell_type": "code",
   "execution_count": 9,
   "metadata": {},
   "outputs": [
    {
     "name": "stdout",
     "output_type": "stream",
     "text": [
      "> <ipython-input-8-cdcdc367e3f5>(5)calc()\n",
      "-> while i < len(expr):\n",
      "(Pdb) c\n",
      "0 of (2+2)*3\n",
      "> <ipython-input-8-cdcdc367e3f5>(5)calc()\n",
      "-> while i < len(expr):\n",
      "(Pdb) c\n",
      "0 of 2+2\n",
      "1 of 2+2\n",
      "5 of (2+2)*3\n"
     ]
    },
    {
     "data": {
      "text/plain": [
       "12"
      ]
     },
     "execution_count": 9,
     "metadata": {},
     "output_type": "execute_result"
    }
   ],
   "source": [
    "calc(\"(2+2)*3\")"
   ]
  },
  {
   "cell_type": "code",
   "execution_count": 21,
   "metadata": {},
   "outputs": [
    {
     "data": {
      "text/plain": [
       "25190263477788"
      ]
     },
     "execution_count": 21,
     "metadata": {},
     "output_type": "execute_result"
    }
   ],
   "source": [
    "sum(map(lambda x: calc(x.replace(' ', '')), data.splitlines()))"
   ]
  },
  {
   "cell_type": "code",
   "execution_count": 22,
   "metadata": {},
   "outputs": [
    {
     "name": "stderr",
     "output_type": "stream",
     "text": [
      "answer a: None\n",
      "submitting for part a\n"
     ]
    },
    {
     "name": "stdout",
     "output_type": "stream",
     "text": [
      "\u001b[32mThat's the right answer!  You are one gold star closer to saving your vacation. [Continue to Part Two]\u001b[0m\n"
     ]
    },
    {
     "data": {
      "text/plain": [
       "<Response [200]>"
      ]
     },
     "execution_count": 22,
     "metadata": {},
     "output_type": "execute_result"
    }
   ],
   "source": [
    "submit(25190263477788, day=18)"
   ]
  },
  {
   "cell_type": "code",
   "execution_count": null,
   "metadata": {},
   "outputs": [],
   "source": []
  }
 ],
 "metadata": {
  "kernelspec": {
   "display_name": "Python 3",
   "language": "python",
   "name": "python3"
  }
 },
 "nbformat": 4,
 "nbformat_minor": 4
}
