{
 "cells": [
  {
   "cell_type": "code",
   "execution_count": 170,
   "metadata": {},
   "outputs": [],
   "source": [
    "from aocd import data, submit\n",
    "from more_itertools import quantify\n",
    "from copy import deepcopy\n",
    "from itertools import chain"
   ]
  },
  {
   "cell_type": "code",
   "execution_count": 118,
   "metadata": {},
   "outputs": [],
   "source": [
    "input_lines = list(map(list, data.splitlines()))"
   ]
  },
  {
   "cell_type": "code",
   "execution_count": 169,
   "metadata": {},
   "outputs": [],
   "source": [
    "EMPTY = 'L'\n",
    "OCCUPIED = '#'\n",
    "\n",
    "LEN_X = len(input_lines[0])\n",
    "LEN_Y = len(input_lines)"
   ]
  },
  {
   "cell_type": "code",
   "execution_count": 121,
   "metadata": {},
   "outputs": [],
   "source": [
    "def is_occupied(seat_value):\n",
    "    return seat_value == OCCUPIED\n",
    "\n",
    "def count_occupied(seat_values):\n",
    "    return quantify(seat_values, is_occupied)\n",
    "\n",
    "def count_seat_area_occupied(x, y, seat_state):\n",
    "    count = 0\n",
    "    \n",
    "    if y > 0:\n",
    "        # above row\n",
    "        count += count_occupied(seat_state[y-1][max(0, x-1): min(x+2, len(seat_state[0]))])\n",
    "    # same row\n",
    "    count += count_occupied(seat_state[y][max(0, x-1): x])\n",
    "    count += count_occupied(seat_state[y][(x+1): min(x+2, len(seat_state[0]))])\n",
    "    if y < len(seat_state) -1:\n",
    "        # bottom row\n",
    "        count += count_occupied(seat_state[y+1][max(0, x-1): min(x+2, len(seat_state[0]))])\n",
    "    return count"
   ]
  },
  {
   "cell_type": "code",
   "execution_count": 124,
   "metadata": {},
   "outputs": [],
   "source": []
  },
  {
   "cell_type": "code",
   "execution_count": 151,
   "metadata": {
    "scrolled": true
   },
   "outputs": [],
   "source": [
    "def get_final_state(start, count_fn=count_seat_area_occupied, occupied_threshold=4):\n",
    "    previous_state = deepcopy(input_lines)\n",
    "    while True:\n",
    "        new_state = deepcopy(previous_state)\n",
    "        for x in range(LEN_X):\n",
    "            for y in range(LEN_Y):\n",
    "                current_value = previous_state[y][x]\n",
    "                occupied_count = count_fn(x,y, previous_state)\n",
    "                if current_value == EMPTY and occupied_count == 0:\n",
    "                    new_state[y][x] = OCCUPIED\n",
    "                elif current_value == OCCUPIED and occupied_count >= occupied_threshold:\n",
    "                    new_state[y][x] = EMPTY\n",
    "        if new_state == previous_state:\n",
    "            print(\"stable state reached\")\n",
    "            break\n",
    "        else:\n",
    "            previous_state = new_state\n",
    "    return new_state"
   ]
  },
  {
   "cell_type": "code",
   "execution_count": 152,
   "metadata": {},
   "outputs": [
    {
     "name": "stdout",
     "output_type": "stream",
     "text": [
      "stable state reached\n"
     ]
    }
   ],
   "source": [
    "final_state = get_final_state(input_lines)"
   ]
  },
  {
   "cell_type": "code",
   "execution_count": 160,
   "metadata": {},
   "outputs": [],
   "source": [
    "result = count_occupied(chain.from_iterable(final_state))"
   ]
  },
  {
   "cell_type": "code",
   "execution_count": 161,
   "metadata": {},
   "outputs": [
    {
     "name": "stdout",
     "output_type": "stream",
     "text": [
      "2427\n"
     ]
    }
   ],
   "source": [
    "print(result)"
   ]
  },
  {
   "cell_type": "code",
   "execution_count": 129,
   "metadata": {},
   "outputs": [
    {
     "name": "stderr",
     "output_type": "stream",
     "text": [
      "WARNING:aocd.post:answer a: None\n",
      "WARNING:aocd.post:submitting for part a\n"
     ]
    },
    {
     "name": "stdout",
     "output_type": "stream",
     "text": [
      "\u001b[32mThat's the right answer!  You are one gold star closer to saving your vacation. [Continue to Part Two]\u001b[0m\n"
     ]
    },
    {
     "data": {
      "text/plain": [
       "<Response [200]>"
      ]
     },
     "execution_count": 129,
     "metadata": {},
     "output_type": "execute_result"
    }
   ],
   "source": [
    "submit(result)"
   ]
  },
  {
   "cell_type": "markdown",
   "metadata": {},
   "source": [
    "# Part 2"
   ]
  },
  {
   "cell_type": "code",
   "execution_count": 133,
   "metadata": {},
   "outputs": [],
   "source": [
    "from itertools import product"
   ]
  },
  {
   "cell_type": "code",
   "execution_count": 137,
   "metadata": {},
   "outputs": [],
   "source": [
    "directions = list(filter(lambda x: x != (0,0), product([-1, 0, 1], [-1, 0, 1])))"
   ]
  },
  {
   "cell_type": "code",
   "execution_count": 162,
   "metadata": {},
   "outputs": [],
   "source": [
    "def is_occupied_los(x, y, seat_state, direction):\n",
    "    while True: \n",
    "        x += direction[0]\n",
    "        y += direction[1]\n",
    "        if x >= 0 and x < LEN_X and y >= 0 and y < LEN_Y:\n",
    "            current_value = seat_state[y][x]\n",
    "            if is_occupied(current_value):\n",
    "                return 1\n",
    "            elif current_value == EMPTY:\n",
    "                return 0\n",
    "        else:\n",
    "            return 0"
   ]
  },
  {
   "cell_type": "code",
   "execution_count": 163,
   "metadata": {},
   "outputs": [],
   "source": [
    "def count_seat_area_occupied_los(x, y, seat_state):    \n",
    "    return sum([is_occupied_los(x, y, seat_state, direction) for direction in directions])"
   ]
  },
  {
   "cell_type": "code",
   "execution_count": 164,
   "metadata": {},
   "outputs": [
    {
     "name": "stdout",
     "output_type": "stream",
     "text": [
      "stable state reached\n"
     ]
    }
   ],
   "source": [
    "final_state_2 = get_final_state(input_lines, count_seat_area_occupied_los, 5)"
   ]
  },
  {
   "cell_type": "code",
   "execution_count": 165,
   "metadata": {},
   "outputs": [],
   "source": [
    "result = count_occupied(chain.from_iterable(final_state_2))"
   ]
  },
  {
   "cell_type": "code",
   "execution_count": 166,
   "metadata": {},
   "outputs": [
    {
     "data": {
      "text/plain": [
       "2199"
      ]
     },
     "execution_count": 166,
     "metadata": {},
     "output_type": "execute_result"
    }
   ],
   "source": [
    "result"
   ]
  },
  {
   "cell_type": "code",
   "execution_count": 167,
   "metadata": {},
   "outputs": [
    {
     "name": "stderr",
     "output_type": "stream",
     "text": [
      "WARNING:aocd.post:answer a: 2427\n",
      "WARNING:aocd.post:submitting for part b (part a is already completed)\n"
     ]
    },
    {
     "name": "stdout",
     "output_type": "stream",
     "text": [
      "\u001b[32mThat's the right answer!  You are one gold star closer to saving your vacation.You have completed Day 11! You can [Shareon\n",
      "  Twitter\n",
      "Mastodon] this victory or [Return to Your Advent Calendar].\u001b[0m\n"
     ]
    },
    {
     "data": {
      "text/plain": [
       "<Response [200]>"
      ]
     },
     "execution_count": 167,
     "metadata": {},
     "output_type": "execute_result"
    }
   ],
   "source": [
    "submit(result)"
   ]
  },
  {
   "cell_type": "code",
   "execution_count": null,
   "metadata": {},
   "outputs": [],
   "source": []
  }
 ],
 "metadata": {
  "kernelspec": {
   "display_name": "Python 3",
   "language": "python",
   "name": "python3"
  },
  "language_info": {
   "codemirror_mode": {
    "name": "ipython",
    "version": 3
   },
   "file_extension": ".py",
   "mimetype": "text/x-python",
   "name": "python",
   "nbconvert_exporter": "python",
   "pygments_lexer": "ipython3",
   "version": "3.7.6"
  }
 },
 "nbformat": 4,
 "nbformat_minor": 4
}
