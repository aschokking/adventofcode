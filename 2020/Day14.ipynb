{
 "cells": [
  {
   "cell_type": "code",
   "execution_count": 1,
   "metadata": {},
   "outputs": [
    {
     "name": "stderr",
     "output_type": "stream",
     "text": [
      "2020-12-14 17:40:04,152 getting data year=2020 day=14 token=...7ce0\n",
      "2020-12-14 17:40:04,619 saving the puzzle input token=...7ce0\n"
     ]
    }
   ],
   "source": [
    "from aocd import data, submit"
   ]
  },
  {
   "cell_type": "code",
   "execution_count": 2,
   "metadata": {},
   "outputs": [],
   "source": [
    "sample_data = \"\"\"mask = XXXXXXXXXXXXXXXXXXXXXXXXXXXXX1XXXX0X\n",
    "mem[8] = 11\n",
    "mem[7] = 101\n",
    "mem[8] = 0\"\"\""
   ]
  },
  {
   "cell_type": "code",
   "execution_count": 77,
   "metadata": {},
   "outputs": [],
   "source": [
    "import re\n",
    "def parse_data(data):\n",
    "    lines = data.splitlines()\n",
    "    \n",
    "    results = []\n",
    "    mask = None\n",
    "    instructions = []\n",
    "    for line in lines:\n",
    "        if re.match('mask.*', line):\n",
    "            if mask:\n",
    "                results.append((mask, instructions))\n",
    "            instructions = []\n",
    "            mask = line.split(' = ')[-1]\n",
    "        else:\n",
    "            address, value = re.match(\"mem\\[(\\d+)\\] = (\\d+)\", line).groups()\n",
    "            instructions.append((int(address), int(value)))\n",
    "    # add last entry\n",
    "    results.append((mask, instructions))\n",
    "    \n",
    "    return results"
   ]
  },
  {
   "cell_type": "markdown",
   "metadata": {},
   "source": [
    "# Day 1"
   ]
  },
  {
   "cell_type": "code",
   "execution_count": 78,
   "metadata": {},
   "outputs": [],
   "source": [
    "from collections import Counter\n",
    "from itertools import zip_longest"
   ]
  },
  {
   "cell_type": "code",
   "execution_count": 79,
   "metadata": {},
   "outputs": [],
   "source": [
    "instruction_groups = parse_data(data)"
   ]
  },
  {
   "cell_type": "code",
   "execution_count": null,
   "metadata": {},
   "outputs": [],
   "source": []
  },
  {
   "cell_type": "code",
   "execution_count": 80,
   "metadata": {},
   "outputs": [],
   "source": [
    "def apply_mask(mask, value):\n",
    "    result = \"\"\n",
    "    bit_string = bin(value)[2:] # drop the 0b prefix\n",
    "    for mask, bit in zip_longest(mask[::-1], bit_string[::-1], fillvalue=\"0\"):\n",
    "        if mask == \"X\":\n",
    "            result = bit + result\n",
    "        else:\n",
    "            result = mask + result\n",
    "    return int(result, 2)"
   ]
  },
  {
   "cell_type": "code",
   "execution_count": 81,
   "metadata": {},
   "outputs": [],
   "source": [
    "def run_program(instructions_groups):\n",
    "    memory = Counter()\n",
    "    for mask, instructions in instruction_groups:\n",
    "        for address, value in instructions:\n",
    "            memory[address] = apply_mask(mask, value)\n",
    "    return memory"
   ]
  },
  {
   "cell_type": "code",
   "execution_count": 84,
   "metadata": {},
   "outputs": [],
   "source": [
    "memory = run_program(instruction_groups)"
   ]
  },
  {
   "cell_type": "code",
   "execution_count": 85,
   "metadata": {},
   "outputs": [
    {
     "data": {
      "text/plain": [
       "15514035145260"
      ]
     },
     "execution_count": 85,
     "metadata": {},
     "output_type": "execute_result"
    }
   ],
   "source": [
    "sum(memory.values())"
   ]
  },
  {
   "cell_type": "code",
   "execution_count": 86,
   "metadata": {},
   "outputs": [
    {
     "name": "stderr",
     "output_type": "stream",
     "text": [
      "2020-12-15 07:46:56,365 answer a: None\n",
      "2020-12-15 07:46:56,367 submitting for part a\n",
      "2020-12-15 07:46:56,368 posting 15514035145260 to https://adventofcode.com/2020/day/14/answer (part a) token=...7ce0\n",
      "2020-12-15 07:46:57,277 saving the correct answer for 2020/14 part a: 15514035145260\n"
     ]
    },
    {
     "name": "stdout",
     "output_type": "stream",
     "text": [
      "\u001b[32mThat's the right answer!  You are one gold star closer to saving your vacation. [Continue to Part Two]\u001b[0m\n"
     ]
    },
    {
     "data": {
      "text/plain": [
       "<Response [200]>"
      ]
     },
     "execution_count": 86,
     "metadata": {},
     "output_type": "execute_result"
    }
   ],
   "source": [
    "submit(sum(memory.values()))"
   ]
  },
  {
   "cell_type": "markdown",
   "metadata": {},
   "source": [
    "# Part 2"
   ]
  },
  {
   "cell_type": "markdown",
   "metadata": {},
   "source": [
    "```\n",
    "If the bitmask bit is 0, the corresponding memory address bit is unchanged.\n",
    "If the bitmask bit is 1, the corresponding memory address bit is overwritten with 1.\n",
    "If the bitmask bit is X, the corresponding memory address bit is floating.\n",
    "```"
   ]
  },
  {
   "cell_type": "code",
   "execution_count": 87,
   "metadata": {},
   "outputs": [],
   "source": [
    "from itertools import chain"
   ]
  },
  {
   "cell_type": "code",
   "execution_count": 105,
   "metadata": {},
   "outputs": [],
   "source": [
    "def apply_mask_2(mask, value):\n",
    "    results = [\"\"]\n",
    "    bit_string = bin(value)[2:] # drop the 0b prefix\n",
    "    for mask, bit in zip_longest(mask[::-1], bit_string[::-1], fillvalue=\"0\"):\n",
    "\n",
    "        if mask == \"0\":\n",
    "            results = list(map(lambda x: bit + x, results))\n",
    "        elif mask == \"1\":\n",
    "            results = list(map(lambda x: \"1\" + x, results))\n",
    "        else:\n",
    "            # permuate results\n",
    "            results = list(chain.from_iterable(map(lambda x: (\"1\" + x, \"0\" + x), results)))\n",
    "    return list(map(lambda x: int(x, 2), results))"
   ]
  },
  {
   "cell_type": "code",
   "execution_count": 106,
   "metadata": {},
   "outputs": [],
   "source": [
    "def run_program_2(instructions_groups):\n",
    "    memory = Counter()\n",
    "    for mask, instructions in instruction_groups:\n",
    "        for address, value in instructions:\n",
    "            updated_addresses = apply_mask_2(mask, address)\n",
    "            for updated_address in updated_addresses:\n",
    "                memory[updated_address] = value\n",
    "    return memory"
   ]
  },
  {
   "cell_type": "code",
   "execution_count": 107,
   "metadata": {},
   "outputs": [],
   "source": [
    "memory = run_program_2(instruction_groups)"
   ]
  },
  {
   "cell_type": "code",
   "execution_count": 108,
   "metadata": {},
   "outputs": [
    {
     "data": {
      "text/plain": [
       "3926790061594"
      ]
     },
     "execution_count": 108,
     "metadata": {},
     "output_type": "execute_result"
    }
   ],
   "source": [
    "sum(memory.values())"
   ]
  },
  {
   "cell_type": "code",
   "execution_count": 109,
   "metadata": {},
   "outputs": [
    {
     "name": "stderr",
     "output_type": "stream",
     "text": [
      "2020-12-15 07:57:44,277 answer a: 15514035145260\n",
      "2020-12-15 07:57:44,277 submitting for part b (part a is already completed)\n",
      "2020-12-15 07:57:44,280 posting 3926790061594 to https://adventofcode.com/2020/day/14/answer (part b) token=...7ce0\n",
      "2020-12-15 07:57:45,032 saving the correct answer for 2020/14 part b: 3926790061594\n"
     ]
    },
    {
     "name": "stdout",
     "output_type": "stream",
     "text": [
      "\u001b[32mThat's the right answer!  You are one gold star closer to saving your vacation.You have completed Day 14! You can [Shareon\n",
      "  Twitter\n",
      "Mastodon] this victory or [Return to Your Advent Calendar].\u001b[0m\n"
     ]
    },
    {
     "data": {
      "text/plain": [
       "<Response [200]>"
      ]
     },
     "execution_count": 109,
     "metadata": {},
     "output_type": "execute_result"
    }
   ],
   "source": [
    "submit(sum(memory.values()))"
   ]
  },
  {
   "cell_type": "code",
   "execution_count": null,
   "metadata": {},
   "outputs": [],
   "source": []
  }
 ],
 "metadata": {
  "kernelspec": {
   "display_name": "Python 3",
   "language": "python",
   "name": "python3"
  },
  "language_info": {
   "codemirror_mode": {
    "name": "ipython",
    "version": 3
   },
   "file_extension": ".py",
   "mimetype": "text/x-python",
   "name": "python",
   "nbconvert_exporter": "python",
   "pygments_lexer": "ipython3",
   "version": "3.7.1"
  }
 },
 "nbformat": 4,
 "nbformat_minor": 2
}
