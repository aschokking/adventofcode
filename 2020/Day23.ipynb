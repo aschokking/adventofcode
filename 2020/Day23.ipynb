{
 "cells": [
  {
   "cell_type": "code",
   "execution_count": 1,
   "metadata": {},
   "outputs": [],
   "source": [
    "from aocd import data, submit\n",
    "from util import *\n",
    "from dataclasses import dataclass"
   ]
  },
  {
   "cell_type": "code",
   "execution_count": 6,
   "metadata": {},
   "outputs": [
    {
     "data": {
      "text/plain": [
       "'364289715'"
      ]
     },
     "execution_count": 6,
     "metadata": {},
     "output_type": "execute_result"
    }
   ],
   "source": [
    "data"
   ]
  },
  {
   "cell_type": "code",
   "execution_count": 154,
   "metadata": {},
   "outputs": [],
   "source": [
    "class Node():\n",
    "    def __init__(self, value: int, cw = None, ccw = None):\n",
    "        self.value = value\n",
    "        if cw:\n",
    "            self.cw = cw\n",
    "            self.ccw = ccw\n",
    "        else:\n",
    "            self.cw = self\n",
    "            self.ccw = self\n",
    "        \n",
    "    def insert_after(self, node):\n",
    "        \"\"\" Inserts the chain started at node after self \"\"\"\n",
    "        assert self.find_value(node.value) == None, \"Cant double up values, mistakes were made\"\n",
    "        \n",
    "        old_cw = self.cw\n",
    "        self.cw = node\n",
    "        old_cw.ccw = node.ccw\n",
    "        node.ccw.cw = old_cw\n",
    "        node.ccw = self\n",
    "        \n",
    "    def remove_next_n(self, n: int) -> Node:\n",
    "        assert n > 0\n",
    "        start = self.cw\n",
    "        end = start\n",
    "        # identify last node in to be removed, inclusive\n",
    "        for i in range(n - 1):\n",
    "            end = end.cw\n",
    "        \n",
    "        self.cw = end.cw\n",
    "        end.ccw = self\n",
    "        \n",
    "        start.ccw = end\n",
    "        end.cw = start\n",
    "        \n",
    "        return start\n",
    "    \n",
    "    def find_next_lowest_value(self, max_value = 9) -> Node:\n",
    "        mod = (max_value + 1)\n",
    "        target = (self.value - 1) % mod\n",
    "        while True:\n",
    "            node = self.find_value(target)\n",
    "            if node:\n",
    "                return node\n",
    "            else:\n",
    "                target = (target - 1) % mod\n",
    "        \n",
    "    def find_value(self, value) -> Optional[Node]:\n",
    "        current = self\n",
    "        while True:\n",
    "            if current.value == value:\n",
    "                return current\n",
    "            current = current.cw\n",
    "            if current == self:\n",
    "                # we looped and never found the value\n",
    "                return None\n",
    "            \n",
    "        \n",
    "    def to_string(self):\n",
    "        output = [self.value]\n",
    "        current = self.cw\n",
    "        while current != self:\n",
    "            output.append(current.value)\n",
    "            current = current.cw\n",
    "        return \", \".join(mapl(str, output))\n",
    "    \n",
    "    def __repr__(self):\n",
    "        return f\"{self.ccw.value} <- {self.value} -> {self.cw.value}\"\n"
   ]
  },
  {
   "cell_type": "code",
   "execution_count": 155,
   "metadata": {},
   "outputs": [],
   "source": [
    "def parse_data(data):\n",
    "    numbers = mapl(int, list(data))\n",
    "    \n",
    "    start = Node(value=numbers[0])\n",
    "    current = start\n",
    "    # build a list of nodes\n",
    "    for i in range(1, len(numbers)):\n",
    "        current.insert_after(Node(value=numbers[i]))\n",
    "        current = current.cw\n",
    "    \n",
    "    return start"
   ]
  },
  {
   "cell_type": "code",
   "execution_count": 117,
   "metadata": {},
   "outputs": [],
   "source": [
    "sample_data = \"389125467\""
   ]
  },
  {
   "cell_type": "code",
   "execution_count": 182,
   "metadata": {},
   "outputs": [],
   "source": [
    "def apply_round(current, max_value=9):    \n",
    "    next_3 = current.remove_next_n(3)\n",
    "    destination = current.find_next_lowest_value(max_value)\n",
    "    destination.insert_after(next_3)\n",
    "    return current.cw\n",
    "    "
   ]
  },
  {
   "cell_type": "code",
   "execution_count": 130,
   "metadata": {},
   "outputs": [
    {
     "name": "stdout",
     "output_type": "stream",
     "text": [
      "457321986\n"
     ]
    }
   ],
   "source": [
    "current = parse_data(data)\n",
    "for i in range(100):\n",
    "    current = apply_round(current)\n",
    "print(current.to_string())\n",
    "\n",
    "one = current.find_value(1)\n",
    "result = one.to_string()[1:]\n"
   ]
  },
  {
   "cell_type": "code",
   "execution_count": 131,
   "metadata": {},
   "outputs": [
    {
     "data": {
      "text/plain": [
       "'98645732'"
      ]
     },
     "execution_count": 131,
     "metadata": {},
     "output_type": "execute_result"
    }
   ],
   "source": [
    "result"
   ]
  },
  {
   "cell_type": "code",
   "execution_count": 132,
   "metadata": {},
   "outputs": [
    {
     "name": "stderr",
     "output_type": "stream",
     "text": [
      "answer a: None\n",
      "submitting for part a\n"
     ]
    },
    {
     "name": "stdout",
     "output_type": "stream",
     "text": [
      "\u001b[32mThat's the right answer!  You are one gold star closer to saving your vacation. [Continue to Part Two]\u001b[0m\n"
     ]
    },
    {
     "data": {
      "text/plain": [
       "<Response [200]>"
      ]
     },
     "execution_count": 132,
     "metadata": {},
     "output_type": "execute_result"
    }
   ],
   "source": [
    "submit(result)"
   ]
  },
  {
   "cell_type": "markdown",
   "metadata": {},
   "source": [
    "# Part 2"
   ]
  },
  {
   "cell_type": "code",
   "execution_count": 135,
   "metadata": {},
   "outputs": [],
   "source": [
    "from tqdm import tqdm, trange"
   ]
  },
  {
   "cell_type": "code",
   "execution_count": null,
   "metadata": {},
   "outputs": [],
   "source": []
  },
  {
   "cell_type": "code",
   "execution_count": null,
   "metadata": {},
   "outputs": [],
   "source": [
    "ROUNDS = 10_000_000"
   ]
  },
  {
   "cell_type": "markdown",
   "metadata": {},
   "source": [
    "It's impossible to run the full simulation\n",
    "\n",
    "Just need to figure out where `[1]` ends up.\n",
    "\n",
    "We know where 1 ends up after the first 10 are processed.\n",
    "\n",
    "The other 1M being in order means what happens to them should be predictable.\n",
    "\n",
    "Then can figure out what happens at the end of the list, what gets pushed over into the first 10?"
   ]
  },
  {
   "cell_type": "markdown",
   "metadata": {},
   "source": [
    "#### observations\n",
    "\n",
    "- We advance 4 positions through the sequence each time (next 3 and then +1 spot)\n",
    "- Since 1 is the lowest number, it's the tipping point where we wrap to the 1M number\n",
    "  - We insert infront of 1 when 1M is current\n",
    "  - What gets inserted infront of 1 each time? Every 4th number?\n"
   ]
  },
  {
   "cell_type": "code",
   "execution_count": 193,
   "metadata": {},
   "outputs": [
    {
     "name": "stderr",
     "output_type": "stream",
     "text": [
      "\n",
      "100%|██████████| 11/11 [00:00<00:00, 52849.19it/s]\n"
     ]
    }
   ],
   "source": [
    "\n",
    "# current = parse_data(data)\n",
    "current = parse_data(\"389125467\")\n",
    "# current = Node(1)\n",
    "for i in trange(10, 21):\n",
    "    current.ccw.insert_after(Node(value=i))"
   ]
  },
  {
   "cell_type": "code",
   "execution_count": 194,
   "metadata": {},
   "outputs": [
    {
     "name": "stdout",
     "output_type": "stream",
     "text": [
      "3, 8, 9, 1, 2, 5, 4, 6, 7, 10, 11, 12, 13, 14, 15, 16, 17, 18, 19, 20\n"
     ]
    }
   ],
   "source": [
    "print(current.to_string())"
   ]
  },
  {
   "cell_type": "code",
   "execution_count": 195,
   "metadata": {},
   "outputs": [
    {
     "name": "stdout",
     "output_type": "stream",
     "text": [
      "3, 8, 9, 1, 2, 5, 4, 6, 7, 10, 11, 12, 13, 14, 15, 16, 17, 18, 19, 20\n",
      "0\n",
      "2, 8, 9, 1, 5, 4, 6, 7, 10, 11, 12, 13, 14, 15, 16, 17, 18, 19, 20, 3\n",
      "1\n",
      "5, 4, 6, 7, 10, 11, 12, 13, 14, 15, 16, 17, 18, 19, 20, 8, 9, 1, 3, 2\n",
      "2\n",
      "10, 11, 12, 13, 14, 15, 16, 17, 18, 19, 20, 8, 9, 1, 3, 4, 6, 7, 2, 5\n",
      "3\n",
      "14, 15, 16, 17, 18, 19, 20, 8, 9, 11, 12, 13, 1, 3, 4, 6, 7, 2, 5, 10\n",
      "4\n",
      "18, 19, 20, 8, 9, 11, 12, 13, 15, 16, 17, 1, 3, 4, 6, 7, 2, 5, 10, 14\n",
      "5\n",
      "9, 11, 12, 13, 15, 16, 17, 19, 20, 8, 1, 3, 4, 6, 7, 2, 5, 10, 14, 18\n",
      "6\n",
      "15, 16, 17, 19, 20, 8, 11, 12, 13, 1, 3, 4, 6, 7, 2, 5, 10, 14, 18, 9\n",
      "7\n",
      "20, 8, 11, 12, 13, 1, 3, 4, 6, 7, 2, 5, 10, 14, 16, 17, 19, 18, 9, 15\n",
      "8\n",
      "13, 1, 3, 4, 6, 7, 2, 5, 10, 14, 16, 17, 19, 8, 11, 12, 18, 9, 15, 20\n",
      "9\n",
      "6, 7, 2, 5, 10, 14, 16, 17, 19, 8, 11, 12, 1, 3, 4, 18, 9, 15, 20, 13\n",
      "10\n",
      "10, 14, 16, 17, 19, 8, 11, 12, 1, 3, 4, 7, 2, 5, 18, 9, 15, 20, 13, 6\n",
      "11\n",
      "19, 8, 11, 12, 1, 3, 4, 7, 2, 5, 18, 9, 14, 16, 17, 15, 20, 13, 6, 10\n",
      "12\n",
      "1, 3, 4, 7, 2, 5, 18, 8, 11, 12, 9, 14, 16, 17, 15, 20, 13, 6, 10, 19\n",
      "13\n",
      "2, 5, 18, 8, 11, 12, 9, 14, 16, 17, 15, 20, 3, 4, 7, 13, 6, 10, 19, 1\n",
      "14\n",
      "11, 12, 9, 14, 16, 17, 15, 20, 3, 4, 7, 13, 6, 10, 19, 1, 5, 18, 8, 2\n",
      "15\n",
      "16, 17, 15, 20, 3, 4, 7, 13, 6, 10, 12, 9, 14, 19, 1, 5, 18, 8, 2, 11\n",
      "16\n",
      "3, 4, 7, 13, 6, 10, 12, 9, 14, 17, 15, 20, 19, 1, 5, 18, 8, 2, 11, 16\n",
      "17\n",
      "6, 10, 12, 9, 14, 17, 15, 20, 19, 1, 5, 18, 8, 2, 4, 7, 13, 11, 16, 3\n",
      "18\n",
      "14, 17, 15, 20, 19, 1, 5, 10, 12, 9, 18, 8, 2, 4, 7, 13, 11, 16, 3, 6\n",
      "19\n",
      "19, 1, 5, 10, 12, 9, 18, 8, 2, 4, 7, 13, 17, 15, 20, 11, 16, 3, 6, 14\n",
      "20\n",
      "12, 9, 18, 1, 5, 10, 8, 2, 4, 7, 13, 17, 15, 20, 11, 16, 3, 6, 14, 19\n",
      "21\n",
      "5, 10, 8, 2, 4, 7, 13, 17, 15, 20, 11, 9, 18, 1, 16, 3, 6, 14, 19, 12\n",
      "22\n",
      "4, 10, 8, 2, 7, 13, 17, 15, 20, 11, 9, 18, 1, 16, 3, 6, 14, 19, 12, 5\n",
      "23\n",
      "7, 13, 17, 15, 20, 11, 9, 18, 1, 16, 3, 10, 8, 2, 6, 14, 19, 12, 5, 4\n",
      "24\n",
      "20, 11, 9, 18, 1, 16, 3, 10, 8, 2, 6, 13, 17, 15, 14, 19, 12, 5, 4, 7\n",
      "25\n",
      "1, 16, 3, 10, 8, 2, 6, 13, 17, 15, 14, 19, 11, 9, 18, 12, 5, 4, 7, 20\n",
      "26\n",
      "8, 2, 6, 13, 17, 15, 14, 19, 11, 9, 18, 12, 5, 4, 7, 20, 16, 3, 10, 1\n",
      "27\n",
      "17, 15, 14, 19, 11, 9, 18, 12, 5, 4, 7, 2, 6, 13, 20, 16, 3, 10, 1, 8\n",
      "28\n",
      "11, 9, 18, 12, 5, 4, 7, 2, 6, 13, 20, 16, 15, 14, 19, 3, 10, 1, 8, 17\n",
      "29\n",
      "5, 4, 7, 2, 6, 13, 20, 16, 15, 14, 19, 3, 10, 9, 18, 12, 1, 8, 17, 11\n",
      "30\n",
      "6, 13, 20, 16, 15, 14, 19, 3, 4, 7, 2, 10, 9, 18, 12, 1, 8, 17, 11, 5\n",
      "31\n",
      "15, 14, 19, 3, 4, 7, 2, 10, 9, 18, 12, 1, 8, 17, 11, 5, 13, 20, 16, 6\n",
      "32\n",
      "4, 7, 2, 10, 9, 18, 12, 1, 8, 17, 11, 5, 13, 14, 19, 3, 20, 16, 6, 15\n",
      "33\n",
      "9, 18, 12, 1, 8, 17, 11, 5, 13, 14, 19, 3, 7, 2, 10, 20, 16, 6, 15, 4\n",
      "34\n",
      "8, 18, 12, 1, 17, 11, 5, 13, 14, 19, 3, 7, 2, 10, 20, 16, 6, 15, 4, 9\n",
      "35\n",
      "17, 11, 5, 13, 14, 19, 3, 7, 18, 12, 1, 2, 10, 20, 16, 6, 15, 4, 9, 8\n",
      "36\n",
      "14, 19, 3, 7, 18, 12, 1, 2, 10, 20, 16, 11, 5, 13, 6, 15, 4, 9, 8, 17\n",
      "37\n",
      "18, 12, 1, 2, 10, 20, 16, 11, 5, 13, 19, 3, 7, 6, 15, 4, 9, 8, 17, 14\n",
      "38\n",
      "10, 20, 16, 11, 5, 13, 19, 3, 7, 6, 15, 4, 9, 8, 17, 12, 1, 2, 14, 18\n",
      "39\n"
     ]
    }
   ],
   "source": [
    "for i in range(40):\n",
    "    print(current.to_string())\n",
    "    print(f\"{i}\")\n",
    "    current = apply_round(current, max_value=20)\n"
   ]
  },
  {
   "cell_type": "code",
   "execution_count": 196,
   "metadata": {},
   "outputs": [
    {
     "data": {
      "text/plain": [
       "10"
      ]
     },
     "execution_count": 196,
     "metadata": {},
     "output_type": "execute_result"
    }
   ],
   "source": [
    "(10 + 4 * 10_000_000) % 1_000_000"
   ]
  },
  {
   "cell_type": "code",
   "execution_count": null,
   "metadata": {},
   "outputs": [],
   "source": []
  }
 ],
 "metadata": {
  "kernelspec": {
   "display_name": "Python 3",
   "language": "python",
   "name": "python3"
  },
  "language_info": {
   "codemirror_mode": {
    "name": "ipython",
    "version": 3
   },
   "file_extension": ".py",
   "mimetype": "text/x-python",
   "name": "python",
   "nbconvert_exporter": "python",
   "pygments_lexer": "ipython3",
   "version": "3.7.6"
  }
 },
 "nbformat": 4,
 "nbformat_minor": 4
}
