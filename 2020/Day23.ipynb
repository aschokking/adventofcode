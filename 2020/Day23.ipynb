{
 "cells": [
  {
   "cell_type": "code",
   "execution_count": 28,
   "metadata": {},
   "outputs": [],
   "source": [
    "from aocd import get_data, submit\n",
    "from util import *\n",
    "from dataclasses import dataclass\n",
    "%load_ext ipython_unittest"
   ]
  },
  {
   "cell_type": "code",
   "execution_count": 2,
   "metadata": {},
   "outputs": [],
   "source": [
    "data = get_data(day=23)"
   ]
  },
  {
   "cell_type": "code",
   "execution_count": 67,
   "metadata": {},
   "outputs": [],
   "source": [
    "class Node():\n",
    "    def __init__(self, value: int):\n",
    "        self.value = value\n",
    "        self.cw = self\n",
    "        self.ccw = self\n",
    "\n",
    "    def insert_after(self, node):\n",
    "        \"\"\" Inserts the chain started at node after self \"\"\"\n",
    "        # assert self.find_value(node.value) == None, \"Cant double up values, mistakes were made\"\n",
    "        \n",
    "        old_cw = self.cw\n",
    "        self.cw = node\n",
    "        old_cw.ccw = node.ccw\n",
    "        node.ccw.cw = old_cw\n",
    "        node.ccw = self\n",
    "        \n",
    "    def remove_next_n(self, n: int) -> 'Node':\n",
    "        assert n > 0\n",
    "        start = self.cw # first node to be removed\n",
    "        end = start # last node to be removed\n",
    "        # identify last node in to be removed, inclusive\n",
    "        for i in range(n - 1):\n",
    "            end = end.cw\n",
    "        \n",
    "        self.cw = end.cw # set next of original to whatever was after the end\n",
    "        end.cw.ccw = self # complete the back direction\n",
    "            \n",
    "        start.ccw = end # and make the removed sequence a loop\n",
    "        end.cw = start\n",
    "        \n",
    "        return start\n",
    "    \n",
    "    def find_next_lowest_value(self, key_map, ignore_values, max_value = 9) -> 'Node':\n",
    "        mod = (max_value + 1)\n",
    "        target = (self.value - 1) % mod\n",
    "        while True:\n",
    "            node = key_map.get(target) if target not in ignore_values else None\n",
    "            if node:\n",
    "                return node\n",
    "            else:\n",
    "                target = (target - 1) % mod\n",
    "        \n",
    "    def find_value(self, value) -> Optional['Node']:\n",
    "        current = self\n",
    "        while True:\n",
    "            if current.value == value:\n",
    "                return current\n",
    "            current = current.cw\n",
    "            if current == self:\n",
    "                # we looped and never found the value\n",
    "                return None\n",
    "            \n",
    "        \n",
    "    def to_string(self):\n",
    "        output = [self.value]\n",
    "        current = self.cw\n",
    "        while current != self:\n",
    "            output.append(current.value)\n",
    "            current = current.cw\n",
    "        return \", \".join(mapl(str, output))\n",
    "    \n",
    "    def take(self, n) -> List[int]:\n",
    "        output = []\n",
    "        current = self\n",
    "        for i in range(n):\n",
    "            output.append(current.value)\n",
    "            current = current.cw\n",
    "        return output\n",
    "    \n",
    "    def __repr__(self):\n",
    "        return f\"{self.ccw.value} <- {self.value} -> {self.cw.value}\"\n"
   ]
  },
  {
   "cell_type": "code",
   "execution_count": 68,
   "metadata": {},
   "outputs": [
    {
     "data": {
      "application/unittest.status+json": {
       "color": "yellow",
       "message": "",
       "previous": 0
      },
      "text/plain": []
     },
     "metadata": {},
     "output_type": "display_data"
    },
    {
     "data": {
      "application/unittest.status+json": {
       "color": "lightgreen",
       "message": "..\n----------------------------------------------------------------------\nRan 2 tests in 0.000s\n\nOK\n",
       "previous": 0
      },
      "text/plain": [
       "Success"
      ]
     },
     "metadata": {},
     "output_type": "display_data"
    },
    {
     "name": "stdout",
     "output_type": "stream",
     "text": [
      "..\n",
      "----------------------------------------------------------------------\n",
      "Ran 2 tests in 0.000s\n",
      "\n",
      "OK\n"
     ]
    },
    {
     "data": {
      "text/plain": [
       "<unittest.runner.TextTestResult run=2 errors=0 failures=0>"
      ]
     },
     "execution_count": 68,
     "metadata": {},
     "output_type": "execute_result"
    }
   ],
   "source": [
    "%%unittest_testcase\n",
    "def test_insert_1(self):\n",
    "    current = Node(1)\n",
    "    target = Node(2)\n",
    "    current.insert_after(target)\n",
    "    self.assertEqual(current.cw, target)\n",
    "    self.assertEqual(current.ccw, target)\n",
    "    self.assertEqual(target.cw, current)\n",
    "    self.assertEqual(target.ccw, current)\n",
    "    \n",
    "def test_insert_3(self):\n",
    "    current = Node(1)\n",
    "    old_next = Node(4)\n",
    "    current.insert_after(old_next)\n",
    "    \n",
    "    start = Node(1)\n",
    "    start.insert_after(Node(2))\n",
    "    end = Node(3)\n",
    "    start.cw.insert_after(end)\n",
    "    \n",
    "    current.insert_after(start)\n",
    "    self.assertEqual(current.cw, start)\n",
    "    self.assertEqual(current.ccw, old_next)\n",
    "    self.assertEqual(end.cw, old_next)\n",
    "    self.assertEqual(start.ccw, current)\n",
    "    \n",
    "    start.take(4) == list(range(1,5))"
   ]
  },
  {
   "cell_type": "code",
   "execution_count": 69,
   "metadata": {},
   "outputs": [],
   "source": [
    "def parse_data(data):\n",
    "    numbers = mapl(int, list(data))\n",
    "    key_map = {}\n",
    "    \n",
    "    start = Node(value=numbers[0])\n",
    "    key_map[start.value] = start\n",
    "    current = start\n",
    "    # build a list of nodes\n",
    "    for i in range(1, len(numbers)):\n",
    "        node = Node(value=numbers[i])\n",
    "        key_map[node.value] = node\n",
    "        current.insert_after(node)\n",
    "        current = current.cw\n",
    "    \n",
    "    return start, key_map"
   ]
  },
  {
   "cell_type": "code",
   "execution_count": 70,
   "metadata": {},
   "outputs": [],
   "source": [
    "sample_data = \"389125467\""
   ]
  },
  {
   "cell_type": "code",
   "execution_count": 71,
   "metadata": {},
   "outputs": [],
   "source": [
    "def apply_round(current, key_map, max_value=9):\n",
    "    next_3 = current.remove_next_n(3)\n",
    "    values = set(next_3.take(3))\n",
    "    destination = current.find_next_lowest_value(key_map, values, max_value)\n",
    "    \n",
    "    destination.insert_after(next_3)\n",
    "    return current.cw\n",
    "    "
   ]
  },
  {
   "cell_type": "code",
   "execution_count": 86,
   "metadata": {
    "scrolled": true
   },
   "outputs": [],
   "source": [
    "current, key_map = parse_data(data)\n",
    "for i in range(1, 101):\n",
    "    # print(f\"{i}: {current.to_string()}\")\n",
    "    current = apply_round(current, key_map, max_value=9)\n",
    "    \n",
    "\n",
    "one = key_map[1]\n",
    "result = one.take(9)[1:]\n",
    "result = \"\".join(mapl(str, result))"
   ]
  },
  {
   "cell_type": "code",
   "execution_count": 87,
   "metadata": {},
   "outputs": [
    {
     "data": {
      "text/plain": [
       "'98645732'"
      ]
     },
     "execution_count": 87,
     "metadata": {},
     "output_type": "execute_result"
    }
   ],
   "source": [
    "result"
   ]
  },
  {
   "cell_type": "code",
   "execution_count": 85,
   "metadata": {},
   "outputs": [
    {
     "name": "stdout",
     "output_type": "stream",
     "text": [
      "\u001b[33mYou don't seem to be solving the right level.  Did you already complete it? [Return to Day 23]\u001b[0m\n"
     ]
    },
    {
     "data": {
      "text/plain": [
       "<Response [200]>"
      ]
     },
     "execution_count": 85,
     "metadata": {},
     "output_type": "execute_result"
    }
   ],
   "source": [
    "submit(result, day=23, part='a')"
   ]
  },
  {
   "cell_type": "markdown",
   "metadata": {},
   "source": [
    "# Part 2"
   ]
  },
  {
   "cell_type": "code",
   "execution_count": 88,
   "metadata": {},
   "outputs": [],
   "source": [
    "from tqdm import tqdm, trange"
   ]
  },
  {
   "cell_type": "code",
   "execution_count": 91,
   "metadata": {},
   "outputs": [],
   "source": [
    "ROUNDS = 10_000_000\n",
    "MAX_VALUE = 1_000_000"
   ]
  },
  {
   "cell_type": "code",
   "execution_count": 122,
   "metadata": {},
   "outputs": [
    {
     "name": "stderr",
     "output_type": "stream",
     "text": [
      "100%|██████████| 999991/999991 [00:08<00:00, 114469.77it/s]\n"
     ]
    }
   ],
   "source": [
    "# Build up giant list\n",
    "current, key_map = parse_data(data)\n",
    "for i in trange(10, MAX_VALUE + 1):\n",
    "    node = Node(i)\n",
    "    key_map[i] = node\n",
    "    current.ccw.insert_after(node)\n"
   ]
  },
  {
   "cell_type": "code",
   "execution_count": 123,
   "metadata": {},
   "outputs": [
    {
     "name": "stderr",
     "output_type": "stream",
     "text": [
      "100%|██████████| 10000000/10000000 [00:52<00:00, 191857.57it/s]\n"
     ]
    }
   ],
   "source": [
    "for i in trange(ROUNDS):\n",
    "    # print(f\"{i}: {current.to_string()}\")\n",
    "    current = apply_round(current, key_map, max_value=MAX_VALUE)\n",
    "\n",
    "one = key_map[1]"
   ]
  },
  {
   "cell_type": "code",
   "execution_count": 124,
   "metadata": {},
   "outputs": [
    {
     "data": {
      "text/plain": [
       "[1, 929588, 741727]"
      ]
     },
     "execution_count": 124,
     "metadata": {},
     "output_type": "execute_result"
    }
   ],
   "source": [
    "one.take(3)"
   ]
  },
  {
   "cell_type": "code",
   "execution_count": 125,
   "metadata": {},
   "outputs": [],
   "source": [
    "import numpy as np"
   ]
  },
  {
   "cell_type": "code",
   "execution_count": 126,
   "metadata": {},
   "outputs": [],
   "source": [
    "result = np.product(one.take(3)[1:])"
   ]
  },
  {
   "cell_type": "code",
   "execution_count": 127,
   "metadata": {},
   "outputs": [
    {
     "data": {
      "text/plain": [
       "689500518476"
      ]
     },
     "execution_count": 127,
     "metadata": {},
     "output_type": "execute_result"
    }
   ],
   "source": [
    "result"
   ]
  },
  {
   "cell_type": "code",
   "execution_count": 128,
   "metadata": {},
   "outputs": [
    {
     "name": "stderr",
     "output_type": "stream",
     "text": [
      "answer a: 98645732\n",
      "submitting for part b (part a is already completed)\n"
     ]
    },
    {
     "name": "stdout",
     "output_type": "stream",
     "text": [
      "\u001b[32mThat's the right answer!  You are one gold star closer to saving your vacation.You have completed Day 23! You can [Shareon\n",
      "  Twitter\n",
      "Mastodon] this victory or [Return to Your Advent Calendar].\u001b[0m\n"
     ]
    },
    {
     "data": {
      "text/plain": [
       "<Response [200]>"
      ]
     },
     "execution_count": 128,
     "metadata": {},
     "output_type": "execute_result"
    }
   ],
   "source": [
    "submit(result, day=23)"
   ]
  },
  {
   "cell_type": "markdown",
   "metadata": {},
   "source": [
    "It's impossible to run the full simulation?\n",
    "\n",
    "Just need to figure out where `[1]` ends up.\n",
    "\n",
    "We know where 1 ends up after the first 10 are processed.\n",
    "\n",
    "The other 1M being in order means what happens to them should be predictable.\n",
    "\n",
    "Then can figure out what happens at the end of the list, what gets pushed over into the first 10?"
   ]
  },
  {
   "cell_type": "markdown",
   "metadata": {},
   "source": [
    "#### observations\n",
    "\n",
    "- We advance 4 positions through the sequence each time (next 3 and then +1 spot)\n",
    "- Since 1 is the lowest number, it's the tipping point where we wrap to the 1M number\n",
    "  - We insert infront of 1 when 1M is current\n",
    "  - What gets inserted infront of 1 each time? Every 4th number?\n"
   ]
  },
  {
   "cell_type": "code",
   "execution_count": 193,
   "metadata": {},
   "outputs": [
    {
     "name": "stderr",
     "output_type": "stream",
     "text": [
      "\n",
      "100%|██████████| 11/11 [00:00<00:00, 52849.19it/s]\n"
     ]
    }
   ],
   "source": [
    "\n",
    "# current = parse_data(data)\n",
    "current = parse_data(\"389125467\")\n",
    "# current = Node(1)\n",
    "for i in trange(10, 21):\n",
    "    current.ccw.insert_after(Node(value=i))"
   ]
  },
  {
   "cell_type": "code",
   "execution_count": 194,
   "metadata": {},
   "outputs": [
    {
     "name": "stdout",
     "output_type": "stream",
     "text": [
      "3, 8, 9, 1, 2, 5, 4, 6, 7, 10, 11, 12, 13, 14, 15, 16, 17, 18, 19, 20\n"
     ]
    }
   ],
   "source": [
    "print(current.to_string())"
   ]
  },
  {
   "cell_type": "code",
   "execution_count": null,
   "metadata": {},
   "outputs": [],
   "source": [
    "for i in range(40):\n",
    "    print(current.to_string())\n",
    "    print(f\"{i}\")\n",
    "    current = apply_round(current, max_value=20)\n"
   ]
  },
  {
   "cell_type": "code",
   "execution_count": 196,
   "metadata": {},
   "outputs": [
    {
     "data": {
      "text/plain": [
       "10"
      ]
     },
     "execution_count": 196,
     "metadata": {},
     "output_type": "execute_result"
    }
   ],
   "source": [
    "(10 + 4 * 10_000_000) % 1_000_000"
   ]
  },
  {
   "cell_type": "code",
   "execution_count": null,
   "metadata": {},
   "outputs": [],
   "source": []
  }
 ],
 "metadata": {
  "kernelspec": {
   "display_name": "Python 3",
   "language": "python",
   "name": "python3"
  },
  "language_info": {
   "codemirror_mode": {
    "name": "ipython",
    "version": 3
   },
   "file_extension": ".py",
   "mimetype": "text/x-python",
   "name": "python",
   "nbconvert_exporter": "python",
   "pygments_lexer": "ipython3",
   "version": "3.7.6"
  }
 },
 "nbformat": 4,
 "nbformat_minor": 4
}
