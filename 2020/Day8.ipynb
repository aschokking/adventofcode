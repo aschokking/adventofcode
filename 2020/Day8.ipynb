{
 "cells": [
  {
   "cell_type": "code",
   "execution_count": 30,
   "metadata": {},
   "outputs": [],
   "source": [
    "from aocd import data, submit\n",
    "import re\n",
    "from copy import copy"
   ]
  },
  {
   "cell_type": "code",
   "execution_count": 2,
   "metadata": {},
   "outputs": [],
   "source": [
    "input_lines = data.splitlines()"
   ]
  },
  {
   "cell_type": "code",
   "execution_count": 10,
   "metadata": {},
   "outputs": [],
   "source": [
    "def parse_line(line):\n",
    "    code, amount = re.split(' \\+?', line)\n",
    "    return code, int(amount)"
   ]
  },
  {
   "cell_type": "code",
   "execution_count": 11,
   "metadata": {},
   "outputs": [],
   "source": [
    "line_tuples = [parse_line(line) for line in input_lines]"
   ]
  },
  {
   "cell_type": "markdown",
   "metadata": {},
   "source": [
    "# Day 1"
   ]
  },
  {
   "cell_type": "code",
   "execution_count": 48,
   "metadata": {},
   "outputs": [],
   "source": [
    "def try_execute_program(instructions):\n",
    "    acc = 0\n",
    "    executed_lines = set()\n",
    "    current = 0\n",
    "    while current not in executed_lines:\n",
    "        executed_lines.add(current)\n",
    "        if current >= len(line_tuples):\n",
    "            return True, acc\n",
    "        code, amount = instructions[current]\n",
    "        if code == 'nop':\n",
    "            current += 1\n",
    "        elif code == 'acc':\n",
    "            acc += amount\n",
    "            current += 1\n",
    "        elif code == 'jmp':\n",
    "            current += amount\n",
    "    return False, acc"
   ]
  },
  {
   "cell_type": "code",
   "execution_count": 49,
   "metadata": {},
   "outputs": [],
   "source": [
    "_, acc = try_execute_program(line_tuples)"
   ]
  },
  {
   "cell_type": "code",
   "execution_count": 50,
   "metadata": {},
   "outputs": [
    {
     "data": {
      "text/plain": [
       "1810"
      ]
     },
     "execution_count": 50,
     "metadata": {},
     "output_type": "execute_result"
    }
   ],
   "source": [
    "acc"
   ]
  },
  {
   "cell_type": "code",
   "execution_count": 19,
   "metadata": {},
   "outputs": [
    {
     "name": "stderr",
     "output_type": "stream",
     "text": [
      "2020-12-08 08:15:16,116 answer a: None\n",
      "2020-12-08 08:15:16,117 submitting for part a\n",
      "2020-12-08 08:15:16,117 posting 1810 to https://adventofcode.com/2020/day/8/answer (part a) token=...7ce0\n",
      "2020-12-08 08:15:16,779 saving the correct answer for 2020/08 part a: 1810\n"
     ]
    },
    {
     "name": "stdout",
     "output_type": "stream",
     "text": [
      "\u001b[32mThat's the right answer!  You are one gold star closer to saving your vacation. [Continue to Part Two]\u001b[0m\n"
     ]
    },
    {
     "data": {
      "text/plain": [
       "<Response [200]>"
      ]
     },
     "execution_count": 19,
     "metadata": {},
     "output_type": "execute_result"
    }
   ],
   "source": [
    "submit(acc)"
   ]
  },
  {
   "cell_type": "markdown",
   "metadata": {},
   "source": [
    "# Day 2"
   ]
  },
  {
   "cell_type": "code",
   "execution_count": 54,
   "metadata": {},
   "outputs": [
    {
     "name": "stdout",
     "output_type": "stream",
     "text": [
      "Found correct instruction 313, final acc 969\n"
     ]
    }
   ],
   "source": [
    "# iterate over program modifications and test\n",
    "for i, (code, amount) in enumerate(line_tuples):\n",
    "    if code == 'acc':\n",
    "        continue\n",
    "    new_instructions = copy(line_tuples)\n",
    "    new_code = code == 'jmp' and 'nop' or 'jmp'\n",
    "    new_instructions[i] = (new_code, amount)\n",
    "    status, acc = try_execute_program(new_instructions)\n",
    "    if status:\n",
    "        print(f\"Found correct instruction {i}, final acc {acc}\")\n",
    "        break"
   ]
  },
  {
   "cell_type": "code",
   "execution_count": 55,
   "metadata": {},
   "outputs": [
    {
     "data": {
      "text/plain": [
       "969"
      ]
     },
     "execution_count": 55,
     "metadata": {},
     "output_type": "execute_result"
    }
   ],
   "source": [
    "acc"
   ]
  },
  {
   "cell_type": "code",
   "execution_count": 56,
   "metadata": {},
   "outputs": [
    {
     "name": "stderr",
     "output_type": "stream",
     "text": [
      "2020-12-08 08:29:14,977 answer a: 1810\n",
      "2020-12-08 08:29:14,977 submitting for part b (part a is already completed)\n",
      "2020-12-08 08:29:14,979 posting 969 to https://adventofcode.com/2020/day/8/answer (part b) token=...7ce0\n",
      "2020-12-08 08:29:15,658 saving the correct answer for 2020/08 part b: 969\n"
     ]
    },
    {
     "name": "stdout",
     "output_type": "stream",
     "text": [
      "\u001b[32mThat's the right answer!  You are one gold star closer to saving your vacation.You have completed Day 8! You can [Shareon\n",
      "  Twitter\n",
      "Mastodon] this victory or [Return to Your Advent Calendar].\u001b[0m\n"
     ]
    },
    {
     "data": {
      "text/plain": [
       "<Response [200]>"
      ]
     },
     "execution_count": 56,
     "metadata": {},
     "output_type": "execute_result"
    }
   ],
   "source": [
    "submit(acc)"
   ]
  },
  {
   "cell_type": "code",
   "execution_count": null,
   "metadata": {},
   "outputs": [],
   "source": []
  }
 ],
 "metadata": {
  "kernelspec": {
   "display_name": "Python 3",
   "language": "python",
   "name": "python3"
  },
  "language_info": {
   "codemirror_mode": {
    "name": "ipython",
    "version": 3
   },
   "file_extension": ".py",
   "mimetype": "text/x-python",
   "name": "python",
   "nbconvert_exporter": "python",
   "pygments_lexer": "ipython3",
   "version": "3.7.1"
  }
 },
 "nbformat": 4,
 "nbformat_minor": 2
}
