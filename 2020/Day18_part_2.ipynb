{
 "cells": [
  {
   "cell_type": "code",
   "execution_count": 192,
   "metadata": {},
   "outputs": [],
   "source": [
    "from aocd import get_data, submit"
   ]
  },
  {
   "cell_type": "code",
   "execution_count": 193,
   "metadata": {},
   "outputs": [],
   "source": [
    "data = get_data(day=18)"
   ]
  },
  {
   "cell_type": "code",
   "execution_count": 200,
   "metadata": {},
   "outputs": [],
   "source": [
    "from lark import Lark, Tree, Token, Transformer\n",
    "from lark.visitors import Interpreter\n"
   ]
  },
  {
   "cell_type": "code",
   "execution_count": 163,
   "metadata": {},
   "outputs": [],
   "source": [
    "calc_grammar = \"\"\"\n",
    "    start: expr\n",
    "    ?expr: NUMBER -> num\n",
    "        | mult\n",
    "        | plus\n",
    "        | parens\n",
    "    ?plus: expr \"+\" expr\n",
    "    ?mult: expr \"*\" expr\n",
    "    ?parens: \"(\" expr \")\"\n",
    "    %import common.NUMBER\n",
    "    %import common.WS_INLINE\n",
    "    %ignore WS_INLINE\n",
    "\"\"\"\n",
    "\n",
    "\n",
    "l = Lark(calc_grammar) #, ambiguity='explicit')\n"
   ]
  },
  {
   "cell_type": "code",
   "execution_count": 164,
   "metadata": {},
   "outputs": [],
   "source": [
    "class MyTransformer(Transformer):\n",
    "    pass"
   ]
  },
  {
   "cell_type": "code",
   "execution_count": 177,
   "metadata": {},
   "outputs": [],
   "source": [
    "import numpy as np"
   ]
  },
  {
   "cell_type": "code",
   "execution_count": 178,
   "metadata": {},
   "outputs": [
    {
     "data": {
      "text/plain": [
       "6"
      ]
     },
     "execution_count": 178,
     "metadata": {},
     "output_type": "execute_result"
    }
   ],
   "source": [
    "np.prod([1, 2, 3])"
   ]
  },
  {
   "cell_type": "code",
   "execution_count": 182,
   "metadata": {},
   "outputs": [],
   "source": [
    "import math\n",
    "\n",
    "class Interpret(Interpreter):\n",
    "    def mult(self, tree):\n",
    "        return np.prod(self.visit_children(tree))\n",
    "\n",
    "    def plus(self, tree):\n",
    "        return sum(self.visit_children(tree))\n",
    "    \n",
    "    def num(self, tree):\n",
    "        return int(tree.children[0])"
   ]
  },
  {
   "cell_type": "code",
   "execution_count": 189,
   "metadata": {},
   "outputs": [],
   "source": [
    "def calc(expr):\n",
    "    tree = MyTransformer().transform(l.parse(expr))\n",
    "#     print(tree)\n",
    "#     print(tree.pretty())\n",
    "    return Interpret().interpret(tree)[0]"
   ]
  },
  {
   "cell_type": "code",
   "execution_count": 190,
   "metadata": {},
   "outputs": [],
   "source": [
    "sample_lines = \"\"\"1 + (2 * 3) + (4 * (5 + 6)) becomes 51.\n",
    "2 * 3 + (4 * 5) becomes 46.\n",
    "5 + (8 * 3 + 9 + 3 * 4 * 3) becomes 1445.\n",
    "5 * 9 * (7 * 3 * 3 + 9 * 3 + (8 + 6 * 4)) becomes 669060.\n",
    "((2 + 4 * 9) * (6 + 9 * 8 + 6) + 6) + 2 + 4 * 2 becomes 23340.\n",
    "\"\"\".splitlines()\n",
    "test_cases = [\n",
    "    line.split(' becomes ')\n",
    "    for line in sample_lines\n",
    "]"
   ]
  },
  {
   "cell_type": "code",
   "execution_count": 191,
   "metadata": {},
   "outputs": [
    {
     "name": "stdout",
     "output_type": "stream",
     "text": [
      "51 should be 51\n",
      "46 should be 46\n",
      "1445 should be 1445\n",
      "669060 should be 669060\n",
      "23340 should be 23340\n"
     ]
    }
   ],
   "source": [
    "for expr, result_str in test_cases:\n",
    "    expected=int(result_str[:-1])\n",
    "    result = calc(expr)\n",
    "    print(f\"{result} should be {expected}\")"
   ]
  },
  {
   "cell_type": "code",
   "execution_count": 156,
   "metadata": {},
   "outputs": [
    {
     "data": {
      "text/plain": [
       "432"
      ]
     },
     "execution_count": 156,
     "metadata": {},
     "output_type": "execute_result"
    }
   ],
   "source": [
    "((8 * 3 + 9 + 3) * 4) * 3"
   ]
  },
  {
   "cell_type": "code",
   "execution_count": 162,
   "metadata": {},
   "outputs": [
    {
     "name": "stdout",
     "output_type": "stream",
     "text": [
      "Tree('start', [Tree('math', [Tree('math', [Tree('num', [Token('NUMBER', '8')]), '*', Tree('num', [Token('NUMBER', '3')])]), '+', Tree('math', [Tree('num', [Token('NUMBER', '9')]), '+', Tree('math', [Tree('math', [Tree('num', [Token('NUMBER', '3')]), '*', Tree('num', [Token('NUMBER', '4')])]), '*', Tree('num', [Token('NUMBER', '3')])])])])])\n",
      "start\n",
      "  math\n",
      "    math\n",
      "      num\t8\n",
      "      *\n",
      "      num\t3\n",
      "    +\n",
      "    math\n",
      "      num\t9\n",
      "      +\n",
      "      math\n",
      "        math\n",
      "          num\t3\n",
      "          *\n",
      "          num\t4\n",
      "        *\n",
      "        num\t3\n",
      "\n"
     ]
    },
    {
     "data": {
      "text/plain": [
       "69"
      ]
     },
     "execution_count": 162,
     "metadata": {},
     "output_type": "execute_result"
    }
   ],
   "source": [
    "calc(\"8 * 3 + 9 + 3 * 4 * 3\")"
   ]
  },
  {
   "cell_type": "code",
   "execution_count": 197,
   "metadata": {},
   "outputs": [],
   "source": [
    "result = sum(map(lambda x: calc(x), data.splitlines()))"
   ]
  },
  {
   "cell_type": "code",
   "execution_count": 198,
   "metadata": {},
   "outputs": [
    {
     "data": {
      "text/plain": [
       "297139939002972"
      ]
     },
     "execution_count": 198,
     "metadata": {},
     "output_type": "execute_result"
    }
   ],
   "source": [
    "result"
   ]
  },
  {
   "cell_type": "code",
   "execution_count": 199,
   "metadata": {},
   "outputs": [
    {
     "name": "stderr",
     "output_type": "stream",
     "text": [
      "answer a: 25190263477788\n",
      "submitting for part b (part a is already completed)\n"
     ]
    },
    {
     "name": "stdout",
     "output_type": "stream",
     "text": [
      "\u001b[32mThat's the right answer!  You are one gold star closer to saving your vacation.You have completed Day 18! You can [Shareon\n",
      "  Twitter\n",
      "Mastodon] this victory or [Return to Your Advent Calendar].\u001b[0m\n"
     ]
    },
    {
     "data": {
      "text/plain": [
       "<Response [200]>"
      ]
     },
     "execution_count": 199,
     "metadata": {},
     "output_type": "execute_result"
    }
   ],
   "source": [
    "submit(result, day=18)"
   ]
  },
  {
   "cell_type": "code",
   "execution_count": null,
   "metadata": {},
   "outputs": [],
   "source": []
  }
 ],
 "metadata": {
  "kernelspec": {
   "display_name": "Python 3",
   "language": "python",
   "name": "python3"
  },
  "language_info": {
   "codemirror_mode": {
    "name": "ipython",
    "version": 3
   },
   "file_extension": ".py",
   "mimetype": "text/x-python",
   "name": "python",
   "nbconvert_exporter": "python",
   "pygments_lexer": "ipython3",
   "version": "3.7.6"
  }
 },
 "nbformat": 4,
 "nbformat_minor": 4
}
