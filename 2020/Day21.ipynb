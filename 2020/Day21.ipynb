{
 "cells": [
  {
   "cell_type": "code",
   "execution_count": 28,
   "metadata": {},
   "outputs": [],
   "source": [
    "from util import *\n",
    "from typing import List, Dict, Set"
   ]
  },
  {
   "cell_type": "code",
   "execution_count": 4,
   "metadata": {},
   "outputs": [],
   "source": [
    "from aocd import submit, data"
   ]
  },
  {
   "cell_type": "code",
   "execution_count": 5,
   "metadata": {},
   "outputs": [],
   "source": [
    "sample_data = \"\"\"mxmxvkd kfcds sqjhc nhms (contains dairy, fish)\n",
    "trh fvjkl sbzzf mxmxvkd (contains dairy)\n",
    "sqjhc fvjkl (contains soy)\n",
    "sqjhc mxmxvkd sbzzf (contains fish)\"\"\""
   ]
  },
  {
   "cell_type": "code",
   "execution_count": 12,
   "metadata": {},
   "outputs": [],
   "source": [
    "def parse_data(data):\n",
    "    \n",
    "    def parse_line(line):\n",
    "        ingredients, raw_allergents = line.split(' (contains ')\n",
    "        return set(ingredients.split(' ')), (raw_allergents[:-1].split(', '))\n",
    "    \n",
    "    return mapl(parse_line, data.splitlines())"
   ]
  },
  {
   "cell_type": "code",
   "execution_count": 77,
   "metadata": {},
   "outputs": [],
   "source": [
    "input_rows = parse_data(data)"
   ]
  },
  {
   "cell_type": "markdown",
   "metadata": {},
   "source": [
    "# Part 1"
   ]
  },
  {
   "cell_type": "code",
   "execution_count": 79,
   "metadata": {},
   "outputs": [],
   "source": [
    "# Find all the ingredients that can't be allergens\n",
    "# Identify all the ingredients that are definitely allergens"
   ]
  },
  {
   "cell_type": "code",
   "execution_count": 80,
   "metadata": {},
   "outputs": [],
   "source": [
    "from collections import defaultdict"
   ]
  },
  {
   "cell_type": "code",
   "execution_count": 81,
   "metadata": {},
   "outputs": [],
   "source": [
    "def remove_ingredient(ingredient, candidate_map: Dict[str, List[Set[str]]]):\n",
    "    for ingredient_list in candidate_map.values():\n",
    "        for ingredient_set in ingredient_list:\n",
    "            if ingredient in ingredient_set:\n",
    "                ingredient_set.remove(ingredient)"
   ]
  },
  {
   "cell_type": "code",
   "execution_count": 83,
   "metadata": {},
   "outputs": [
    {
     "name": "stdout",
     "output_type": "stream",
     "text": [
      "Starting loop, 8 left\n",
      "Starting loop, 7 left\n",
      "Starting loop, 6 left\n",
      "Starting loop, 5 left\n",
      "Starting loop, 4 left\n",
      "Starting loop, 3 left\n",
      "Starting loop, 2 left\n",
      "Starting loop, 1 left\n"
     ]
    }
   ],
   "source": [
    "from copy import copy \n",
    "\n",
    "allergen_candidate_map = defaultdict(list)\n",
    "for ingredients, allergens in input_rows:\n",
    "    for allergen in allergens:\n",
    "        allergen_candidate_map[allergen].append(copy(ingredients))\n",
    "\n",
    "# find out which allergen can only be 1 ingredients and then remove it as a possibility from other\n",
    "allergen_map: Dict[str, str] = {}\n",
    "while allergen_candidate_map:\n",
    "    print(f\"Starting loop, {len(allergen_candidate_map)} left\")\n",
    "    # print(allergen_candidate_map)\n",
    "    found = False\n",
    "    for allergen, candidates in allergen_candidate_map.items():\n",
    "        common = list(set.intersection(*candidates))\n",
    "        if len(common) == 1:\n",
    "            # hit\n",
    "            ingredient = common[0]\n",
    "            allergen_map[allergen] = ingredient\n",
    "            del allergen_candidate_map[allergen]\n",
    "            # Remove ingredient from all existing sets\n",
    "            remove_ingredient(ingredient, allergen_candidate_map)\n",
    "            \n",
    "            found = True\n",
    "            break # exit for loop\n",
    "    if not found:\n",
    "        print(\"Failed to make progress this loop, ending while\")\n",
    "        break"
   ]
  },
  {
   "cell_type": "code",
   "execution_count": 84,
   "metadata": {},
   "outputs": [],
   "source": [
    "from itertools import chain"
   ]
  },
  {
   "cell_type": "code",
   "execution_count": 85,
   "metadata": {},
   "outputs": [],
   "source": [
    "# Find out which ingredients aren't allergens\n",
    "all_ingredients = list(chain.from_iterable([\n",
    "    ingredients\n",
    "    for ingredients, _ in input_rows\n",
    "]))"
   ]
  },
  {
   "cell_type": "code",
   "execution_count": 86,
   "metadata": {},
   "outputs": [],
   "source": [
    "non_allergen_ingredients = filterl(lambda x: x not in allergen_map.values(), all_ingredients)"
   ]
  },
  {
   "cell_type": "code",
   "execution_count": 87,
   "metadata": {},
   "outputs": [],
   "source": [
    "result = len(non_allergen_ingredients)"
   ]
  },
  {
   "cell_type": "code",
   "execution_count": 88,
   "metadata": {},
   "outputs": [
    {
     "data": {
      "text/plain": [
       "2734"
      ]
     },
     "execution_count": 88,
     "metadata": {},
     "output_type": "execute_result"
    }
   ],
   "source": [
    "result"
   ]
  },
  {
   "cell_type": "code",
   "execution_count": 89,
   "metadata": {},
   "outputs": [
    {
     "name": "stderr",
     "output_type": "stream",
     "text": [
      "answer a: None\n",
      "submitting for part a\n"
     ]
    },
    {
     "name": "stdout",
     "output_type": "stream",
     "text": [
      "\u001b[32mThat's the right answer!  You are one gold star closer to saving your vacation. [Continue to Part Two]\u001b[0m\n"
     ]
    },
    {
     "data": {
      "text/plain": [
       "<Response [200]>"
      ]
     },
     "execution_count": 89,
     "metadata": {},
     "output_type": "execute_result"
    }
   ],
   "source": [
    "submit(result)"
   ]
  },
  {
   "cell_type": "markdown",
   "metadata": {},
   "source": [
    "# Part 2"
   ]
  },
  {
   "cell_type": "code",
   "execution_count": 90,
   "metadata": {},
   "outputs": [],
   "source": [
    "from operator import itemgetter"
   ]
  },
  {
   "cell_type": "code",
   "execution_count": 91,
   "metadata": {},
   "outputs": [],
   "source": [
    "# sort ingr alpha by allergen\n",
    "result = \",\".join(mapl(itemgetter(1), sorted(allergen_map.items(), key=itemgetter(0))))"
   ]
  },
  {
   "cell_type": "code",
   "execution_count": 92,
   "metadata": {},
   "outputs": [
    {
     "data": {
      "text/plain": [
       "'kbmlt,mrccxm,lpzgzmk,ppj,stj,jvgnc,gxnr,plrlg'"
      ]
     },
     "execution_count": 92,
     "metadata": {},
     "output_type": "execute_result"
    }
   ],
   "source": [
    "result"
   ]
  },
  {
   "cell_type": "code",
   "execution_count": 93,
   "metadata": {},
   "outputs": [
    {
     "name": "stderr",
     "output_type": "stream",
     "text": [
      "answer a: 2734\n",
      "submitting for part b (part a is already completed)\n"
     ]
    },
    {
     "name": "stdout",
     "output_type": "stream",
     "text": [
      "\u001b[32mThat's the right answer!  You are one gold star closer to saving your vacation.You have completed Day 21! You can [Shareon\n",
      "  Twitter\n",
      "Mastodon] this victory or [Return to Your Advent Calendar].\u001b[0m\n"
     ]
    },
    {
     "data": {
      "text/plain": [
       "<Response [200]>"
      ]
     },
     "execution_count": 93,
     "metadata": {},
     "output_type": "execute_result"
    }
   ],
   "source": [
    "submit(result)"
   ]
  },
  {
   "cell_type": "code",
   "execution_count": null,
   "metadata": {},
   "outputs": [],
   "source": []
  }
 ],
 "metadata": {
  "kernelspec": {
   "display_name": "Python 3",
   "language": "python",
   "name": "python3"
  },
  "language_info": {
   "codemirror_mode": {
    "name": "ipython",
    "version": 3
   },
   "file_extension": ".py",
   "mimetype": "text/x-python",
   "name": "python",
   "nbconvert_exporter": "python",
   "pygments_lexer": "ipython3",
   "version": "3.7.6"
  }
 },
 "nbformat": 4,
 "nbformat_minor": 4
}
