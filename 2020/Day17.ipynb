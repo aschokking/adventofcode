{
 "cells": [
  {
   "cell_type": "code",
   "execution_count": 1,
   "metadata": {},
   "outputs": [],
   "source": [
    "from aocd import data, submit"
   ]
  },
  {
   "cell_type": "code",
   "execution_count": 5,
   "metadata": {},
   "outputs": [],
   "source": [
    "from util import *"
   ]
  },
  {
   "cell_type": "code",
   "execution_count": 3,
   "metadata": {},
   "outputs": [],
   "source": [
    "sample_data = \"\"\".#.\n",
    "..#\n",
    "###\"\"\""
   ]
  },
  {
   "cell_type": "code",
   "execution_count": 6,
   "metadata": {},
   "outputs": [],
   "source": [
    "import numpy as np\n",
    "from collections import defaultdict"
   ]
  },
  {
   "cell_type": "code",
   "execution_count": 11,
   "metadata": {},
   "outputs": [],
   "source": [
    "def parse_data(data):\n",
    "    result = defaultdict(lambda: defaultdict(set))\n",
    "    lines = data.splitlines()\n",
    "    \n",
    "    def parse_line(line):\n",
    "        return mapl(lambda x: x[0], filter(lambda x: x[1] == \"#\", enumerate(line)))\n",
    "    \n",
    "    for i, line in enumerate(lines):\n",
    "        result[0][i].update(parse_line(line))\n",
    "    \n",
    "    return result\n"
   ]
  },
  {
   "cell_type": "code",
   "execution_count": 140,
   "metadata": {},
   "outputs": [],
   "source": [
    "init_state = parse_data(sample_data)"
   ]
  },
  {
   "cell_type": "code",
   "execution_count": null,
   "metadata": {},
   "outputs": [],
   "source": [
    "init_state_2 = parse_data_2(sample_data)"
   ]
  },
  {
   "cell_type": "code",
   "execution_count": 47,
   "metadata": {},
   "outputs": [
    {
     "data": {
      "text/plain": [
       "defaultdict(<function __main__.parse_data.<locals>.<lambda>()>,\n",
       "            {0: defaultdict(set, {0: {1}, 1: {2}, 2: {0, 1, 2}})})"
      ]
     },
     "execution_count": 47,
     "metadata": {},
     "output_type": "execute_result"
    }
   ],
   "source": [
    "parse_data(sample_data)"
   ]
  },
  {
   "cell_type": "code",
   "execution_count": 116,
   "metadata": {},
   "outputs": [],
   "source": [
    "def is_active(loc, state):\n",
    "    i, j, k = loc\n",
    "    return k in state[i][j]\n",
    "\n",
    "def get_neighbors(loc):\n",
    "    i, j, k = loc\n",
    "    \n",
    "    for i2 in range(i-1, i+2):\n",
    "        for j2 in range(j-1, j+2):\n",
    "            for k2 in range(k-1, k+2):\n",
    "                # don't count current node\n",
    "                if not (i2 == i and j2 == j and k2 == k):\n",
    "                    yield i2, j2, k2\n",
    "\n",
    "def num_active_neighbors(loc, state):\n",
    "    num_active = 0\n",
    "    for cand_loc in get_neighbors(loc):\n",
    "        if is_active(cand_loc, state):\n",
    "            num_active += 1\n",
    "    return num_active\n",
    "\n",
    "def set_active(loc, state):\n",
    "    # .print(f\"{loc} -> {state}\")\n",
    "    i, j, k = loc\n",
    "    state[i][j].add(k)"
   ]
  },
  {
   "cell_type": "code",
   "execution_count": 120,
   "metadata": {},
   "outputs": [
    {
     "data": {
      "text/plain": [
       "2"
      ]
     },
     "execution_count": 120,
     "metadata": {},
     "output_type": "execute_result"
    }
   ],
   "source": [
    "num_active_neighbors((0,2,3), init_state)"
   ]
  },
  {
   "cell_type": "code",
   "execution_count": 89,
   "metadata": {},
   "outputs": [],
   "source": [
    "def get_all_locs(state):\n",
    "    for i, js in state.items():\n",
    "        for j, ks in js.items():\n",
    "            for k in ks:\n",
    "                yield i, j, k\n",
    "\n"
   ]
  },
  {
   "cell_type": "code",
   "execution_count": 135,
   "metadata": {},
   "outputs": [],
   "source": [
    "\n",
    "def get_updated_state(prev_state):\n",
    "    new_state = defaultdict(lambda: defaultdict(set))\n",
    "    # collect all inactive neighbors of active nodes\n",
    "    inactive_neighbors = defaultdict(lambda: defaultdict(set))\n",
    "    for active_loc in list(get_all_locs(prev_state)):\n",
    "        active_neighbors = num_active_neighbors(active_loc, prev_state)\n",
    "        if active_neighbors in (2, 3):\n",
    "            # stays active\n",
    "            set_active(active_loc, new_state)\n",
    "\n",
    "        # if neighbors state inactive, add to inactive_neighbors list\n",
    "        for cand_loc in list(get_neighbors(active_loc)):\n",
    "            if not is_active(cand_loc, prev_state):\n",
    "                set_active(cand_loc, inactive_neighbors)\n",
    "\n",
    "    for inactive_loc in get_all_locs(inactive_neighbors):\n",
    "        \n",
    "        active_neighbors = num_active_neighbors(inactive_loc, prev_state)\n",
    "        # print(f\"inactive_loc: {inactive_loc} => {active_neighbors}\")\n",
    "        if active_neighbors == 3:\n",
    "            # becomes active\n",
    "            set_active(inactive_loc, new_state)\n",
    "    \n",
    "    return new_state"
   ]
  },
  {
   "cell_type": "code",
   "execution_count": 136,
   "metadata": {},
   "outputs": [
    {
     "data": {
      "text/plain": [
       "defaultdict(<function __main__.parse_data.<locals>.<lambda>()>,\n",
       "            {0: defaultdict(set,\n",
       "                         {0: {0, 1, 6},\n",
       "                          1: {0, 2, 5},\n",
       "                          2: {3},\n",
       "                          3: {3, 5},\n",
       "                          4: {0, 1, 2, 7},\n",
       "                          5: {0, 2, 7},\n",
       "                          6: {1, 6, 7},\n",
       "                          7: {1, 3, 4, 5, 7}})})"
      ]
     },
     "execution_count": 136,
     "metadata": {},
     "output_type": "execute_result"
    }
   ],
   "source": [
    "init_state"
   ]
  },
  {
   "cell_type": "code",
   "execution_count": 137,
   "metadata": {},
   "outputs": [],
   "source": [
    "new_state = init_state\n",
    "for _ in range(6):\n",
    "    new_state = get_updated_state(new_state)"
   ]
  },
  {
   "cell_type": "code",
   "execution_count": 138,
   "metadata": {},
   "outputs": [
    {
     "data": {
      "text/plain": [
       "263"
      ]
     },
     "execution_count": 138,
     "metadata": {},
     "output_type": "execute_result"
    }
   ],
   "source": [
    "len(list(get_all_locs(new_state)))"
   ]
  },
  {
   "cell_type": "code",
   "execution_count": 139,
   "metadata": {},
   "outputs": [
    {
     "name": "stderr",
     "output_type": "stream",
     "text": [
      "answer a: None\n",
      "submitting for part a\n"
     ]
    },
    {
     "name": "stdout",
     "output_type": "stream",
     "text": [
      "\u001b[32mThat's the right answer!  You are one gold star closer to saving your vacation. [Continue to Part Two]\u001b[0m\n"
     ]
    },
    {
     "data": {
      "text/plain": [
       "<Response [200]>"
      ]
     },
     "execution_count": 139,
     "metadata": {},
     "output_type": "execute_result"
    }
   ],
   "source": [
    "submit(len(list(get_all_locs(new_state))), day=17)"
   ]
  },
  {
   "cell_type": "markdown",
   "metadata": {},
   "source": [
    "# Part 2"
   ]
  },
  {
   "cell_type": "code",
   "execution_count": 193,
   "metadata": {},
   "outputs": [],
   "source": [
    "def parse_data_2(data):\n",
    "    result = defaultdict(lambda: defaultdict(lambda: defaultdict(set)))\n",
    "    lines = data.splitlines()\n",
    "    \n",
    "    def parse_line(line):\n",
    "        return mapl(lambda x: x[0], filter(lambda x: x[1] == \"#\", enumerate(line)))\n",
    "    \n",
    "    for i, line in enumerate(lines):\n",
    "        result[0][0][i].update(parse_line(line))\n",
    "    \n",
    "    return result"
   ]
  },
  {
   "cell_type": "code",
   "execution_count": 194,
   "metadata": {},
   "outputs": [],
   "source": [
    "def is_active_2(loc, state):\n",
    "    h, i, j, k = loc\n",
    "    return k in state[h][i][j]\n",
    "\n",
    "def get_neighbors_2(loc):\n",
    "    h, i, j, k = loc\n",
    "    \n",
    "    for h2 in range(h -1, h+2):\n",
    "        for i2 in range(i-1, i+2):\n",
    "            for j2 in range(j-1, j+2):\n",
    "                for k2 in range(k-1, k+2):\n",
    "                    # don't count current node\n",
    "                    if not (h2 == h and i2 == i and j2 == j and k2 == k):\n",
    "                        yield h2, i2, j2, k2\n",
    "\n",
    "def num_active_neighbors_2(loc, state):\n",
    "    num_active = 0\n",
    "    for cand_loc in get_neighbors_2(loc):\n",
    "        if is_active_2(cand_loc, state):\n",
    "            num_active += 1\n",
    "    return num_active\n",
    "\n",
    "def set_active_2(loc, state):\n",
    "    # .print(f\"{loc} -> {state}\")\n",
    "    h, i, j, k = loc\n",
    "    state[h][i][j].add(k)\n",
    "    \n",
    "def get_all_locs_2(state):\n",
    "    for h, i_s in state.items():\n",
    "        for i, js in i_s.items():\n",
    "            for j, ks in js.items():\n",
    "                for k in ks:\n",
    "                    yield h, i, j, k\n"
   ]
  },
  {
   "cell_type": "code",
   "execution_count": 199,
   "metadata": {},
   "outputs": [],
   "source": [
    "\n",
    "def get_updated_state_2(prev_state):\n",
    "    new_state = defaultdict(lambda: defaultdict(lambda: defaultdict(set)))\n",
    "    # collect all inactive neighbors of active nodes\n",
    "    inactive_neighbors = defaultdict(lambda: defaultdict(lambda: defaultdict(set)))\n",
    "    for active_loc in list(get_all_locs_2(prev_state)):\n",
    "        active_neighbors = num_active_neighbors_2(active_loc, prev_state)\n",
    "        if active_neighbors in (2, 3):\n",
    "            # stays active\n",
    "            set_active_2(active_loc, new_state)\n",
    "\n",
    "        # if neighbors state inactive, add to inactive_neighbors list\n",
    "        for cand_loc in list(get_neighbors_2(active_loc)):\n",
    "            if not is_active_2(cand_loc, prev_state):\n",
    "                set_active_2(cand_loc, inactive_neighbors)\n",
    "\n",
    "    for inactive_loc in get_all_locs_2(inactive_neighbors):\n",
    "        \n",
    "        active_neighbors = num_active_neighbors_2(inactive_loc, prev_state)\n",
    "        # print(f\"inactive_loc: {inactive_loc} => {active_neighbors}\")\n",
    "        if active_neighbors == 3:\n",
    "            # becomes active\n",
    "            set_active_2(inactive_loc, new_state)\n",
    "    \n",
    "    return new_state"
   ]
  },
  {
   "cell_type": "code",
   "execution_count": 205,
   "metadata": {},
   "outputs": [],
   "source": [
    "new_state = parse_data_2(data)\n",
    "for _ in range(6):\n",
    "    new_state = get_updated_state_2(new_state)"
   ]
  },
  {
   "cell_type": "code",
   "execution_count": 206,
   "metadata": {},
   "outputs": [],
   "source": [
    "result = len(list(get_all_locs_2(new_state)))"
   ]
  },
  {
   "cell_type": "code",
   "execution_count": 207,
   "metadata": {},
   "outputs": [
    {
     "data": {
      "text/plain": [
       "1680"
      ]
     },
     "execution_count": 207,
     "metadata": {},
     "output_type": "execute_result"
    }
   ],
   "source": [
    "result"
   ]
  },
  {
   "cell_type": "code",
   "execution_count": 208,
   "metadata": {},
   "outputs": [
    {
     "name": "stderr",
     "output_type": "stream",
     "text": [
      "answer a: 263\n",
      "submitting for part b (part a is already completed)\n"
     ]
    },
    {
     "name": "stdout",
     "output_type": "stream",
     "text": [
      "\u001b[32mThat's the right answer!  You are one gold star closer to saving your vacation.You have completed Day 17! You can [Shareon\n",
      "  Twitter\n",
      "Mastodon] this victory or [Return to Your Advent Calendar].\u001b[0m\n"
     ]
    },
    {
     "data": {
      "text/plain": [
       "<Response [200]>"
      ]
     },
     "execution_count": 208,
     "metadata": {},
     "output_type": "execute_result"
    }
   ],
   "source": [
    "submit(result, day=17)"
   ]
  },
  {
   "cell_type": "code",
   "execution_count": null,
   "metadata": {},
   "outputs": [],
   "source": []
  }
 ],
 "metadata": {
  "kernelspec": {
   "display_name": "Python 3",
   "language": "python",
   "name": "python3"
  },
  "language_info": {
   "codemirror_mode": {
    "name": "ipython",
    "version": 3
   },
   "file_extension": ".py",
   "mimetype": "text/x-python",
   "name": "python",
   "nbconvert_exporter": "python",
   "pygments_lexer": "ipython3",
   "version": "3.7.6"
  }
 },
 "nbformat": 4,
 "nbformat_minor": 4
}
