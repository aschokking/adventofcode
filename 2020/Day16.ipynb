{
 "cells": [
  {
   "cell_type": "code",
   "execution_count": 23,
   "metadata": {},
   "outputs": [],
   "source": [
    "from aocd import get_data, submit"
   ]
  },
  {
   "cell_type": "code",
   "execution_count": 24,
   "metadata": {},
   "outputs": [],
   "source": [
    "data = get_data(day=16)"
   ]
  },
  {
   "cell_type": "code",
   "execution_count": 168,
   "metadata": {},
   "outputs": [],
   "source": [
    "def mapl(fn, l):\n",
    "    return list(map(fn, l))\n",
    "\n",
    "def filterl(fn, l):\n",
    "    return list(filter(fn, l))"
   ]
  },
  {
   "cell_type": "code",
   "execution_count": 119,
   "metadata": {},
   "outputs": [],
   "source": [
    "sample_data = \"\"\"class: 1-3 or 5-7\n",
    "row: 6-11 or 33-44\n",
    "seat: 13-40 or 45-50\n",
    "\n",
    "your ticket:\n",
    "7,1,14\n",
    "\n",
    "nearby tickets:\n",
    "7,3,47\n",
    "40,4,50\n",
    "55,2,20\n",
    "38,6,12\"\"\"\n",
    "\n",
    "sample_data_2 = \"\"\"class: 0-1 or 4-19\n",
    "row: 0-5 or 8-19\n",
    "seat: 0-13 or 16-19\n",
    "\n",
    "your ticket:\n",
    "11,12,13\n",
    "\n",
    "nearby tickets:\n",
    "3,9,18\n",
    "15,1,5\n",
    "5,14,9\"\"\""
   ]
  },
  {
   "cell_type": "code",
   "execution_count": 120,
   "metadata": {},
   "outputs": [],
   "source": [
    "from itertools import takewhile"
   ]
  },
  {
   "cell_type": "code",
   "execution_count": 121,
   "metadata": {},
   "outputs": [],
   "source": [
    "def parse_ticket(raw_ticket):\n",
    "    return mapl(int, raw_ticket.split(','))"
   ]
  },
  {
   "cell_type": "code",
   "execution_count": 122,
   "metadata": {},
   "outputs": [],
   "source": [
    "import re\n",
    "def parse_rule(raw_rule):\n",
    "    try:\n",
    "        kind, low1, high1, low2, high2 = re.match('([ \\w]+): (\\d+)-(\\d+) or (\\d+)-(\\d+)', raw_rule).groups()\n",
    "    except:\n",
    "        import pdb; pdb.set_trace()\n",
    "    return kind, [(int(low1), int(high1)), (int(low2), int(high2))]"
   ]
  },
  {
   "cell_type": "code",
   "execution_count": 123,
   "metadata": {},
   "outputs": [],
   "source": [
    "def parse_data(data):\n",
    "    data_iter = iter(data.splitlines())\n",
    "    valid_ranges = mapl(parse_rule, list(takewhile(lambda x: x != '', data_iter)))\n",
    "    my_ticket = parse_ticket(list(takewhile(lambda x: x != '', data_iter))[-1])\n",
    "    other_tickets = mapl(parse_ticket, list(takewhile(lambda x: x != '', data_iter))[1:])\n",
    "    return valid_ranges, my_ticket, other_tickets"
   ]
  },
  {
   "cell_type": "code",
   "execution_count": 151,
   "metadata": {},
   "outputs": [],
   "source": [
    "rules, my_ticket, other_tickets = parse_data(data)\n",
    "#rules, my_ticket, other_tickets = parse_data(sample_data_2)\n",
    "all_rules = list(chain.from_iterable(map(lambda x: x[1], rules)))"
   ]
  },
  {
   "cell_type": "code",
   "execution_count": 152,
   "metadata": {},
   "outputs": [],
   "source": [
    "def is_invalid(number):\n",
    "    return not any(map(lambda x: number >= x[0] and number <= x[1], all_rules))"
   ]
  },
  {
   "cell_type": "code",
   "execution_count": 153,
   "metadata": {},
   "outputs": [
    {
     "name": "stdout",
     "output_type": "stream",
     "text": [
      "23036\n"
     ]
    }
   ],
   "source": [
    "from itertools import chain\n",
    "all_numbers = list(chain.from_iterable(other_tickets))\n",
    "invalid_numbers = list(filter(is_invalid, all_numbers))\n",
    "result = sum(invalid_numbers)\n",
    "print(result)"
   ]
  },
  {
   "cell_type": "code",
   "execution_count": 137,
   "metadata": {},
   "outputs": [
    {
     "name": "stdout",
     "output_type": "stream",
     "text": [
      "\u001b[33mYou don't seem to be solving the right level.  Did you already complete it? [Return to Day 16]\u001b[0m\n"
     ]
    },
    {
     "data": {
      "text/plain": [
       "<Response [200]>"
      ]
     },
     "execution_count": 137,
     "metadata": {},
     "output_type": "execute_result"
    }
   ],
   "source": [
    "submit(result, day=16, part='a')"
   ]
  },
  {
   "cell_type": "markdown",
   "metadata": {},
   "source": [
    "# Part 2"
   ]
  },
  {
   "cell_type": "code",
   "execution_count": 154,
   "metadata": {},
   "outputs": [],
   "source": [
    "valid_tickets = list(filter(lambda ticket: not any(map(is_invalid, ticket)), other_tickets))\n",
    "all_valid = valid_tickets + [my_ticket]"
   ]
  },
  {
   "cell_type": "code",
   "execution_count": 158,
   "metadata": {},
   "outputs": [],
   "source": [
    "# find out which rule is valid for all values in a certain position\n",
    "def find_index(rule_list, tickets):\n",
    "    valid_indices = []\n",
    "    for i in range(len(tickets[0])):\n",
    "        found = True\n",
    "        for ticket in tickets:\n",
    "            #print(f\"Testing {ticket[i]} meets rules {rule_list}\")\n",
    "            if not any(map(lambda x: ticket[i] >= x[0] and ticket[i] <= x[1], rule_list)):\n",
    "                found = False\n",
    "                break\n",
    "        if found:\n",
    "            valid_indices.append(i)\n",
    "    return valid_indices"
   ]
  },
  {
   "cell_type": "code",
   "execution_count": 198,
   "metadata": {},
   "outputs": [],
   "source": [
    "rule_map = {\n",
    "    rule[0]: find_index(rule[1], all_valid)\n",
    "    for rule in rules\n",
    "}\n",
    "# eliminate options until only 1 remains for each type\n",
    "final_map = {}\n",
    "while max(map(len, rule_map.values())) > 0:\n",
    "    # identify the types that can only be in 1 spot\n",
    "    \n",
    "    for kind, values in list(filter(lambda item: len(item[1]) == 1, rule_map.items())):\n",
    "        value = values[0]\n",
    "        \n",
    "        # remove value from all other rules\n",
    "        for key in rule_map:\n",
    "            rule_map[key] = filterl(lambda x: x != value, rule_map[key])\n",
    "        final_map[kind] = value"
   ]
  },
  {
   "cell_type": "code",
   "execution_count": 206,
   "metadata": {},
   "outputs": [],
   "source": [
    "import numpy as np"
   ]
  },
  {
   "cell_type": "code",
   "execution_count": 212,
   "metadata": {},
   "outputs": [],
   "source": [
    "departure_items = filterl(lambda x: 'departure' in x[0], final_map.items())"
   ]
  },
  {
   "cell_type": "code",
   "execution_count": 213,
   "metadata": {},
   "outputs": [
    {
     "data": {
      "text/plain": [
       "[('departure track', 13),\n",
       " ('departure station', 8),\n",
       " ('departure location', 12),\n",
       " ('departure platform', 18),\n",
       " ('departure date', 3),\n",
       " ('departure time', 10)]"
      ]
     },
     "execution_count": 213,
     "metadata": {},
     "output_type": "execute_result"
    }
   ],
   "source": [
    "departure_items"
   ]
  },
  {
   "cell_type": "code",
   "execution_count": 214,
   "metadata": {},
   "outputs": [],
   "source": [
    "departure_indices = mapl(lambda x: x[1], departure_items)"
   ]
  },
  {
   "cell_type": "code",
   "execution_count": 216,
   "metadata": {},
   "outputs": [],
   "source": [
    "result = np.prod(mapl(lambda x: my_ticket[x], departure_indices))"
   ]
  },
  {
   "cell_type": "code",
   "execution_count": 217,
   "metadata": {},
   "outputs": [
    {
     "data": {
      "text/plain": [
       "1909224687553"
      ]
     },
     "execution_count": 217,
     "metadata": {},
     "output_type": "execute_result"
    }
   ],
   "source": [
    "result"
   ]
  },
  {
   "cell_type": "code",
   "execution_count": 218,
   "metadata": {},
   "outputs": [
    {
     "name": "stderr",
     "output_type": "stream",
     "text": [
      "answer a: 23036\n",
      "submitting for part b (part a is already completed)\n"
     ]
    },
    {
     "name": "stdout",
     "output_type": "stream",
     "text": [
      "\u001b[32mThat's the right answer!  You are one gold star closer to saving your vacation.You have completed Day 16! You can [Shareon\n",
      "  Twitter\n",
      "Mastodon] this victory or [Return to Your Advent Calendar].\u001b[0m\n"
     ]
    },
    {
     "data": {
      "text/plain": [
       "<Response [200]>"
      ]
     },
     "execution_count": 218,
     "metadata": {},
     "output_type": "execute_result"
    }
   ],
   "source": [
    "submit(result, day=16)"
   ]
  },
  {
   "cell_type": "code",
   "execution_count": null,
   "metadata": {},
   "outputs": [],
   "source": []
  }
 ],
 "metadata": {
  "kernelspec": {
   "display_name": "Python 3",
   "language": "python",
   "name": "python3"
  },
  "language_info": {
   "codemirror_mode": {
    "name": "ipython",
    "version": 3
   },
   "file_extension": ".py",
   "mimetype": "text/x-python",
   "name": "python",
   "nbconvert_exporter": "python",
   "pygments_lexer": "ipython3",
   "version": "3.7.6"
  }
 },
 "nbformat": 4,
 "nbformat_minor": 4
}
