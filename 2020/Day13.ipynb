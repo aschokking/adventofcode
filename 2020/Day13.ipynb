{
 "cells": [
  {
   "cell_type": "code",
   "execution_count": 118,
   "metadata": {},
   "outputs": [],
   "source": [
    "from aocd import get_data, submit\n",
    "from util import *"
   ]
  },
  {
   "cell_type": "code",
   "execution_count": 119,
   "metadata": {},
   "outputs": [],
   "source": [
    "sample_data=\"\"\"939\n",
    "7,13,x,x,59,x,31,19\"\"\""
   ]
  },
  {
   "cell_type": "code",
   "execution_count": 120,
   "metadata": {},
   "outputs": [],
   "source": [
    "data = get_data(day=13)"
   ]
  },
  {
   "cell_type": "code",
   "execution_count": 121,
   "metadata": {},
   "outputs": [
    {
     "data": {
      "text/plain": [
       "'1006605\\n19,x,x,x,x,x,x,x,x,x,x,x,x,37,x,x,x,x,x,883,x,x,x,x,x,x,x,23,x,x,x,x,13,x,x,x,17,x,x,x,x,x,x,x,x,x,x,x,x,x,797,x,x,x,x,x,x,x,x,x,41,x,x,x,x,x,x,x,x,x,x,x,x,x,x,x,x,x,x,29'"
      ]
     },
     "execution_count": 121,
     "metadata": {},
     "output_type": "execute_result"
    }
   ],
   "source": [
    "data"
   ]
  },
  {
   "cell_type": "code",
   "execution_count": 3,
   "metadata": {},
   "outputs": [],
   "source": [
    "def parse_bus_list(line):\n",
    "    return list(map(lambda x: x == 'x' and 'x' or int(x), line.split(',')))"
   ]
  },
  {
   "cell_type": "code",
   "execution_count": 4,
   "metadata": {},
   "outputs": [],
   "source": [
    "def parse_input(data_in):\n",
    "    line1, line2 = data_in.splitlines()\n",
    "    return int(line1), parse_bus_list(line2)"
   ]
  },
  {
   "cell_type": "code",
   "execution_count": 5,
   "metadata": {},
   "outputs": [],
   "source": [
    "start, buses = parse_input(sample_data)"
   ]
  },
  {
   "cell_type": "markdown",
   "metadata": {},
   "source": [
    "# Part 1"
   ]
  },
  {
   "cell_type": "code",
   "execution_count": 6,
   "metadata": {},
   "outputs": [],
   "source": [
    "# Find out which bus number is the closest to start once it passes it, what the remainder is?"
   ]
  },
  {
   "cell_type": "code",
   "execution_count": 7,
   "metadata": {},
   "outputs": [],
   "source": [
    "real_buses = list(filter(lambda x: x != 'x', buses))"
   ]
  },
  {
   "cell_type": "code",
   "execution_count": 8,
   "metadata": {},
   "outputs": [],
   "source": [
    "def calculate_wait_times(start):\n",
    "    return list(map(lambda x: (x, x - start % x), real_buses))"
   ]
  },
  {
   "cell_type": "code",
   "execution_count": 9,
   "metadata": {},
   "outputs": [],
   "source": [
    "bus, wait_time = list(sorted(calculate_wait_times(start), key=lambda x: x[1]))[0]"
   ]
  },
  {
   "cell_type": "code",
   "execution_count": 10,
   "metadata": {},
   "outputs": [
    {
     "data": {
      "text/plain": [
       "5"
      ]
     },
     "execution_count": 10,
     "metadata": {},
     "output_type": "execute_result"
    }
   ],
   "source": [
    "wait_time"
   ]
  },
  {
   "cell_type": "code",
   "execution_count": 11,
   "metadata": {},
   "outputs": [],
   "source": [
    "result = bus * wait_time"
   ]
  },
  {
   "cell_type": "code",
   "execution_count": 12,
   "metadata": {},
   "outputs": [
    {
     "data": {
      "text/plain": [
       "295"
      ]
     },
     "execution_count": 12,
     "metadata": {},
     "output_type": "execute_result"
    }
   ],
   "source": [
    "result"
   ]
  },
  {
   "cell_type": "code",
   "execution_count": 64,
   "metadata": {},
   "outputs": [
    {
     "name": "stderr",
     "output_type": "stream",
     "text": [
      "answer a: None\n",
      "submitting for part a\n"
     ]
    },
    {
     "name": "stdout",
     "output_type": "stream",
     "text": [
      "\u001b[32mThat's the right answer!  You are one gold star closer to saving your vacation. [Continue to Part Two]\u001b[0m\n"
     ]
    },
    {
     "data": {
      "text/plain": [
       "<Response [200]>"
      ]
     },
     "execution_count": 64,
     "metadata": {},
     "output_type": "execute_result"
    }
   ],
   "source": [
    "submit(result)"
   ]
  },
  {
   "cell_type": "markdown",
   "metadata": {},
   "source": [
    "# Part 2"
   ]
  },
  {
   "cell_type": "code",
   "execution_count": 13,
   "metadata": {},
   "outputs": [],
   "source": [
    "# Try greedy, fail and start over"
   ]
  },
  {
   "cell_type": "code",
   "execution_count": 25,
   "metadata": {},
   "outputs": [],
   "source": [
    "# other test cases\n",
    "buses, real_ans = parse_bus_list(\"17,x,13,19\"), 3417"
   ]
  },
  {
   "cell_type": "code",
   "execution_count": 38,
   "metadata": {},
   "outputs": [],
   "source": [
    "# tuple of (target offset time, bus interval)\n",
    "real_buses = filterl(lambda x: x[1] != 'x', enumerate(buses))"
   ]
  },
  {
   "cell_type": "code",
   "execution_count": 139,
   "metadata": {},
   "outputs": [],
   "source": [
    "def find_common_interval(acc, bus_tuple):\n",
    "    base, mult = acc\n",
    "    print(f\"finding common interval between {base} and {bus_tuple}\")\n",
    "    offset, interval = bus_tuple\n",
    "    current = base\n",
    "    while True:\n",
    "        # print(f\"testing {current}\")\n",
    "        if (-current % interval) == offset % interval:\n",
    "            print(f\"Found {current}\")\n",
    "            return current, mult * interval\n",
    "        current += mult"
   ]
  },
  {
   "cell_type": "code",
   "execution_count": 140,
   "metadata": {},
   "outputs": [],
   "source": [
    "from functools import reduce"
   ]
  },
  {
   "cell_type": "code",
   "execution_count": 141,
   "metadata": {},
   "outputs": [
    {
     "name": "stdout",
     "output_type": "stream",
     "text": [
      "finding common interval between 1 and (0, 17)\n",
      "Found 17\n",
      "finding common interval between 17 and (2, 13)\n",
      "Found 102\n",
      "finding common interval between 102 and (3, 19)\n",
      "Found 3417\n"
     ]
    },
    {
     "data": {
      "text/plain": [
       "(3417, 4199)"
      ]
     },
     "execution_count": 141,
     "metadata": {},
     "output_type": "execute_result"
    }
   ],
   "source": [
    "result = reduce(lambda acc, current: find_common_interval(acc, current), real_buses, (1, 1))\n",
    "result"
   ]
  },
  {
   "cell_type": "code",
   "execution_count": 146,
   "metadata": {},
   "outputs": [],
   "source": [
    "def get_wait_times_2(value, buses):\n",
    "    return mapl(lambda bus_tuple: ((-value % bus_tuple[1]), bus_tuple[0] % bus_tuple[1], bus_tuple[1]), buses)"
   ]
  },
  {
   "cell_type": "code",
   "execution_count": 147,
   "metadata": {},
   "outputs": [],
   "source": [
    "def part_2(data):\n",
    "    all_buses = parse_bus_list(data)\n",
    "    real_buses = filterl(lambda x: x[1] != 'x', enumerate(all_buses))\n",
    "    # sort desc so largest numbers go first\n",
    "    real_buses = list(sorted(real_buses, key=lambda x: x[1], reverse=True))\n",
    "    result, _ = reduce(lambda acc, current: find_common_interval(acc, current), real_buses, (1, 1))\n",
    "    \n",
    "    # sanity check\n",
    "    wait_times = get_wait_times_2(result, real_buses)\n",
    "    for actual, expected, bus in wait_times:\n",
    "        assert actual == expected, bus\n",
    "    return result"
   ]
  },
  {
   "cell_type": "code",
   "execution_count": 148,
   "metadata": {},
   "outputs": [
    {
     "name": "stdout",
     "output_type": "stream",
     "text": [
      "finding common interval between 1 and (3, 19)\n",
      "Found 16\n",
      "finding common interval between 16 and (0, 17)\n",
      "Found 187\n",
      "finding common interval between 187 and (2, 13)\n",
      "Found 3417\n"
     ]
    },
    {
     "data": {
      "text/plain": [
       "3417"
      ]
     },
     "execution_count": 148,
     "metadata": {},
     "output_type": "execute_result"
    }
   ],
   "source": [
    "part_2(\"17,x,13,19\")"
   ]
  },
  {
   "cell_type": "code",
   "execution_count": 149,
   "metadata": {},
   "outputs": [
    {
     "name": "stdout",
     "output_type": "stream",
     "text": [
      "finding common interval between 1 and (19, 883)\n",
      "Found 864\n",
      "finding common interval between 864 and (50, 797)\n",
      "Found 286073\n",
      "finding common interval between 286073 and (60, 41)\n",
      "Found 16472346\n",
      "finding common interval between 16472346 and (13, 37)\n",
      "Found 795524703\n",
      "finding common interval between 795524703 and (79, 29)\n",
      "Found 2930705237\n",
      "finding common interval between 2930705237 and (27, 23)\n",
      "Found 2930705237\n",
      "finding common interval between 2930705237 and (0, 19)\n",
      "Found 9260005910394\n",
      "finding common interval between 9260005910394 and (36, 17)\n",
      "Found 198674006262068\n",
      "finding common interval between 198674006262068 and (32, 13)\n",
      "Found 1118684865113056\n"
     ]
    }
   ],
   "source": [
    "result = part_2(data.splitlines()[-1])"
   ]
  },
  {
   "cell_type": "code",
   "execution_count": 150,
   "metadata": {},
   "outputs": [
    {
     "name": "stderr",
     "output_type": "stream",
     "text": [
      "answer a: 4782\n",
      "submitting for part b (part a is already completed)\n"
     ]
    },
    {
     "name": "stdout",
     "output_type": "stream",
     "text": [
      "\u001b[32mThat's the right answer!  You are one gold star closer to saving your vacation.You have completed Day 13! You can [Shareon\n",
      "  Twitter\n",
      "Mastodon] this victory or [Return to Your Advent Calendar].\u001b[0m\n"
     ]
    },
    {
     "data": {
      "text/plain": [
       "<Response [200]>"
      ]
     },
     "execution_count": 150,
     "metadata": {},
     "output_type": "execute_result"
    }
   ],
   "source": [
    "submit(result, day=13)"
   ]
  },
  {
   "cell_type": "code",
   "execution_count": null,
   "metadata": {},
   "outputs": [],
   "source": []
  },
  {
   "cell_type": "markdown",
   "metadata": {},
   "source": [
    "## Math\n",
    "start bus A\n",
    "for each i-th bus Bi\n",
    "Find N such that:\n",
    "Bi - A * N % Bi == i \n",
    "(A * N) % bi == Bi - i\n",
    "\n",
    "Can't try ever N, there's way too many, how can we cut through the space faster? Does the above tell us things about N we can apply to it?"
   ]
  },
  {
   "cell_type": "code",
   "execution_count": 74,
   "metadata": {},
   "outputs": [
    {
     "name": "stdout",
     "output_type": "stream",
     "text": [
      "7 * N % 7 == 7\n",
      "7 * N % 13 == 12\n",
      "7 * N % 59 == 55\n",
      "7 * N % 31 == 25\n",
      "7 * N % 19 == 12\n"
     ]
    }
   ],
   "source": [
    "A = buses[0]\n",
    "for i, bus in enumerate(buses):\n",
    "    if bus != 'x':\n",
    "        print(f\"{A} * N % {bus} == {bus - i}\")"
   ]
  },
  {
   "cell_type": "code",
   "execution_count": 75,
   "metadata": {},
   "outputs": [
    {
     "data": {
      "text/plain": [
       "152683.0"
      ]
     },
     "execution_count": 75,
     "metadata": {},
     "output_type": "execute_result"
    }
   ],
   "source": [
    "result / 7"
   ]
  },
  {
   "cell_type": "code",
   "execution_count": 77,
   "metadata": {},
   "outputs": [
    {
     "data": {
      "text/plain": [
       "12"
      ]
     },
     "execution_count": 77,
     "metadata": {},
     "output_type": "execute_result"
    }
   ],
   "source": [
    "result % 13"
   ]
  },
  {
   "cell_type": "code",
   "execution_count": null,
   "metadata": {},
   "outputs": [],
   "source": []
  }
 ],
 "metadata": {
  "kernelspec": {
   "display_name": "Python 3",
   "language": "python",
   "name": "python3"
  },
  "language_info": {
   "codemirror_mode": {
    "name": "ipython",
    "version": 3
   },
   "file_extension": ".py",
   "mimetype": "text/x-python",
   "name": "python",
   "nbconvert_exporter": "python",
   "pygments_lexer": "ipython3",
   "version": "3.7.6"
  }
 },
 "nbformat": 4,
 "nbformat_minor": 4
}
