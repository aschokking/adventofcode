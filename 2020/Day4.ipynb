{
 "cells": [
  {
   "cell_type": "code",
   "execution_count": 7,
   "metadata": {},
   "outputs": [],
   "source": [
    "from aocd import data, submit, get_data\n",
    "from itertools import chain"
   ]
  },
  {
   "cell_type": "code",
   "execution_count": 9,
   "metadata": {},
   "outputs": [],
   "source": [
    "raw_input = get_data(day=4)"
   ]
  },
  {
   "cell_type": "code",
   "execution_count": 10,
   "metadata": {},
   "outputs": [],
   "source": [
    "def parse_passports(raw):\n",
    "    input_rows = raw.splitlines()\n",
    "    flat_tokens_list = list(chain(*[row.split(' ') for row in input_rows]))\n",
    "    # Group together fields up until a '' into a single passport\n",
    "    passports = [{}]\n",
    "    for token in flat_tokens_list:\n",
    "        if token == '':\n",
    "            passports.append({})\n",
    "        else:\n",
    "            key, value = token.split(':')\n",
    "            passports[-1][key] = value\n",
    "    return passports"
   ]
  },
  {
   "cell_type": "code",
   "execution_count": 11,
   "metadata": {},
   "outputs": [],
   "source": [
    "passports = parse_passports(raw_input)"
   ]
  },
  {
   "cell_type": "code",
   "execution_count": 12,
   "metadata": {},
   "outputs": [
    {
     "data": {
      "text/plain": [
       "[{'eyr': '2033',\n",
       "  'hgt': '177cm',\n",
       "  'pid': '173cm',\n",
       "  'ecl': 'utc',\n",
       "  'byr': '2029',\n",
       "  'hcl': '#efcc98',\n",
       "  'iyr': '2023'},\n",
       " {'pid': '337605855',\n",
       "  'cid': '249',\n",
       "  'byr': '1952',\n",
       "  'hgt': '155cm',\n",
       "  'ecl': 'grn',\n",
       "  'iyr': '2017',\n",
       "  'eyr': '2026',\n",
       "  'hcl': '#866857'}]"
      ]
     },
     "execution_count": 12,
     "metadata": {},
     "output_type": "execute_result"
    }
   ],
   "source": [
    "passports[:2]"
   ]
  },
  {
   "cell_type": "markdown",
   "metadata": {},
   "source": [
    "```\n",
    "byr (Birth Year)\n",
    "iyr (Issue Year)\n",
    "eyr (Expiration Year)\n",
    "hgt (Height)\n",
    "hcl (Hair Color)\n",
    "ecl (Eye Color)\n",
    "pid (Passport ID)\n",
    "cid (Country ID)\n",
    "```"
   ]
  },
  {
   "cell_type": "code",
   "execution_count": 13,
   "metadata": {},
   "outputs": [],
   "source": [
    "REQUIRED_FIELDS = set(['byr', 'iyr', 'eyr', 'hgt', 'hcl', 'ecl', 'pid'])\n",
    "def validate_passport(passport_dict):\n",
    "    # Must have at least required keys, but can have extra\n",
    "    return passport_dict.keys() >= REQUIRED_FIELDS"
   ]
  },
  {
   "cell_type": "code",
   "execution_count": 14,
   "metadata": {},
   "outputs": [],
   "source": [
    "valid_passports = list(filter(validate_passport, passports))"
   ]
  },
  {
   "cell_type": "code",
   "execution_count": 15,
   "metadata": {},
   "outputs": [
    {
     "data": {
      "text/plain": [
       "219"
      ]
     },
     "execution_count": 15,
     "metadata": {},
     "output_type": "execute_result"
    }
   ],
   "source": [
    "len(valid_passports)"
   ]
  },
  {
   "cell_type": "code",
   "execution_count": 35,
   "metadata": {},
   "outputs": [
    {
     "name": "stderr",
     "output_type": "stream",
     "text": [
      "2020-12-04 09:00:44,091 answer a: None\n",
      "2020-12-04 09:00:44,092 submitting for part a\n",
      "2020-12-04 09:00:44,093 posting 219 to https://adventofcode.com/2020/day/4/answer (part a) token=...7ce0\n",
      "2020-12-04 09:00:44,856 saving the correct answer for 2020/04 part a: 219\n"
     ]
    },
    {
     "name": "stdout",
     "output_type": "stream",
     "text": [
      "\u001b[32mThat's the right answer!  You are one gold star closer to saving your vacation. [Continue to Part Two]\u001b[0m\n"
     ]
    },
    {
     "data": {
      "text/plain": [
       "<Response [200]>"
      ]
     },
     "execution_count": 35,
     "metadata": {},
     "output_type": "execute_result"
    }
   ],
   "source": [
    "submit(len(valid_passports))"
   ]
  },
  {
   "cell_type": "markdown",
   "metadata": {},
   "source": [
    "# Part 2\n",
    "```\n",
    "byr (Birth Year) - four digits; at least 1920 and at most 2002.\n",
    "iyr (Issue Year) - four digits; at least 2010 and at most 2020.\n",
    "eyr (Expiration Year) - four digits; at least 2020 and at most 2030.\n",
    "hgt (Height) - a number followed by either cm or in:\n",
    "If cm, the number must be at least 150 and at most 193.\n",
    "If in, the number must be at least 59 and at most 76.\n",
    "hcl (Hair Color) - a # followed by exactly six characters 0-9 or a-f.\n",
    "ecl (Eye Color) - exactly one of: amb blu brn gry grn hzl oth.\n",
    "pid (Passport ID) - a nine-digit number, including leading zeroes.\n",
    "cid (Country ID) - ignored, missing or not.\n",
    "```"
   ]
  },
  {
   "cell_type": "code",
   "execution_count": 16,
   "metadata": {},
   "outputs": [],
   "source": [
    "sample_valid = parse_passports(\"\"\"pid:087499704 hgt:74in ecl:grn iyr:2012 eyr:2030 byr:1980\n",
    "hcl:#623a2f\n",
    "\n",
    "eyr:2029 ecl:blu cid:129 byr:1989\n",
    "iyr:2014 pid:896056539 hcl:#a97842 hgt:165cm\n",
    "\n",
    "hcl:#888785\n",
    "hgt:164cm byr:2001 iyr:2015 cid:88\n",
    "pid:545766238 ecl:hzl\n",
    "eyr:2022\n",
    "\n",
    "iyr:2010 hgt:158cm hcl:#b6652a ecl:blu byr:1944 eyr:2021 pid:093154719\"\"\")"
   ]
  },
  {
   "cell_type": "code",
   "execution_count": 17,
   "metadata": {},
   "outputs": [],
   "source": [
    "sample_invalid = parse_passports(\"\"\"eyr:1972 cid:100\n",
    "hcl:#18171d ecl:amb hgt:170 pid:186cm iyr:2018 byr:1926\n",
    "\n",
    "iyr:2019\n",
    "hcl:#602927 eyr:1967 hgt:170cm\n",
    "ecl:grn pid:012533040 byr:1946\n",
    "\n",
    "hcl:dab227 iyr:2012\n",
    "ecl:brn hgt:182cm pid:021572410 eyr:2020 byr:1992 cid:277\n",
    "\n",
    "hgt:59cm ecl:zzz\n",
    "eyr:2038 hcl:74454a iyr:2023\n",
    "pid:3556412378 byr:2007\"\"\")"
   ]
  },
  {
   "cell_type": "code",
   "execution_count": 18,
   "metadata": {},
   "outputs": [],
   "source": [
    "def verify_number(value, low, high):\n",
    "    try:\n",
    "        num = int(value)\n",
    "        return num >= low and num <= high\n",
    "    except:\n",
    "        return False"
   ]
  },
  {
   "cell_type": "code",
   "execution_count": 34,
   "metadata": {},
   "outputs": [],
   "source": [
    "hair_regex = '^#[0-9a-f]{6}$'\n",
    "passport_regex = '^[0-9]{9}$'\n",
    "height_regex = '^([0-9]+)(in|cm)$'"
   ]
  },
  {
   "cell_type": "code",
   "execution_count": 35,
   "metadata": {},
   "outputs": [],
   "source": [
    "valid_eye_colors = set('amb blu brn gry grn hzl oth'.split(' '))"
   ]
  },
  {
   "cell_type": "code",
   "execution_count": 36,
   "metadata": {},
   "outputs": [],
   "source": [
    "import re"
   ]
  },
  {
   "cell_type": "code",
   "execution_count": 37,
   "metadata": {},
   "outputs": [],
   "source": [
    "def validate_height(value):\n",
    "    match = re.match(height_regex, value)\n",
    "    if match:\n",
    "        num, units = match.groups()\n",
    "        if units == 'cm':\n",
    "            return verify_number(num, 150, 193)\n",
    "        else:\n",
    "            return verify_number(num, 59, 76)\n",
    "    else:\n",
    "        return False"
   ]
  },
  {
   "cell_type": "code",
   "execution_count": 38,
   "metadata": {},
   "outputs": [],
   "source": [
    "def validate_passport_2(passport_dict):\n",
    "    # Must have at least required keys, but can have extra\n",
    "    return all([\n",
    "        passport_dict.keys() >= REQUIRED_FIELDS,\n",
    "        verify_number(passport_dict.get('byr'), 1920, 2002),\n",
    "        verify_number(passport_dict.get('iyr'), 2010, 2020),\n",
    "        verify_number(passport_dict.get('eyr'), 2020, 2030),\n",
    "        validate_height(passport_dict.get('hgt', '')),\n",
    "        re.match(hair_regex, passport_dict.get('hcl', '')),\n",
    "        passport_dict.get('ecl') in valid_eye_colors,\n",
    "        re.match(passport_regex, passport_dict.get('pid', ''))\n",
    "    ])\n",
    "    "
   ]
  },
  {
   "cell_type": "code",
   "execution_count": 39,
   "metadata": {},
   "outputs": [],
   "source": [
    "# unit test\n",
    "false_positives = list(filter(lambda x: not validate_passport_2(x), sample_valid))\n",
    "false_negatives = list(filter(validate_passport_2, sample_invalid))\n",
    "assert len(false_positives) == 0\n",
    "assert len(false_negatives) == 0\n"
   ]
  },
  {
   "cell_type": "code",
   "execution_count": 40,
   "metadata": {},
   "outputs": [],
   "source": [
    "valid_passports_2 = list(filter(validate_passport_2, passports))"
   ]
  },
  {
   "cell_type": "code",
   "execution_count": 41,
   "metadata": {},
   "outputs": [
    {
     "data": {
      "text/plain": [
       "127"
      ]
     },
     "execution_count": 41,
     "metadata": {},
     "output_type": "execute_result"
    }
   ],
   "source": [
    "len(valid_passports_2)"
   ]
  },
  {
   "cell_type": "code",
   "execution_count": 111,
   "metadata": {},
   "outputs": [
    {
     "name": "stderr",
     "output_type": "stream",
     "text": [
      "2020-12-04 09:30:20,037 answer a: 219\n",
      "2020-12-04 09:30:20,039 submitting for part b (part a is already completed)\n",
      "2020-12-04 09:30:20,040 posting 128 to https://adventofcode.com/2020/day/4/answer (part b) token=...7ce0\n",
      "2020-12-04 09:30:20,565 wrong answer: 128\n",
      "2020-12-04 09:30:20,566 appending an incorrect answer for 2020/04 part b\n"
     ]
    },
    {
     "name": "stdout",
     "output_type": "stream",
     "text": [
      "\u001b[31mThat's not the right answer; your answer is too high.  If you're stuck, make sure you're using the full input data; there are also some general tips on the about page, or you can ask for hints on the subreddit.  Please wait one minute before trying again. (You guessed 128.) [Return to Day 4]\u001b[0m\n"
     ]
    },
    {
     "data": {
      "text/plain": [
       "<Response [200]>"
      ]
     },
     "execution_count": 111,
     "metadata": {},
     "output_type": "execute_result"
    }
   ],
   "source": [
    "submit(len(valid_passports_2))"
   ]
  },
  {
   "cell_type": "code",
   "execution_count": null,
   "metadata": {},
   "outputs": [],
   "source": []
  }
 ],
 "metadata": {
  "kernelspec": {
   "display_name": "Python 3",
   "language": "python",
   "name": "python3"
  },
  "language_info": {
   "codemirror_mode": {
    "name": "ipython",
    "version": 3
   },
   "file_extension": ".py",
   "mimetype": "text/x-python",
   "name": "python",
   "nbconvert_exporter": "python",
   "pygments_lexer": "ipython3",
   "version": "3.7.6"
  }
 },
 "nbformat": 4,
 "nbformat_minor": 2
}
