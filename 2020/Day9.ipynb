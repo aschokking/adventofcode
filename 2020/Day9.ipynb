{
 "cells": [
  {
   "cell_type": "code",
   "execution_count": 1,
   "metadata": {},
   "outputs": [],
   "source": [
    "from aocd import data, submit"
   ]
  },
  {
   "cell_type": "code",
   "execution_count": 19,
   "metadata": {},
   "outputs": [],
   "source": [
    "input_lines = list(map(int, data.splitlines()))"
   ]
  },
  {
   "cell_type": "code",
   "execution_count": 20,
   "metadata": {},
   "outputs": [
    {
     "data": {
      "text/plain": [
       "[18,\n",
       " 15,\n",
       " 39,\n",
       " 28,\n",
       " 25,\n",
       " 48,\n",
       " 41,\n",
       " 1,\n",
       " 32,\n",
       " 33,\n",
       " 8,\n",
       " 49,\n",
       " 43,\n",
       " 36,\n",
       " 40,\n",
       " 5,\n",
       " 20,\n",
       " 26,\n",
       " 22,\n",
       " 38,\n",
       " 4,\n",
       " 14,\n",
       " 3,\n",
       " 35,\n",
       " 29,\n",
       " 30,\n",
       " 6,\n",
       " 37,\n",
       " 7,\n",
       " 76,\n",
       " 9,\n",
       " 12,\n",
       " 10,\n",
       " 11,\n",
       " 15,\n",
       " 13,\n",
       " 18,\n",
       " 74,\n",
       " 8,\n",
       " 45,\n",
       " 17,\n",
       " 32,\n",
       " 28,\n",
       " 16,\n",
       " 41,\n",
       " 19,\n",
       " 20,\n",
       " 14,\n",
       " 34,\n",
       " 22]"
      ]
     },
     "execution_count": 20,
     "metadata": {},
     "output_type": "execute_result"
    }
   ],
   "source": [
    "input_lines[:50]"
   ]
  },
  {
   "cell_type": "code",
   "execution_count": 21,
   "metadata": {},
   "outputs": [],
   "source": [
    "window_size = 25"
   ]
  },
  {
   "cell_type": "code",
   "execution_count": 22,
   "metadata": {},
   "outputs": [],
   "source": [
    "def test_value(numbers, target):\n",
    "    for number1 in numbers:\n",
    "        for number2 in numbers:\n",
    "            if number1 + number2 == target:\n",
    "                return True\n",
    "    return False"
   ]
  },
  {
   "cell_type": "code",
   "execution_count": 23,
   "metadata": {},
   "outputs": [
    {
     "data": {
      "text/plain": [
       "30"
      ]
     },
     "execution_count": 23,
     "metadata": {},
     "output_type": "execute_result"
    }
   ],
   "source": [
    "input_lines[25]"
   ]
  },
  {
   "cell_type": "code",
   "execution_count": 26,
   "metadata": {},
   "outputs": [
    {
     "name": "stdout",
     "output_type": "stream",
     "text": [
      "Found value 15353384\n"
     ]
    }
   ],
   "source": [
    "for i in range(window_size, len(input_lines)):\n",
    "    if not test_value(input_lines[i-window_size:i], input_lines[i]):\n",
    "        print(f\"Found value {input_lines[i]}\")\n",
    "        key = input_lines[i]\n",
    "        break"
   ]
  },
  {
   "cell_type": "code",
   "execution_count": 25,
   "metadata": {},
   "outputs": [
    {
     "name": "stderr",
     "output_type": "stream",
     "text": [
      "answer a: None\n",
      "submitting for part a\n"
     ]
    },
    {
     "name": "stdout",
     "output_type": "stream",
     "text": [
      "\u001b[32mThat's the right answer!  You are one gold star closer to saving your vacation. [Continue to Part Two]\u001b[0m\n"
     ]
    },
    {
     "data": {
      "text/plain": [
       "<Response [200]>"
      ]
     },
     "execution_count": 25,
     "metadata": {},
     "output_type": "execute_result"
    }
   ],
   "source": [
    "submit(15353384)"
   ]
  },
  {
   "cell_type": "markdown",
   "metadata": {},
   "source": [
    "# Part 2"
   ]
  },
  {
   "cell_type": "code",
   "execution_count": 41,
   "metadata": {},
   "outputs": [
    {
     "name": "stdout",
     "output_type": "stream",
     "text": [
      "Found range from 384 to 401, sum digits 2466556\n",
      "Found range from 502 to 503, sum digits 30706768\n"
     ]
    }
   ],
   "source": [
    "for i in range(len(input_lines)):\n",
    "    for j in range(i, len(input_lines)):\n",
    "        target_range = input_lines[i:j]\n",
    "        total = sum(target_range)\n",
    "        if total == key:\n",
    "            first_last =min(target_range) + max(target_range)\n",
    "            print(f\"Found range from {i} to {j}, sum digits {first_last}\")\n",
    "        if total > key:\n",
    "            continue"
   ]
  },
  {
   "cell_type": "code",
   "execution_count": 42,
   "metadata": {},
   "outputs": [
    {
     "name": "stderr",
     "output_type": "stream",
     "text": [
      "answer a: 15353384\n",
      "submitting for part b (part a is already completed)\n"
     ]
    },
    {
     "name": "stdout",
     "output_type": "stream",
     "text": [
      "\u001b[32mThat's the right answer!  You are one gold star closer to saving your vacation.You have completed Day 9! You can [Shareon\n",
      "  Twitter\n",
      "Mastodon] this victory or [Return to Your Advent Calendar].\u001b[0m\n"
     ]
    },
    {
     "data": {
      "text/plain": [
       "<Response [200]>"
      ]
     },
     "execution_count": 42,
     "metadata": {},
     "output_type": "execute_result"
    }
   ],
   "source": [
    "submit(2466556)"
   ]
  },
  {
   "cell_type": "code",
   "execution_count": null,
   "metadata": {},
   "outputs": [],
   "source": []
  }
 ],
 "metadata": {
  "kernelspec": {
   "display_name": "Python 3",
   "language": "python",
   "name": "python3"
  },
  "language_info": {
   "codemirror_mode": {
    "name": "ipython",
    "version": 3
   },
   "file_extension": ".py",
   "mimetype": "text/x-python",
   "name": "python",
   "nbconvert_exporter": "python",
   "pygments_lexer": "ipython3",
   "version": "3.8.3"
  }
 },
 "nbformat": 4,
 "nbformat_minor": 4
}
