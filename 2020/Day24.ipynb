{
 "cells": [
  {
   "cell_type": "code",
   "execution_count": 39,
   "metadata": {},
   "outputs": [],
   "source": [
    "from util import *\n",
    "from aocd import data, submit"
   ]
  },
  {
   "cell_type": "code",
   "execution_count": 2,
   "metadata": {},
   "outputs": [],
   "source": [
    "sample_data = \"\"\"sesenwnenenewseeswwswswwnenewsewsw\n",
    "neeenesenwnwwswnenewnwwsewnenwseswesw\n",
    "seswneswswsenwwnwse\n",
    "nwnwneseeswswnenewneswwnewseswneseene\n",
    "swweswneswnenwsewnwneneseenw\n",
    "eesenwseswswnenwswnwnwsewwnwsene\n",
    "sewnenenenesenwsewnenwwwse\n",
    "wenwwweseeeweswwwnwwe\n",
    "wsweesenenewnwwnwsenewsenwwsesesenwne\n",
    "neeswseenwwswnwswswnw\n",
    "nenwswwsewswnenenewsenwsenwnesesenew\n",
    "enewnwewneswsewnwswenweswnenwsenwsw\n",
    "sweneswneswneneenwnewenewwneswswnese\n",
    "swwesenesewenwneswnwwneseswwne\n",
    "enesenwswwswneneswsenwnewswseenwsese\n",
    "wnwnesenesenenwwnenwsewesewsesesew\n",
    "nenewswnwewswnenesenwnesewesw\n",
    "eneswnwswnwsenenwnwnwwseeswneewsenese\n",
    "neswnwewnwnwseenwseesewsenwsweewe\n",
    "wseweeenwnesenwwwswnew\"\"\""
   ]
  },
  {
   "cell_type": "code",
   "execution_count": 25,
   "metadata": {},
   "outputs": [],
   "source": [
    "from dataclasses import dataclass\n",
    "import hashlib"
   ]
  },
  {
   "cell_type": "markdown",
   "metadata": {},
   "source": [
    "Coordinate system:\n",
    "```\n",
    "  -1,-1  0, -1\n",
    "-1,0  0,0  1,0\n",
    "    0,1  1,1\n",
    " ```"
   ]
  },
  {
   "cell_type": "code",
   "execution_count": 133,
   "metadata": {},
   "outputs": [],
   "source": [
    "EAST = 'e'\n",
    "WEST = 'w'\n",
    "N_EAST = 'ne'\n",
    "N_WEST = 'nw'\n",
    "S_EAST = 'se'\n",
    "S_WEST = 'sw'\n",
    "\n",
    "direction_delta_map = {\n",
    "    # even/odd row deltas\n",
    "    EAST: [(1, 0)],\n",
    "    WEST: [(-1, 0)],\n",
    "    N_EAST: [(1, -1), (0, -1)],\n",
    "    N_WEST: [(0, -1), (-1, -1)],\n",
    "    S_EAST: [(1, 1), (0, 1)],\n",
    "    S_WEST: [(0, 1), (-1, 1)],\n",
    "}\n",
    "\n",
    "@dataclass\n",
    "class Hex():\n",
    "    col: int = 0\n",
    "    row: int = 0\n",
    "        \n",
    "    def translate(self, op) -> 'Hex':\n",
    "        row_type = -1 * (self.row % 2) # map to 0 for even, -1 for odd\n",
    "        d_c, d_r = direction_delta_map[op][row_type]\n",
    "        return Hex(col = self.col + d_c, row = self.row + d_r)\n",
    "        \n",
    "    def __hash__(self):\n",
    "        return hash((self.col, self.row))\n",
    "    \n",
    "    def neighbors(self) -> List['Hex']:\n",
    "        return mapl(lambda op: self.translate(op), direction_delta_map.keys())\n",
    "    "
   ]
  },
  {
   "cell_type": "code",
   "execution_count": 134,
   "metadata": {},
   "outputs": [
    {
     "name": "stdout",
     "output_type": "stream",
     "text": [
      "The ipython_unittest extension is already loaded. To reload it, use:\n",
      "  %reload_ext ipython_unittest\n"
     ]
    }
   ],
   "source": [
    "%load_ext ipython_unittest"
   ]
  },
  {
   "cell_type": "code",
   "execution_count": 161,
   "metadata": {},
   "outputs": [
    {
     "data": {
      "application/unittest.status+json": {
       "color": "yellow",
       "message": "",
       "previous": 0
      },
      "text/plain": []
     },
     "metadata": {},
     "output_type": "display_data"
    },
    {
     "data": {
      "application/unittest.status+json": {
       "color": "lightgreen",
       "message": ".....\n----------------------------------------------------------------------\nRan 5 tests in 0.000s\n\nOK\n",
       "previous": 0
      },
      "text/plain": [
       "Success"
      ]
     },
     "metadata": {},
     "output_type": "display_data"
    },
    {
     "name": "stdout",
     "output_type": "stream",
     "text": [
      ".....\n",
      "----------------------------------------------------------------------\n",
      "Ran 5 tests in 0.000s\n",
      "\n",
      "OK\n"
     ]
    },
    {
     "data": {
      "text/plain": [
       "<unittest.runner.TextTestResult run=5 errors=0 failures=0>"
      ]
     },
     "execution_count": 161,
     "metadata": {},
     "output_type": "execute_result"
    }
   ],
   "source": [
    "%%unittest_testcase\n",
    "def test_even_ne(self):\n",
    "    updated = Hex(3, 2).translate('ne')\n",
    "    self.assertEqual(updated, Hex(4, 1))\n",
    "\n",
    "def test_even_nw(self):\n",
    "    updated = Hex(3, 2).translate('nw')\n",
    "    self.assertEqual(updated, Hex(3, 1))\n",
    "    \n",
    "def test_odd_ne(self):    \n",
    "    updated = Hex(3, 1).translate('ne')\n",
    "    self.assertEqual(updated, Hex(3,0))\n",
    "\n",
    "def test_odd_nw(self):\n",
    "    updated = Hex(3, 1).translate('nw')\n",
    "    self.assertEqual(updated, Hex(2, 0))\n",
    "    \n",
    "def test_neighbors(self):\n",
    "    neighbors = Hex(3, 1).neighbors()\n",
    "    self.assertEqual(len(set(neighbors)), 6)"
   ]
  },
  {
   "cell_type": "code",
   "execution_count": 136,
   "metadata": {},
   "outputs": [],
   "source": [
    "import re"
   ]
  },
  {
   "cell_type": "code",
   "execution_count": 137,
   "metadata": {},
   "outputs": [],
   "source": [
    "def parse_data(data) -> List[List[str]]:\n",
    "    return mapl(lambda row: re.findall('se|sw|ne|nw|e|w', row), data.splitlines())"
   ]
  },
  {
   "cell_type": "code",
   "execution_count": null,
   "metadata": {},
   "outputs": [],
   "source": []
  },
  {
   "cell_type": "code",
   "execution_count": 138,
   "metadata": {},
   "outputs": [],
   "source": [
    "from functools import reduce"
   ]
  },
  {
   "cell_type": "code",
   "execution_count": 139,
   "metadata": {},
   "outputs": [],
   "source": [
    "def part_1(data):\n",
    "    instructions = parse_data(data)\n",
    "    tile_map = defaultdict(lambda : False)\n",
    "    for instruction in instructions:\n",
    "        target_tile = reduce(lambda h, op: h.translate(op), instruction, Hex())\n",
    "        # print(f\"Flipping hex {target_tile}, prev state: {tile_map[target_tile]}\")\n",
    "        tile_map[target_tile] = not tile_map[target_tile] \n",
    "    return tile_map"
   ]
  },
  {
   "cell_type": "code",
   "execution_count": 140,
   "metadata": {},
   "outputs": [],
   "source": [
    "tile_map = part_1(data)"
   ]
  },
  {
   "cell_type": "code",
   "execution_count": 141,
   "metadata": {},
   "outputs": [],
   "source": [
    "num_black = sum(tile_map.values())"
   ]
  },
  {
   "cell_type": "code",
   "execution_count": 142,
   "metadata": {},
   "outputs": [
    {
     "data": {
      "text/plain": [
       "232"
      ]
     },
     "execution_count": 142,
     "metadata": {},
     "output_type": "execute_result"
    }
   ],
   "source": [
    "num_black"
   ]
  },
  {
   "cell_type": "code",
   "execution_count": 120,
   "metadata": {},
   "outputs": [
    {
     "name": "stderr",
     "output_type": "stream",
     "text": [
      "answer a: None\n",
      "submitting for part a\n"
     ]
    },
    {
     "name": "stdout",
     "output_type": "stream",
     "text": [
      "\u001b[32mThat's the right answer!  You are one gold star closer to saving your vacation. [Continue to Part Two]\u001b[0m\n"
     ]
    },
    {
     "data": {
      "text/plain": [
       "<Response [200]>"
      ]
     },
     "execution_count": 120,
     "metadata": {},
     "output_type": "execute_result"
    }
   ],
   "source": [
    "# submit(num_black)"
   ]
  },
  {
   "cell_type": "markdown",
   "metadata": {},
   "source": [
    "## Part 2"
   ]
  },
  {
   "cell_type": "code",
   "execution_count": 176,
   "metadata": {},
   "outputs": [],
   "source": [
    "def count_black_neighbors(tile, state):\n",
    "    return sum(mapl(lambda cand: state[cand], tile.neighbors()))"
   ]
  },
  {
   "cell_type": "code",
   "execution_count": 182,
   "metadata": {},
   "outputs": [],
   "source": [
    "def apply_step(state):\n",
    "    new_state = defaultdict(lambda : False)\n",
    "    black_tiles = dict(filterl(lambda item: item[1], state.items()))\n",
    "    white_neighbors = set(chain.from_iterable(mapl(lambda tile: tile.neighbors(), black_tiles.keys()))) - set(black_tiles.keys())\n",
    "    \n",
    "    for black_tile in black_tiles.keys():\n",
    "        count = count_black_neighbors(black_tile, state)\n",
    "        # print(f\"{black_tile}: {count}\")\n",
    "        if count in (1, 2):\n",
    "            # stays black\n",
    "            new_state[black_tile] = True\n",
    "    \n",
    "    for white_tile in white_neighbors:\n",
    "        count = count_black_neighbors(white_tile, state)\n",
    "        # print(f\"{white_tile}: {count}\")\n",
    "        if count == 2:\n",
    "            new_state[white_tile] = True\n",
    "    \n",
    "    return new_state"
   ]
  },
  {
   "cell_type": "code",
   "execution_count": 186,
   "metadata": {},
   "outputs": [],
   "source": [
    "state = part_1(data)\n",
    "for i in range(100):\n",
    "    state = apply_step(state)\n",
    "    #print(f\"{i}: {sum(state.values())}\")"
   ]
  },
  {
   "cell_type": "code",
   "execution_count": 187,
   "metadata": {},
   "outputs": [
    {
     "data": {
      "text/plain": [
       "3519"
      ]
     },
     "execution_count": 187,
     "metadata": {},
     "output_type": "execute_result"
    }
   ],
   "source": [
    "result = sum(state.values())\n",
    "result"
   ]
  },
  {
   "cell_type": "code",
   "execution_count": 188,
   "metadata": {},
   "outputs": [
    {
     "name": "stderr",
     "output_type": "stream",
     "text": [
      "answer a: 232\n",
      "submitting for part b (part a is already completed)\n"
     ]
    },
    {
     "name": "stdout",
     "output_type": "stream",
     "text": [
      "\u001b[32mThat's the right answer!  You are one gold star closer to saving your vacation.You have completed Day 24! You can [Shareon\n",
      "  Twitter\n",
      "Mastodon] this victory or [Return to Your Advent Calendar].\u001b[0m\n"
     ]
    },
    {
     "data": {
      "text/plain": [
       "<Response [200]>"
      ]
     },
     "execution_count": 188,
     "metadata": {},
     "output_type": "execute_result"
    }
   ],
   "source": [
    "submit(result)"
   ]
  },
  {
   "cell_type": "code",
   "execution_count": null,
   "metadata": {},
   "outputs": [],
   "source": []
  }
 ],
 "metadata": {
  "kernelspec": {
   "display_name": "Python 3",
   "language": "python",
   "name": "python3"
  },
  "language_info": {
   "codemirror_mode": {
    "name": "ipython",
    "version": 3
   },
   "file_extension": ".py",
   "mimetype": "text/x-python",
   "name": "python",
   "nbconvert_exporter": "python",
   "pygments_lexer": "ipython3",
   "version": "3.7.6"
  }
 },
 "nbformat": 4,
 "nbformat_minor": 4
}
