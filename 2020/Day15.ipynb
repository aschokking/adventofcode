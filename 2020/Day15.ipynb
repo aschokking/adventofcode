{
 "cells": [
  {
   "cell_type": "code",
   "execution_count": 1,
   "metadata": {},
   "outputs": [
    {
     "name": "stderr",
     "output_type": "stream",
     "text": [
      "2020-12-15 08:00:36,923 getting data year=2020 day=15 token=...7ce0\n",
      "2020-12-15 08:00:37,347 saving the puzzle input token=...7ce0\n"
     ]
    }
   ],
   "source": [
    "from aocd import data, submit"
   ]
  },
  {
   "cell_type": "code",
   "execution_count": 2,
   "metadata": {},
   "outputs": [
    {
     "data": {
      "text/plain": [
       "'8,13,'"
      ]
     },
     "execution_count": 2,
     "metadata": {},
     "output_type": "execute_result"
    }
   ],
   "source": [
    "data[:5]"
   ]
  },
  {
   "cell_type": "code",
   "execution_count": 3,
   "metadata": {},
   "outputs": [],
   "source": [
    "sample_data = \"0,3,6\""
   ]
  },
  {
   "cell_type": "code",
   "execution_count": 4,
   "metadata": {},
   "outputs": [],
   "source": [
    "def parse_data(data):\n",
    "    return list(map(lambda x: int(x), data.split(\",\")))"
   ]
  },
  {
   "cell_type": "code",
   "execution_count": 54,
   "metadata": {},
   "outputs": [],
   "source": [
    "start = parse_data(data)"
   ]
  },
  {
   "cell_type": "code",
   "execution_count": 55,
   "metadata": {},
   "outputs": [
    {
     "data": {
      "text/plain": [
       "[8, 13, 1, 0, 18]"
      ]
     },
     "execution_count": 55,
     "metadata": {},
     "output_type": "execute_result"
    }
   ],
   "source": [
    "start[:5]"
   ]
  },
  {
   "cell_type": "code",
   "execution_count": 56,
   "metadata": {},
   "outputs": [],
   "source": [
    "from collections import defaultdict"
   ]
  },
  {
   "cell_type": "code",
   "execution_count": 71,
   "metadata": {},
   "outputs": [],
   "source": [
    "from tqdm import tqdm, trange"
   ]
  },
  {
   "cell_type": "code",
   "execution_count": 72,
   "metadata": {},
   "outputs": [],
   "source": [
    "target_turn = 2020\n",
    "\n",
    "def get_turn_value(start, target_turn):\n",
    "    turn_numbers = []\n",
    "    cache = defaultdict(list)\n",
    "    # seed things\n",
    "    for i, num in enumerate(start):\n",
    "        turn_numbers.append(num)\n",
    "        cache[num].append(i+1)\n",
    "\n",
    "    for turn in trange(len(start) + 1, target_turn + 1):\n",
    "        last_value = turn_numbers[-1]\n",
    "        previous_turns = cache[last_value]\n",
    "        if len(list(filter(lambda x: x != turn -1, previous_turns))) == 0:\n",
    "            # previous was first time spoken\n",
    "            current = 0\n",
    "        else:\n",
    "            current = previous_turns[-1] - previous_turns[-2]\n",
    "        turn_numbers.append(current)\n",
    "        cache[current].append(turn)\n",
    "        # Only keep last 2 numbers, save a little memory\n",
    "        cache[current] = cache[current][-2:]\n",
    "    return turn_numbers[-1]"
   ]
  },
  {
   "cell_type": "markdown",
   "metadata": {},
   "source": [
    "# Part 1"
   ]
  },
  {
   "cell_type": "code",
   "execution_count": 73,
   "metadata": {},
   "outputs": [
    {
     "name": "stderr",
     "output_type": "stream",
     "text": [
      "100%|██████████| 2014/2014 [00:00<00:00, 555416.42it/s]\n"
     ]
    }
   ],
   "source": [
    "turn_number = get_turn_value(start, target_turn)"
   ]
  },
  {
   "cell_type": "code",
   "execution_count": 74,
   "metadata": {},
   "outputs": [
    {
     "data": {
      "text/plain": [
       "755"
      ]
     },
     "execution_count": 74,
     "metadata": {},
     "output_type": "execute_result"
    }
   ],
   "source": [
    "turn_number"
   ]
  },
  {
   "cell_type": "code",
   "execution_count": 59,
   "metadata": {},
   "outputs": [
    {
     "name": "stderr",
     "output_type": "stream",
     "text": [
      "2020-12-15 08:32:56,364 answer a: None\n",
      "2020-12-15 08:32:56,365 submitting for part a\n",
      "2020-12-15 08:32:56,366 posting 755 to https://adventofcode.com/2020/day/15/answer (part a) token=...7ce0\n",
      "2020-12-15 08:32:57,077 saving the correct answer for 2020/15 part a: 755\n"
     ]
    },
    {
     "name": "stdout",
     "output_type": "stream",
     "text": [
      "\u001b[32mThat's the right answer!  You are one gold star closer to saving your vacation. [Continue to Part Two]\u001b[0m\n"
     ]
    },
    {
     "data": {
      "text/plain": [
       "<Response [200]>"
      ]
     },
     "execution_count": 59,
     "metadata": {},
     "output_type": "execute_result"
    }
   ],
   "source": [
    "submit(turn_numbers[-1])"
   ]
  },
  {
   "cell_type": "markdown",
   "metadata": {},
   "source": [
    "# Part 2"
   ]
  },
  {
   "cell_type": "code",
   "execution_count": 75,
   "metadata": {},
   "outputs": [
    {
     "name": "stderr",
     "output_type": "stream",
     "text": [
      "100%|██████████| 29999994/29999994 [01:26<00:00, 348309.40it/s]\n"
     ]
    }
   ],
   "source": [
    "turn_number = get_turn_value(start, 30000000)"
   ]
  },
  {
   "cell_type": "code",
   "execution_count": 76,
   "metadata": {},
   "outputs": [
    {
     "data": {
      "text/plain": [
       "11962"
      ]
     },
     "execution_count": 76,
     "metadata": {},
     "output_type": "execute_result"
    }
   ],
   "source": [
    "turn_number"
   ]
  },
  {
   "cell_type": "code",
   "execution_count": 77,
   "metadata": {},
   "outputs": [
    {
     "name": "stderr",
     "output_type": "stream",
     "text": [
      "2020-12-15 08:43:04,565 answer a: 755\n",
      "2020-12-15 08:43:04,566 submitting for part b (part a is already completed)\n",
      "2020-12-15 08:43:04,567 posting 11962 to https://adventofcode.com/2020/day/15/answer (part b) token=...7ce0\n",
      "2020-12-15 08:43:05,223 saving the correct answer for 2020/15 part b: 11962\n"
     ]
    },
    {
     "name": "stdout",
     "output_type": "stream",
     "text": [
      "\u001b[32mThat's the right answer!  You are one gold star closer to saving your vacation.You have completed Day 15! You can [Shareon\n",
      "  Twitter\n",
      "Mastodon] this victory or [Return to Your Advent Calendar].\u001b[0m\n"
     ]
    },
    {
     "data": {
      "text/plain": [
       "<Response [200]>"
      ]
     },
     "execution_count": 77,
     "metadata": {},
     "output_type": "execute_result"
    }
   ],
   "source": [
    "submit(turn_number)"
   ]
  },
  {
   "cell_type": "code",
   "execution_count": null,
   "metadata": {},
   "outputs": [],
   "source": []
  }
 ],
 "metadata": {
  "kernelspec": {
   "display_name": "Python 3",
   "language": "python",
   "name": "python3"
  },
  "language_info": {
   "codemirror_mode": {
    "name": "ipython",
    "version": 3
   },
   "file_extension": ".py",
   "mimetype": "text/x-python",
   "name": "python",
   "nbconvert_exporter": "python",
   "pygments_lexer": "ipython3",
   "version": "3.7.1"
  }
 },
 "nbformat": 4,
 "nbformat_minor": 2
}
