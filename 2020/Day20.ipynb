{
 "cells": [
  {
   "cell_type": "code",
   "execution_count": 1,
   "metadata": {},
   "outputs": [],
   "source": [
    "from aocd import data, submit\n",
    "from util import *\n",
    "from typing import List\n",
    "from collections import defaultdict"
   ]
  },
  {
   "cell_type": "code",
   "execution_count": 2,
   "metadata": {},
   "outputs": [
    {
     "data": {
      "text/plain": [
       "['Tile 2903:', '..#..#....', '.....#...#', '..#...#.##', '#....#..#.']"
      ]
     },
     "execution_count": 2,
     "metadata": {},
     "output_type": "execute_result"
    }
   ],
   "source": [
    "data.splitlines()[:5]"
   ]
  },
  {
   "cell_type": "code",
   "execution_count": 3,
   "metadata": {},
   "outputs": [],
   "source": [
    "sample_data = \"\"\"Tile 2311:\n",
    "..##.#..#.\n",
    "##..#.....\n",
    "#...##..#.\n",
    "####.#...#\n",
    "##.##.###.\n",
    "##...#.###\n",
    ".#.#.#..##\n",
    "..#....#..\n",
    "###...#.#.\n",
    "..###..###\n",
    "\n",
    "Tile 1951:\n",
    "#.##...##.\n",
    "#.####...#\n",
    ".....#..##\n",
    "#...######\n",
    ".##.#....#\n",
    ".###.#####\n",
    "###.##.##.\n",
    ".###....#.\n",
    "..#.#..#.#\n",
    "#...##.#..\n",
    "\n",
    "Tile 1171:\n",
    "####...##.\n",
    "#..##.#..#\n",
    "##.#..#.#.\n",
    ".###.####.\n",
    "..###.####\n",
    ".##....##.\n",
    ".#...####.\n",
    "#.##.####.\n",
    "####..#...\n",
    ".....##...\n",
    "\n",
    "Tile 1427:\n",
    "###.##.#..\n",
    ".#..#.##..\n",
    ".#.##.#..#\n",
    "#.#.#.##.#\n",
    "....#...##\n",
    "...##..##.\n",
    "...#.#####\n",
    ".#.####.#.\n",
    "..#..###.#\n",
    "..##.#..#.\n",
    "\n",
    "Tile 1489:\n",
    "##.#.#....\n",
    "..##...#..\n",
    ".##..##...\n",
    "..#...#...\n",
    "#####...#.\n",
    "#..#.#.#.#\n",
    "...#.#.#..\n",
    "##.#...##.\n",
    "..##.##.##\n",
    "###.##.#..\n",
    "\n",
    "Tile 2473:\n",
    "#....####.\n",
    "#..#.##...\n",
    "#.##..#...\n",
    "######.#.#\n",
    ".#...#.#.#\n",
    ".#########\n",
    ".###.#..#.\n",
    "########.#\n",
    "##...##.#.\n",
    "..###.#.#.\n",
    "\n",
    "Tile 2971:\n",
    "..#.#....#\n",
    "#...###...\n",
    "#.#.###...\n",
    "##.##..#..\n",
    ".#####..##\n",
    ".#..####.#\n",
    "#..#.#..#.\n",
    "..####.###\n",
    "..#.#.###.\n",
    "...#.#.#.#\n",
    "\n",
    "Tile 2729:\n",
    "...#.#.#.#\n",
    "####.#....\n",
    "..#.#.....\n",
    "....#..#.#\n",
    ".##..##.#.\n",
    ".#.####...\n",
    "####.#.#..\n",
    "##.####...\n",
    "##..#.##..\n",
    "#.##...##.\n",
    "\n",
    "Tile 3079:\n",
    "#.#.#####.\n",
    ".#..######\n",
    "..#.......\n",
    "######....\n",
    "####.#..#.\n",
    ".#...#.##.\n",
    "#.#####.##\n",
    "..#.###...\n",
    "..#.......\n",
    "..#.###...\"\"\""
   ]
  },
  {
   "cell_type": "code",
   "execution_count": 4,
   "metadata": {},
   "outputs": [],
   "source": [
    "from itertools import takewhile\n",
    "import numpy as np\n",
    "\n",
    "def parse_data(data):\n",
    "    data_iter = iter(data.splitlines())\n",
    "    \n",
    "    raw_tile_groups = {}\n",
    "    while True:\n",
    "        next_group = list(takewhile(\n",
    "            lambda x: x != \"\",\n",
    "            data_iter\n",
    "        ))\n",
    "        if next_group == []:\n",
    "            break\n",
    "        tile_id = int(next_group[0][4:-1])\n",
    "        raw_tile_groups[tile_id] = np.array(list(map(list, next_group[1:])))\n",
    "    \n",
    "    return raw_tile_groups\n",
    "        "
   ]
  },
  {
   "cell_type": "code",
   "execution_count": 5,
   "metadata": {},
   "outputs": [],
   "source": [
    "# collect the 8 mirrored versions of the sides"
   ]
  },
  {
   "cell_type": "code",
   "execution_count": 37,
   "metadata": {},
   "outputs": [],
   "source": [
    "def get_all_slides(group) -> List[str]:\n",
    "    # collect the 4 sides\n",
    "    sides = [\n",
    "        group[0, :],\n",
    "        group[:, -1],\n",
    "        group[-1, :],\n",
    "        group[:, 0]\n",
    "    ]\n",
    "    \n",
    "    # Add mirrors\n",
    "    sides.extend(mapl(lambda x: x[::-1], sides))\n",
    "    \n",
    "    return mapl(lambda x: \"\".join(x), sides)\n",
    "    "
   ]
  },
  {
   "cell_type": "code",
   "execution_count": 38,
   "metadata": {},
   "outputs": [],
   "source": [
    "def build_side_id_map(groups):\n",
    "    side_id_map = defaultdict(set)\n",
    "    for tile_id, group in groups.items():\n",
    "        for side in get_all_slides(group):\n",
    "            side_id_map[side].add(tile_id)\n",
    "    return side_id_map"
   ]
  },
  {
   "cell_type": "code",
   "execution_count": 8,
   "metadata": {},
   "outputs": [],
   "source": [
    "# find out which tiles have more than 2 solo sides"
   ]
  },
  {
   "cell_type": "code",
   "execution_count": 9,
   "metadata": {},
   "outputs": [],
   "source": [
    "from collections import Counter"
   ]
  },
  {
   "cell_type": "code",
   "execution_count": 10,
   "metadata": {},
   "outputs": [],
   "source": [
    "def find_corner_ids_product(side_id_map):\n",
    "    single_side_counter = Counter()\n",
    "    for tile_set in side_id_map.values():\n",
    "        if len(tile_set) == 1:\n",
    "            single_side_counter[list(tile_set)[0]] += 1\n",
    "    corners = filterl(lambda x: x[1] > 2, single_side_counter.items())\n",
    "    assert len(corners) == 4\n",
    "    corner_ids = mapl(lambda x: x[0], corners)\n",
    "    return corner_ids"
   ]
  },
  {
   "cell_type": "code",
   "execution_count": 220,
   "metadata": {},
   "outputs": [],
   "source": [
    "groups = parse_data(data)\n",
    "side_id_map = build_side_id_map(groups)\n",
    "result = np.product(find_corner_ids_product(side_id_map))"
   ]
  },
  {
   "cell_type": "code",
   "execution_count": 221,
   "metadata": {},
   "outputs": [
    {
     "data": {
      "text/plain": [
       "19955159604613"
      ]
     },
     "execution_count": 221,
     "metadata": {},
     "output_type": "execute_result"
    }
   ],
   "source": [
    "result"
   ]
  },
  {
   "cell_type": "code",
   "execution_count": 222,
   "metadata": {},
   "outputs": [],
   "source": [
    "# submit(result)"
   ]
  },
  {
   "cell_type": "markdown",
   "metadata": {},
   "source": [
    "# Part 2"
   ]
  },
  {
   "cell_type": "code",
   "execution_count": 223,
   "metadata": {},
   "outputs": [],
   "source": [
    "def rotate_right(array, times = 1):\n",
    "    return np.rot90(array, k = - times)\n",
    "\n",
    "def align_tile_top(tile: np.array, side_index: int):\n",
    "    # index from get_all_slides()\n",
    "    if side_index == 0:\n",
    "        return tile\n",
    "    if side_index == 1:\n",
    "        return rotate_right(tile, 3)\n",
    "    if side_index == 2:\n",
    "        return np.fliplr(rotate_right(tile, 2))\n",
    "    if side_index == 3:\n",
    "        return np.fliplr(rotate_right(tile, 1))\n",
    "    if side_index == 4:\n",
    "        return np.fliplr(tile)\n",
    "    if side_index == 5:\n",
    "        return np.fliplr(rotate_right(tile, 3))\n",
    "    if side_index == 6:\n",
    "        return rotate_right(tile, 2)\n",
    "    if side_index == 7:\n",
    "        return rotate_right(next_tile, 1)"
   ]
  },
  {
   "cell_type": "code",
   "execution_count": 224,
   "metadata": {},
   "outputs": [],
   "source": [
    "import math"
   ]
  },
  {
   "cell_type": "code",
   "execution_count": 225,
   "metadata": {},
   "outputs": [],
   "source": [
    "SIZE = int(math.sqrt(len(groups)))"
   ]
  },
  {
   "cell_type": "code",
   "execution_count": 250,
   "metadata": {},
   "outputs": [],
   "source": [
    "from copy import copy \n",
    "# find actual complete ordering of tiles\n",
    "assembled_tiles = []\n",
    "assembled_tile_ids = set()\n",
    "\n",
    "# index scheme:\n",
    "# 0 2\n",
    "# 1 3\n",
    "\n",
    "# start with 1 of the corners to anchor things\n",
    "# find corner to start and orient it so the outsides are up/left\n",
    "tile_id = find_corner_ids_product(side_id_map)[0]\n",
    "tile = groups[tile_id]\n",
    "\n",
    "sides = get_all_slides(tile)[:4] # only need first four since we won't need to flip\n",
    "out_sides = mapl(lambda side: len(side_id_map[side]) == 1, sides)\n",
    "while out_sides != [True, False, False, True]:\n",
    "    tile = rotate_right(tile)\n",
    "    sides = get_all_slides(tile)[:4] # only need first four since we won't need to flip\n",
    "    out_sides = mapl(lambda side: len(side_id_map[side]) == 1, sides)\n",
    "\n",
    "assembled_tiles.append(tile)\n",
    "assembled_tile_ids.add(tile_id)\n",
    "\n",
    "while len(assembled_tiles) < SIZE * SIZE:\n",
    "    # print(f\"Starting {len(assembled_tiles)}\")\n",
    "    if len(assembled_tiles) % SIZE == 0:\n",
    "        # start a new column off\n",
    "        # target right side of top of prevoius column\n",
    "        target_side = \"\".join(assembled_tiles[-1 * SIZE][:, -1])\n",
    "        # find other tile with this size, should only be 1\n",
    "        matching_tiles = side_id_map[target_side]\n",
    "        next_tile_id = list(matching_tiles - assembled_tile_ids)[0]\n",
    "        next_tile = groups[next_tile_id]\n",
    "        next_sides = get_all_slides(next_tile)\n",
    "        side_index = next_sides.index(target_side)\n",
    "        top_aligned_tile = align_tile_top(next_tile, side_index)\n",
    "        # instead of being top aligned, just gotta rotate this guy slightly\n",
    "        final_tile = rotate_right(np.fliplr(top_aligned_tile), 3)\n",
    "    else:\n",
    "        # find the next value down the list\n",
    "        # start with the bottom of side of the previous tile\n",
    "        target_side = \"\".join(assembled_tiles[-1][-1, :])\n",
    "        # find other tile with this size, should only be 1\n",
    "        matching_tiles = side_id_map[target_side] - assembled_tile_ids\n",
    "        if len(matching_tiles) != 1:\n",
    "            import pdb; pdb.set_trace()\n",
    "        next_tile_id = list(matching_tiles)[0]\n",
    "        next_tile = groups[next_tile_id]\n",
    "        next_sides = get_all_slides(next_tile)\n",
    "        side_index = next_sides.index(target_side)\n",
    "        final_tile = align_tile_top(next_tile, side_index)\n",
    "\n",
    "    assembled_tiles.append(final_tile)\n",
    "    assembled_tile_ids.add(next_tile_id)\n",
    "    \n",
    "assert assembled_tile_ids == set(groups.keys())"
   ]
  },
  {
   "cell_type": "code",
   "execution_count": 251,
   "metadata": {},
   "outputs": [],
   "source": [
    "blocked_arrays = []\n",
    "full_blocked_arrays = [] # for debugging\n",
    "for i in range(SIZE):\n",
    "    current = []\n",
    "    full_current = []\n",
    "    for j in range(SIZE):\n",
    "        # drop the outside of each block to get at the actual image\n",
    "        current.append(assembled_tiles[j * SIZE + i][1:-1, 1:-1])\n",
    "        full_current.append(assembled_tiles[j * SIZE + i])\n",
    "    \n",
    "    blocked_arrays.append(current)\n",
    "    full_blocked_arrays.append(full_current)"
   ]
  },
  {
   "cell_type": "code",
   "execution_count": 252,
   "metadata": {},
   "outputs": [],
   "source": [
    "combined = np.block(blocked_arrays) # this is the final, reconstructed image\n",
    "full_combined = np.block(full_blocked_arrays)"
   ]
  },
  {
   "cell_type": "code",
   "execution_count": null,
   "metadata": {},
   "outputs": [],
   "source": [
    "# If desired, print out the full thing for debugging\n",
    "for row in full_combined:\n",
    "    print(\"\".join(row[:11]))"
   ]
  },
  {
   "cell_type": "code",
   "execution_count": null,
   "metadata": {},
   "outputs": [],
   "source": [
    "# Print final image\n",
    "for row in combined:\n",
    "    print(\"\".join(row))"
   ]
  },
  {
   "cell_type": "markdown",
   "metadata": {},
   "source": [
    "### Now find monsters"
   ]
  },
  {
   "cell_type": "code",
   "execution_count": 234,
   "metadata": {},
   "outputs": [],
   "source": [
    "monster_str = \"\"\"                  # \n",
    "#    ##    ##    ###\n",
    " #  #  #  #  #  #   \n",
    "\"\"\".replace(\" \", \"0\").replace(\"#\", \"1\").splitlines()"
   ]
  },
  {
   "cell_type": "code",
   "execution_count": 235,
   "metadata": {},
   "outputs": [],
   "source": [
    "monster_mask = np.array(mapl(lambda l: mapl(int, l), mapl(list, monster_str)))\n",
    "MONSTER_SIZE = np.sum(monster_mask)"
   ]
  },
  {
   "cell_type": "code",
   "execution_count": 236,
   "metadata": {},
   "outputs": [
    {
     "data": {
      "text/plain": [
       "array([[0, 0, 0, 0, 0, 0, 0, 0, 0, 0, 0, 0, 0, 0, 0, 0, 0, 0, 1, 0],\n",
       "       [1, 0, 0, 0, 0, 1, 1, 0, 0, 0, 0, 1, 1, 0, 0, 0, 0, 1, 1, 1],\n",
       "       [0, 1, 0, 0, 1, 0, 0, 1, 0, 0, 1, 0, 0, 1, 0, 0, 1, 0, 0, 0]])"
      ]
     },
     "execution_count": 236,
     "metadata": {},
     "output_type": "execute_result"
    }
   ],
   "source": [
    "monster_mask"
   ]
  },
  {
   "cell_type": "code",
   "execution_count": 237,
   "metadata": {},
   "outputs": [],
   "source": [
    " import numpy.ma as ma"
   ]
  },
  {
   "cell_type": "code",
   "execution_count": 269,
   "metadata": {},
   "outputs": [],
   "source": [
    "def test_monster(i, j, array):\n",
    "    full_mask = np.zeros(array.shape, dtype=np.bool)\n",
    "    full_mask[i:monster_mask.shape[0]+i, j:monster_mask.shape[1] + j] = monster_mask\n",
    "    return np.sum(array[full_mask] == '#') == MONSTER_SIZE, full_mask"
   ]
  },
  {
   "cell_type": "code",
   "execution_count": 276,
   "metadata": {},
   "outputs": [],
   "source": [
    "# Try all 8 rotation/flip combos\n",
    "candidates = [\n",
    "    combined,\n",
    "    rotate_right(combined, 1),\n",
    "    rotate_right(combined, 2),\n",
    "    rotate_right(combined, 3),\n",
    "    np.fliplr(combined),\n",
    "    rotate_right(np.fliplr(combined), 1),\n",
    "    rotate_right(np.fliplr(combined), 2),\n",
    "    rotate_right(np.fliplr(combined), 3),\n",
    "]\n",
    "for candidate in candidates:\n",
    "    monster_free = candidate.copy()\n",
    "    found = False\n",
    "    for i in range(candidate.shape[0] - monster_mask.shape[0]):\n",
    "        for j in range(candidate.shape[1] - monster_mask.shape[1]):\n",
    "            result, mask = test_monster(i, j, candidate)\n",
    "            if result:\n",
    "                found = True\n",
    "                # print(f\"Found one at {i}, {j}\")\n",
    "                # mask out the monster indices so they won't count at the end\n",
    "                monster_free = np.ma.array(monster_free, mask=mask).filled('0')\n",
    "    if found:\n",
    "        break"
   ]
  },
  {
   "cell_type": "code",
   "execution_count": null,
   "metadata": {},
   "outputs": [],
   "source": [
    "# print out monster masked image\n",
    "for row in monster_free:\n",
    "    print(\"\".join(row))"
   ]
  },
  {
   "cell_type": "code",
   "execution_count": 277,
   "metadata": {},
   "outputs": [],
   "source": [
    "result = np.sum(monster_free == '#')"
   ]
  },
  {
   "cell_type": "code",
   "execution_count": 278,
   "metadata": {},
   "outputs": [
    {
     "data": {
      "text/plain": [
       "1639"
      ]
     },
     "execution_count": 278,
     "metadata": {},
     "output_type": "execute_result"
    }
   ],
   "source": [
    "result"
   ]
  },
  {
   "cell_type": "code",
   "execution_count": 274,
   "metadata": {},
   "outputs": [
    {
     "name": "stderr",
     "output_type": "stream",
     "text": [
      "answer a: 19955159604613\n",
      "submitting for part b (part a is already completed)\n"
     ]
    },
    {
     "name": "stdout",
     "output_type": "stream",
     "text": [
      "\u001b[32mThat's the right answer!  You are one gold star closer to saving your vacation.You have completed Day 20! You can [Shareon\n",
      "  Twitter\n",
      "Mastodon] this victory or [Return to Your Advent Calendar].\u001b[0m\n"
     ]
    },
    {
     "data": {
      "text/plain": [
       "<Response [200]>"
      ]
     },
     "execution_count": 274,
     "metadata": {},
     "output_type": "execute_result"
    }
   ],
   "source": [
    "submit(result)"
   ]
  },
  {
   "cell_type": "code",
   "execution_count": null,
   "metadata": {},
   "outputs": [],
   "source": []
  }
 ],
 "metadata": {
  "kernelspec": {
   "display_name": "Python 3",
   "language": "python",
   "name": "python3"
  },
  "language_info": {
   "codemirror_mode": {
    "name": "ipython",
    "version": 3
   },
   "file_extension": ".py",
   "mimetype": "text/x-python",
   "name": "python",
   "nbconvert_exporter": "python",
   "pygments_lexer": "ipython3",
   "version": "3.7.6"
  }
 },
 "nbformat": 4,
 "nbformat_minor": 4
}
