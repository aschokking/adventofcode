{
 "cells": [
  {
   "cell_type": "code",
   "execution_count": 1,
   "metadata": {},
   "outputs": [],
   "source": [
    "from aocd import data, submit\n",
    "from util import *"
   ]
  },
  {
   "cell_type": "code",
   "execution_count": 2,
   "metadata": {},
   "outputs": [],
   "source": [
    "sample_data = \"\"\"Player 1:\n",
    "9\n",
    "2\n",
    "6\n",
    "3\n",
    "1\n",
    "\n",
    "Player 2:\n",
    "5\n",
    "8\n",
    "4\n",
    "7\n",
    "10\"\"\""
   ]
  },
  {
   "cell_type": "code",
   "execution_count": 3,
   "metadata": {},
   "outputs": [],
   "source": [
    "def parse_data(data):\n",
    "    return mapl(lambda x: mapl(int, x.splitlines()[1:]), data.split('\\n\\n'))"
   ]
  },
  {
   "cell_type": "code",
   "execution_count": 4,
   "metadata": {},
   "outputs": [],
   "source": [
    "decks = parse_data(data)"
   ]
  },
  {
   "cell_type": "code",
   "execution_count": 5,
   "metadata": {},
   "outputs": [],
   "source": [
    "import numpy as np"
   ]
  },
  {
   "cell_type": "code",
   "execution_count": 6,
   "metadata": {},
   "outputs": [],
   "source": [
    "from copy import deepcopy"
   ]
  },
  {
   "cell_type": "code",
   "execution_count": 7,
   "metadata": {},
   "outputs": [],
   "source": [
    "def apply_round(decks_in):\n",
    "    decks_out = deepcopy(decks_in)\n",
    "    top_cards = [deck.pop(0) for deck in decks_out]\n",
    "    winner_index = np.argmax(top_cards)\n",
    "    cards_sorted = sorted(top_cards, reverse=True)\n",
    "    decks_out[winner_index].extend(cards_sorted)\n",
    "    \n",
    "    return decks_out"
   ]
  },
  {
   "cell_type": "code",
   "execution_count": 60,
   "metadata": {},
   "outputs": [],
   "source": [
    "# play until someone is out of cards\n",
    "while min(mapl(len, decks)) != 0:\n",
    "    decks = apply_round(decks)"
   ]
  },
  {
   "cell_type": "code",
   "execution_count": 62,
   "metadata": {},
   "outputs": [],
   "source": [
    "winner = filterl(lambda x: x != [], decks)[0]"
   ]
  },
  {
   "cell_type": "code",
   "execution_count": 66,
   "metadata": {},
   "outputs": [],
   "source": [
    "result = sum (mapl(np.product, (zip(range(1, len(winner) + 1), winner[::-1]))))"
   ]
  },
  {
   "cell_type": "code",
   "execution_count": 67,
   "metadata": {},
   "outputs": [
    {
     "data": {
      "text/plain": [
       "35299"
      ]
     },
     "execution_count": 67,
     "metadata": {},
     "output_type": "execute_result"
    }
   ],
   "source": [
    "result"
   ]
  },
  {
   "cell_type": "code",
   "execution_count": 68,
   "metadata": {},
   "outputs": [
    {
     "name": "stderr",
     "output_type": "stream",
     "text": [
      "answer a: None\n",
      "submitting for part a\n"
     ]
    },
    {
     "name": "stdout",
     "output_type": "stream",
     "text": [
      "\u001b[32mThat's the right answer!  You are one gold star closer to saving your vacation. [Continue to Part Two]\u001b[0m\n"
     ]
    },
    {
     "data": {
      "text/plain": [
       "<Response [200]>"
      ]
     },
     "execution_count": 68,
     "metadata": {},
     "output_type": "execute_result"
    }
   ],
   "source": [
    "submit(result)"
   ]
  },
  {
   "cell_type": "markdown",
   "metadata": {},
   "source": [
    "# Part 2"
   ]
  },
  {
   "cell_type": "code",
   "execution_count": 8,
   "metadata": {},
   "outputs": [],
   "source": [
    "from typing import List, Dict, Set"
   ]
  },
  {
   "cell_type": "code",
   "execution_count": 59,
   "metadata": {},
   "outputs": [],
   "source": [
    "cache = {}\n",
    "def recursive_combat_game(decks, previous_states: Set[str]) -> int:\n",
    "    # print(f\"Starting game with {len(list(chain.from_iterable(decks)))} cards\")\n",
    "    # print(decks)\n",
    "    \n",
    "    starting_deck_str = \"|\".join(mapl(lambda x: \"-\".join(x), mapl(str, decks)))\n",
    "    if starting_deck_str in cache:\n",
    "        return cache[starting_deck_str]\n",
    "    \n",
    "    while min(mapl(len, decks)) != 0:\n",
    "        #print(f\"Starting round\")\n",
    "        #print(decks)\n",
    "        \n",
    "        deck_str = \"|\".join(mapl(lambda x: \"-\".join(x), mapl(str, decks)))\n",
    "        if deck_str in previous_states:\n",
    "            return 0\n",
    "        else:\n",
    "            previous_states.add(deck_str)\n",
    "        \n",
    "        top_cards = [deck.pop(0) for deck in decks]\n",
    "        remaining_len = mapl(len, decks)\n",
    "        \n",
    "        # test if both players have enough cards to recurse\n",
    "        if all(mapl(lambda x: x[0] <= x[1], zip(top_cards, remaining_len))):\n",
    "            # take top_card number of cards from each deck\n",
    "            slices = mapl(lambda x: x[0][:x[1]], zip(decks, top_cards))\n",
    "            subdecks = deepcopy(slices) # make copies of subdecks\n",
    "            winner_index = recursive_combat_game(subdecks, set())\n",
    "        else:\n",
    "            # if not, player with higher card wins\n",
    "            winner_index = np.argmax(top_cards)\n",
    "\n",
    "        #print(f\"round winner {winner_index}\")\n",
    "        # winner puts their card and then their opponents on the bottom of their deck\n",
    "        decks[winner_index].extend([top_cards[winner_index], top_cards[(winner_index + 1) % 2]])\n",
    "    if len(decks[0]) > 0:\n",
    "        cache[starting_deck_str] = 0\n",
    "    else:\n",
    "        cache[starting_deck_str] = 1\n",
    "    return cache[starting_deck_str]"
   ]
  },
  {
   "cell_type": "code",
   "execution_count": 60,
   "metadata": {},
   "outputs": [],
   "source": [
    "decks = parse_data(data)"
   ]
  },
  {
   "cell_type": "code",
   "execution_count": 61,
   "metadata": {},
   "outputs": [
    {
     "data": {
      "text/plain": [
       "0"
      ]
     },
     "execution_count": 61,
     "metadata": {},
     "output_type": "execute_result"
    }
   ],
   "source": [
    "recursive_combat_game(decks, set())"
   ]
  },
  {
   "cell_type": "code",
   "execution_count": 24,
   "metadata": {},
   "outputs": [
    {
     "data": {
      "text/plain": [
       "[[], [7, 5, 6, 2, 4, 1, 10, 8, 9, 3]]"
      ]
     },
     "execution_count": 24,
     "metadata": {},
     "output_type": "execute_result"
    }
   ],
   "source": [
    "decks"
   ]
  },
  {
   "cell_type": "code",
   "execution_count": null,
   "metadata": {},
   "outputs": [],
   "source": []
  },
  {
   "cell_type": "code",
   "execution_count": 62,
   "metadata": {},
   "outputs": [],
   "source": [
    "winning_deck = filterl(lambda x: x != [], decks)[0]"
   ]
  },
  {
   "cell_type": "code",
   "execution_count": 63,
   "metadata": {},
   "outputs": [],
   "source": [
    "result = sum (mapl(np.product, (zip(range(1, len(winning_deck) + 1), winning_deck[::-1]))))"
   ]
  },
  {
   "cell_type": "code",
   "execution_count": 64,
   "metadata": {},
   "outputs": [
    {
     "data": {
      "text/plain": [
       "33266"
      ]
     },
     "execution_count": 64,
     "metadata": {},
     "output_type": "execute_result"
    }
   ],
   "source": [
    "result"
   ]
  },
  {
   "cell_type": "code",
   "execution_count": 65,
   "metadata": {},
   "outputs": [
    {
     "name": "stderr",
     "output_type": "stream",
     "text": [
      "answer a: 35299\n",
      "submitting for part b (part a is already completed)\n"
     ]
    },
    {
     "name": "stdout",
     "output_type": "stream",
     "text": [
      "\u001b[32mThat's the right answer!  You are one gold star closer to saving your vacation.You have completed Day 22! You can [Shareon\n",
      "  Twitter\n",
      "Mastodon] this victory or [Return to Your Advent Calendar].\u001b[0m\n"
     ]
    },
    {
     "data": {
      "text/plain": [
       "<Response [200]>"
      ]
     },
     "execution_count": 65,
     "metadata": {},
     "output_type": "execute_result"
    }
   ],
   "source": [
    "submit(result)"
   ]
  },
  {
   "cell_type": "code",
   "execution_count": null,
   "metadata": {},
   "outputs": [],
   "source": []
  }
 ],
 "metadata": {
  "kernelspec": {
   "display_name": "Python 3",
   "language": "python",
   "name": "python3"
  },
  "language_info": {
   "codemirror_mode": {
    "name": "ipython",
    "version": 3
   },
   "file_extension": ".py",
   "mimetype": "text/x-python",
   "name": "python",
   "nbconvert_exporter": "python",
   "pygments_lexer": "ipython3",
   "version": "3.7.6"
  }
 },
 "nbformat": 4,
 "nbformat_minor": 4
}
