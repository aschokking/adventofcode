{
 "cells": [
  {
   "cell_type": "code",
   "execution_count": 1,
   "metadata": {},
   "outputs": [
    {
     "name": "stderr",
     "output_type": "stream",
     "text": [
      "2020-12-10 07:55:19,954 getting data year=2020 day=10 token=...7ce0\n",
      "2020-12-10 07:55:20,414 saving the puzzle input token=...7ce0\n"
     ]
    }
   ],
   "source": [
    "from aocd import data, submit"
   ]
  },
  {
   "cell_type": "code",
   "execution_count": 4,
   "metadata": {},
   "outputs": [],
   "source": [
    "input_lines = list(map(int, data.splitlines()))"
   ]
  },
  {
   "cell_type": "code",
   "execution_count": 5,
   "metadata": {},
   "outputs": [
    {
     "data": {
      "text/plain": [
       "[147, 174, 118, 103, 67]"
      ]
     },
     "execution_count": 5,
     "metadata": {},
     "output_type": "execute_result"
    }
   ],
   "source": [
    "input_lines[:5]"
   ]
  },
  {
   "cell_type": "code",
   "execution_count": 36,
   "metadata": {},
   "outputs": [],
   "source": [
    "sample_input1 = list(map(int, \"\"\"16\n",
    "10\n",
    "15\n",
    "5\n",
    "1\n",
    "11\n",
    "7\n",
    "19\n",
    "6\n",
    "12\n",
    "4\"\"\".splitlines()))"
   ]
  },
  {
   "cell_type": "code",
   "execution_count": 49,
   "metadata": {},
   "outputs": [],
   "source": [
    "sample_input2 = list(map(int,\"\"\"28\n",
    "33\n",
    "18\n",
    "42\n",
    "31\n",
    "14\n",
    "46\n",
    "20\n",
    "48\n",
    "47\n",
    "24\n",
    "23\n",
    "49\n",
    "45\n",
    "19\n",
    "38\n",
    "39\n",
    "11\n",
    "1\n",
    "32\n",
    "25\n",
    "35\n",
    "8\n",
    "17\n",
    "7\n",
    "9\n",
    "4\n",
    "2\n",
    "34\n",
    "10\n",
    "3\"\"\".splitlines()))"
   ]
  },
  {
   "cell_type": "code",
   "execution_count": 8,
   "metadata": {},
   "outputs": [],
   "source": [
    "lines = sample_input"
   ]
  },
  {
   "cell_type": "markdown",
   "metadata": {},
   "source": [
    "# Day 1"
   ]
  },
  {
   "cell_type": "code",
   "execution_count": 24,
   "metadata": {},
   "outputs": [],
   "source": [
    "from collections import Counter\n",
    "\n",
    "def part1(lines):\n",
    "    sorted_values = sorted(lines)\n",
    "    # add in last value for computer adapter\n",
    "    sorted_values.append(sorted_values[-1] + 3)\n",
    "    jolt_counts = Counter()\n",
    "    previous = 0\n",
    "    \n",
    "    for value in sorted_values:\n",
    "        jolt_delta = value - previous\n",
    "        jolt_counts[jolt_delta] += 1\n",
    "        previous = value\n",
    "        \n",
    "    return jolt_counts[1] * jolt_counts[3]\n"
   ]
  },
  {
   "cell_type": "code",
   "execution_count": 25,
   "metadata": {},
   "outputs": [],
   "source": [
    "result = part1(input_lines)"
   ]
  },
  {
   "cell_type": "code",
   "execution_count": 26,
   "metadata": {},
   "outputs": [
    {
     "data": {
      "text/plain": [
       "2664"
      ]
     },
     "execution_count": 26,
     "metadata": {},
     "output_type": "execute_result"
    }
   ],
   "source": [
    "result"
   ]
  },
  {
   "cell_type": "code",
   "execution_count": 27,
   "metadata": {},
   "outputs": [
    {
     "name": "stderr",
     "output_type": "stream",
     "text": [
      "2020-12-10 08:00:59,714 answer a: None\n",
      "2020-12-10 08:00:59,715 submitting for part a\n",
      "2020-12-10 08:00:59,716 posting 2664 to https://adventofcode.com/2020/day/10/answer (part a) token=...7ce0\n",
      "2020-12-10 08:01:00,391 saving the correct answer for 2020/10 part a: 2664\n"
     ]
    },
    {
     "name": "stdout",
     "output_type": "stream",
     "text": [
      "\u001b[32mThat's the right answer!  You are one gold star closer to saving your vacation. [Continue to Part Two]\u001b[0m\n"
     ]
    },
    {
     "data": {
      "text/plain": [
       "<Response [200]>"
      ]
     },
     "execution_count": 27,
     "metadata": {},
     "output_type": "execute_result"
    }
   ],
   "source": [
    "submit(result)"
   ]
  },
  {
   "cell_type": "markdown",
   "metadata": {},
   "source": [
    "# Day 2"
   ]
  },
  {
   "cell_type": "code",
   "execution_count": 73,
   "metadata": {},
   "outputs": [],
   "source": [
    "sorted_values = sorted(input_lines)\n",
    "# add in 0 for first value\n",
    "sorted_values.insert(0, 0)\n",
    "# add in last value for computer adapter\n",
    "sorted_values.append(sorted_values[-1] + 3)"
   ]
  },
  {
   "cell_type": "code",
   "execution_count": 70,
   "metadata": {},
   "outputs": [],
   "source": [
    "cache = {}\n",
    "\n",
    "def hash_list(l):\n",
    "    return \",\".join(map(str, l))\n",
    "\n",
    "def part2(sorted_values):\n",
    "    # base case, at the end of the list, only 1 way to get there\n",
    "    if len(sorted_values) == 1:\n",
    "        return 1\n",
    "    \n",
    "    # see if we've computed this list before\n",
    "    list_hash = hash_list(sorted_values)\n",
    "    if list_hash in cache:\n",
    "        return cache[list_hash]\n",
    "    \n",
    "    current = sorted_values[0]\n",
    "    \n",
    "    # see which of the next 3 values are legit options and recurse\n",
    "    result = sum([\n",
    "        part2(sorted_values[i+1:])\n",
    "        for i, value in enumerate(sorted_values[1:4])\n",
    "        if value <= current + 3\n",
    "    ])\n",
    "    \n",
    "    # store results for next time\n",
    "    cache[list_hash] = result\n",
    "    return result\n",
    "    \n"
   ]
  },
  {
   "cell_type": "code",
   "execution_count": 71,
   "metadata": {},
   "outputs": [
    {
     "data": {
      "text/plain": [
       "148098383347712"
      ]
     },
     "execution_count": 71,
     "metadata": {},
     "output_type": "execute_result"
    }
   ],
   "source": [
    "part2(sorted_values)"
   ]
  },
  {
   "cell_type": "code",
   "execution_count": 72,
   "metadata": {},
   "outputs": [
    {
     "name": "stderr",
     "output_type": "stream",
     "text": [
      "2020-12-10 08:21:48,285 answer a: 2664\n",
      "2020-12-10 08:21:48,285 submitting for part b (part a is already completed)\n",
      "2020-12-10 08:21:48,287 posting 148098383347712 to https://adventofcode.com/2020/day/10/answer (part b) token=...7ce0\n",
      "2020-12-10 08:21:48,965 saving the correct answer for 2020/10 part b: 148098383347712\n"
     ]
    },
    {
     "name": "stdout",
     "output_type": "stream",
     "text": [
      "\u001b[32mThat's the right answer!  You are one gold star closer to saving your vacation.You have completed Day 10! You can [Shareon\n",
      "  Twitter\n",
      "Mastodon] this victory or [Return to Your Advent Calendar].\u001b[0m\n"
     ]
    },
    {
     "data": {
      "text/plain": [
       "<Response [200]>"
      ]
     },
     "execution_count": 72,
     "metadata": {},
     "output_type": "execute_result"
    }
   ],
   "source": [
    "submit(part2(sorted_values))"
   ]
  },
  {
   "cell_type": "code",
   "execution_count": null,
   "metadata": {},
   "outputs": [],
   "source": []
  }
 ],
 "metadata": {
  "kernelspec": {
   "display_name": "Python 3",
   "language": "python",
   "name": "python3"
  },
  "language_info": {
   "codemirror_mode": {
    "name": "ipython",
    "version": 3
   },
   "file_extension": ".py",
   "mimetype": "text/x-python",
   "name": "python",
   "nbconvert_exporter": "python",
   "pygments_lexer": "ipython3",
   "version": "3.7.1"
  }
 },
 "nbformat": 4,
 "nbformat_minor": 2
}
