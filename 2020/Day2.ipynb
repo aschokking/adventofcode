{
 "cells": [
  {
   "cell_type": "code",
   "execution_count": 3,
   "metadata": {},
   "outputs": [],
   "source": [
    "input_rows = open('./day2.txt', 'r').read().splitlines()"
   ]
  },
  {
   "cell_type": "code",
   "execution_count": 5,
   "metadata": {},
   "outputs": [
    {
     "data": {
      "text/plain": [
       "['6-10 p: ctpppjmdpppppp',\n",
       " '17-19 l: llllllllllllllllllll',\n",
       " '14-19 z: zrzzzzzztzzzzwzzzzk',\n",
       " '1-8 k: qkkkkkkxkkkkkkkkk',\n",
       " '5-6 x: xxxxvxx']"
      ]
     },
     "execution_count": 5,
     "metadata": {},
     "output_type": "execute_result"
    }
   ],
   "source": [
    "input_rows[:5]"
   ]
  },
  {
   "cell_type": "code",
   "execution_count": 6,
   "metadata": {},
   "outputs": [],
   "source": [
    "import re"
   ]
  },
  {
   "cell_type": "code",
   "execution_count": 9,
   "metadata": {},
   "outputs": [
    {
     "data": {
      "text/plain": [
       "('6', '10', 'p', 'ctpppjmdpppppp')"
      ]
     },
     "execution_count": 9,
     "metadata": {},
     "output_type": "execute_result"
    }
   ],
   "source": [
    "re.search('(\\d+)-(\\d+) ([a-z]): ([a-z]+)', input_rows[0]).groups()"
   ]
  },
  {
   "cell_type": "markdown",
   "metadata": {},
   "source": [
    "## Part 1"
   ]
  },
  {
   "cell_type": "code",
   "execution_count": 32,
   "metadata": {},
   "outputs": [],
   "source": [
    "parsed_rows = [ re.search('(\\d+)-(\\d+) ([a-z]): ([a-z]+)', input_row).groups()\n",
    "                for input_row in input_rows ]"
   ]
  },
  {
   "cell_type": "code",
   "execution_count": 36,
   "metadata": {},
   "outputs": [
    {
     "name": "stdout",
     "output_type": "stream",
     "text": [
      "493\n"
     ]
    }
   ],
   "source": [
    "valid = 0\n",
    "for low, high, letter, text in parsed_rows:\n",
    "    # count number of times letter appears in text\n",
    "    occurances = len(list(filter(lambda x: x == letter, text)))\n",
    "    if occurances >= int(low) and occurances <= int(high):\n",
    "        valid += 1\n",
    "print(valid)"
   ]
  },
  {
   "cell_type": "markdown",
   "metadata": {},
   "source": [
    "## Part 2"
   ]
  },
  {
   "cell_type": "code",
   "execution_count": 35,
   "metadata": {},
   "outputs": [
    {
     "name": "stdout",
     "output_type": "stream",
     "text": [
      "593\n"
     ]
    }
   ],
   "source": [
    "valid = 0\n",
    "for index1, index2, letter, text in parsed_rows:\n",
    "    # count number of times letter appears at index 1 or 2\n",
    "    occurances = len([index for index in (index1, index2) if text[int(index) -1] == letter])\n",
    "    if occurances == 1:\n",
    "        valid += 1\n",
    "print(valid)"
   ]
  },
  {
   "cell_type": "code",
   "execution_count": null,
   "metadata": {},
   "outputs": [],
   "source": []
  }
 ],
 "metadata": {
  "kernelspec": {
   "display_name": "Python 3",
   "language": "python",
   "name": "python3"
  },
  "language_info": {
   "codemirror_mode": {
    "name": "ipython",
    "version": 3
   },
   "file_extension": ".py",
   "mimetype": "text/x-python",
   "name": "python",
   "nbconvert_exporter": "python",
   "pygments_lexer": "ipython3",
   "version": "3.7.1"
  }
 },
 "nbformat": 4,
 "nbformat_minor": 2
}
