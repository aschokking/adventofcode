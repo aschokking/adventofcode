{
 "cells": [
  {
   "cell_type": "code",
   "execution_count": 1,
   "metadata": {},
   "outputs": [],
   "source": [
    "from aocd import data, submit"
   ]
  },
  {
   "cell_type": "code",
   "execution_count": 2,
   "metadata": {},
   "outputs": [],
   "source": [
    "input_data = data"
   ]
  },
  {
   "cell_type": "code",
   "execution_count": 3,
   "metadata": {},
   "outputs": [],
   "source": [
    "sample_data = \"\"\"F10\n",
    "N3\n",
    "F7\n",
    "R90\n",
    "F11\"\"\""
   ]
  },
  {
   "cell_type": "code",
   "execution_count": 5,
   "metadata": {},
   "outputs": [],
   "source": [
    "def parse_instructions_str(input_str):\n",
    "    lines = input_str.splitlines()\n",
    "    return [\n",
    "        (line[0], int(line[1:]))\n",
    "        for line in lines\n",
    "    ]"
   ]
  },
  {
   "cell_type": "code",
   "execution_count": 152,
   "metadata": {},
   "outputs": [],
   "source": [
    "input_lines = parse_instructions_str(input_data)"
   ]
  },
  {
   "cell_type": "code",
   "execution_count": 14,
   "metadata": {},
   "outputs": [
    {
     "data": {
      "text/plain": [
       "[('F', 10), ('N', 3), ('F', 7), ('R', 90), ('F', 11)]"
      ]
     },
     "execution_count": 14,
     "metadata": {},
     "output_type": "execute_result"
    }
   ],
   "source": [
    "input_lines"
   ]
  },
  {
   "cell_type": "code",
   "execution_count": 9,
   "metadata": {},
   "outputs": [],
   "source": [
    "import numpy as np"
   ]
  },
  {
   "cell_type": "code",
   "execution_count": null,
   "metadata": {},
   "outputs": [],
   "source": [
    "# direction logic:\n",
    "# east = 0 => [1, 0]\n",
    "# north = 90 => [0, 1]\n",
    "# west = 180 => [-1, 0]\n",
    "# south = 270 -> [0, -1]"
   ]
  },
  {
   "cell_type": "code",
   "execution_count": 40,
   "metadata": {},
   "outputs": [],
   "source": [
    "\n",
    "\n",
    "def unit_vector_for_dir(direction):\n",
    "    return np.array([\n",
    "        int(math.cos(math.radians(direction))), \n",
    "        int(math.sin(math.radians(direction)))\n",
    "    ])\n",
    "\n",
    "def apply_instruction(instr, amount, pos, direction):\n",
    "    if instr == 'N':\n",
    "        return pos + [0, amount], direction\n",
    "    if instr == 'S':\n",
    "        return pos + [0, -amount], direction\n",
    "    if instr == 'E':\n",
    "        return pos + [amount, 0], direction\n",
    "    if instr == 'W':\n",
    "        return pos + [-amount, 0], direction\n",
    "    if instr == 'L':\n",
    "        return pos, (direction + amount) % 360\n",
    "    if instr == 'R':\n",
    "        return pos, (direction - amount) % 360\n",
    "    if instr == 'F':\n",
    "        # move along direction by amount\n",
    "        dir_vector = unit_vector_for_dir(direction)\n",
    "        return pos + dir_vector * amount, direction\n",
    "    if instr == 'B':\n",
    "        # move along direction by amount\n",
    "        dir_vector = unit_vector_for_dir(direction)\n",
    "        return pos + dir_vector * -amount, direction\n",
    "    raise Exception(\"unknown instr\")"
   ]
  },
  {
   "cell_type": "markdown",
   "metadata": {},
   "source": [
    "# Part 1"
   ]
  },
  {
   "cell_type": "code",
   "execution_count": 49,
   "metadata": {},
   "outputs": [],
   "source": [
    "pos = np.array([0, 0])\n",
    "direction = 0\n",
    "for instr, amount in input_lines:\n",
    "    pos, direction = apply_instruction(instr, amount, pos, direction)"
   ]
  },
  {
   "cell_type": "code",
   "execution_count": 50,
   "metadata": {},
   "outputs": [
    {
     "data": {
      "text/plain": [
       "array([ 507, -917])"
      ]
     },
     "execution_count": 50,
     "metadata": {},
     "output_type": "execute_result"
    }
   ],
   "source": [
    "pos"
   ]
  },
  {
   "cell_type": "code",
   "execution_count": 51,
   "metadata": {},
   "outputs": [],
   "source": [
    "result = sum(np.abs(pos))"
   ]
  },
  {
   "cell_type": "code",
   "execution_count": 52,
   "metadata": {},
   "outputs": [
    {
     "data": {
      "text/plain": [
       "1424"
      ]
     },
     "execution_count": 52,
     "metadata": {},
     "output_type": "execute_result"
    }
   ],
   "source": [
    "result"
   ]
  },
  {
   "cell_type": "code",
   "execution_count": 53,
   "metadata": {},
   "outputs": [
    {
     "name": "stderr",
     "output_type": "stream",
     "text": [
      "answer a: None\n",
      "submitting for part a\n"
     ]
    },
    {
     "name": "stdout",
     "output_type": "stream",
     "text": [
      "\u001b[32mThat's the right answer!  You are one gold star closer to saving your vacation. [Continue to Part Two]\u001b[0m\n"
     ]
    },
    {
     "data": {
      "text/plain": [
       "<Response [200]>"
      ]
     },
     "execution_count": 53,
     "metadata": {},
     "output_type": "execute_result"
    }
   ],
   "source": [
    "submit(result)"
   ]
  },
  {
   "cell_type": "markdown",
   "metadata": {},
   "source": [
    "# Part 2"
   ]
  },
  {
   "cell_type": "code",
   "execution_count": 153,
   "metadata": {},
   "outputs": [],
   "source": [
    "def rotate_vector(pos, amount_deg):\n",
    "    try:\n",
    "        angle = math.radians(-amount_deg)\n",
    "        c, s = np.cos(angle), np.sin(angle)\n",
    "        j = np.matrix([[c, s], [-s, c]])\n",
    "        return np.rint(np.asarray(np.dot(j, pos))[0, :]).astype(int)\n",
    "    except Exception as e:\n",
    "        import pdb; pdb.set_trace()"
   ]
  },
  {
   "cell_type": "code",
   "execution_count": 154,
   "metadata": {},
   "outputs": [],
   "source": [
    "def apply_instruction_2(instr, amount, pos, waypoint):\n",
    "    if instr == 'N':\n",
    "        return pos, waypoint + [0, amount]\n",
    "    if instr == 'S':\n",
    "        return pos, waypoint + [0, -amount]\n",
    "    if instr == 'E':\n",
    "        return pos, waypoint + [amount, 0]\n",
    "    if instr == 'W':\n",
    "        return pos, waypoint + [-amount, 0]\n",
    "    if instr == 'L':\n",
    "        # rotate vector \n",
    "        return pos, rotate_vector(waypoint, amount)\n",
    "    if instr == 'R':\n",
    "        return pos, rotate_vector(waypoint, -amount)\n",
    "    if instr == 'F':\n",
    "        # move along way * amount\n",
    "        return pos + (waypoint * amount), waypoint\n",
    "    if instr == 'B':\n",
    "        return pos + (waypoint * -amount), waypoint\n",
    "    raise Exception(\"unknown instr\")"
   ]
  },
  {
   "cell_type": "code",
   "execution_count": 156,
   "metadata": {},
   "outputs": [],
   "source": [
    "pos = np.array([0, 0])\n",
    "waypoint = np.array([10, 1])\n",
    "for instr, amount in input_lines:\n",
    "    pos, waypoint = apply_instruction_2(instr, amount, pos, waypoint)\n",
    "    # print(f\"{pos} -- {waypoint}\")"
   ]
  },
  {
   "cell_type": "code",
   "execution_count": 157,
   "metadata": {},
   "outputs": [
    {
     "data": {
      "text/plain": [
       "array([-24386, -39061])"
      ]
     },
     "execution_count": 157,
     "metadata": {},
     "output_type": "execute_result"
    }
   ],
   "source": [
    "pos"
   ]
  },
  {
   "cell_type": "code",
   "execution_count": 158,
   "metadata": {},
   "outputs": [],
   "source": [
    "result = sum(np.abs(pos))"
   ]
  },
  {
   "cell_type": "code",
   "execution_count": 159,
   "metadata": {},
   "outputs": [
    {
     "data": {
      "text/plain": [
       "63447"
      ]
     },
     "execution_count": 159,
     "metadata": {},
     "output_type": "execute_result"
    }
   ],
   "source": [
    "result"
   ]
  },
  {
   "cell_type": "code",
   "execution_count": 160,
   "metadata": {},
   "outputs": [
    {
     "name": "stderr",
     "output_type": "stream",
     "text": [
      "answer a: 1424\n",
      "submitting for part b (part a is already completed)\n"
     ]
    },
    {
     "name": "stdout",
     "output_type": "stream",
     "text": [
      "\u001b[32mThat's the right answer!  You are one gold star closer to saving your vacation.You have completed Day 12! You can [Shareon\n",
      "  Twitter\n",
      "Mastodon] this victory or [Return to Your Advent Calendar].\u001b[0m\n"
     ]
    },
    {
     "data": {
      "text/plain": [
       "<Response [200]>"
      ]
     },
     "execution_count": 160,
     "metadata": {},
     "output_type": "execute_result"
    }
   ],
   "source": [
    "submit(result)"
   ]
  },
  {
   "cell_type": "code",
   "execution_count": null,
   "metadata": {},
   "outputs": [],
   "source": []
  }
 ],
 "metadata": {
  "kernelspec": {
   "display_name": "Python 3",
   "language": "python",
   "name": "python3"
  },
  "language_info": {
   "codemirror_mode": {
    "name": "ipython",
    "version": 3
   },
   "file_extension": ".py",
   "mimetype": "text/x-python",
   "name": "python",
   "nbconvert_exporter": "python",
   "pygments_lexer": "ipython3",
   "version": "3.7.6"
  }
 },
 "nbformat": 4,
 "nbformat_minor": 4
}
